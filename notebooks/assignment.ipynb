{
 "cells": [
  {
   "cell_type": "markdown",
   "id": "8021d6fceb87dc8c",
   "metadata": {},
   "source": [
    "# Machine Learning - Assignment\n",
    "\n",
    "## Base"
   ]
  },
  {
   "cell_type": "code",
   "id": "initial_id",
   "metadata": {
    "collapsed": true,
    "jupyter": {
     "outputs_hidden": true
    },
    "ExecuteTime": {
     "end_time": "2024-06-26T22:32:19.503454Z",
     "start_time": "2024-06-26T22:32:18.013360Z"
    }
   },
   "source": [
    "import matplotlib.pyplot as plt\n",
    "import pandas as pd\n",
    "import seaborn as sns\n",
    "\n",
    "data = pd.read_csv('../data.csv', sep='|', dtype={'client_id': str})\n",
    "data.shape"
   ],
   "outputs": [
    {
     "data": {
      "text/plain": [
       "(238616, 77)"
      ]
     },
     "execution_count": 1,
     "metadata": {},
     "output_type": "execute_result"
    }
   ],
   "execution_count": 1
  },
  {
   "cell_type": "code",
   "id": "4256f3e1b895d56d",
   "metadata": {
    "ExecuteTime": {
     "end_time": "2024-06-26T22:32:19.675919Z",
     "start_time": "2024-06-26T22:32:19.504455Z"
    }
   },
   "source": [
    "data.info()"
   ],
   "outputs": [
    {
     "name": "stdout",
     "output_type": "stream",
     "text": [
      "<class 'pandas.core.frame.DataFrame'>\n",
      "RangeIndex: 238616 entries, 0 to 238615\n",
      "Data columns (total 77 columns):\n",
      " #   Column                                         Non-Null Count   Dtype  \n",
      "---  ------                                         --------------   -----  \n",
      " 0   client_id                                      238616 non-null  object \n",
      " 1   Target                                         238615 non-null  float64\n",
      " 2   Month                                          238615 non-null  object \n",
      " 3   First_product_dt                               238615 non-null  object \n",
      " 4   Last_product_dt                                238615 non-null  object \n",
      " 5   CreditCard_Premium                             238615 non-null  object \n",
      " 6   CreditCard_Active                              238615 non-null  object \n",
      " 7   CreditCard_CoBranding                          238615 non-null  object \n",
      " 8   Loan_Active                                    238615 non-null  object \n",
      " 9   Mortgage_Active                                238615 non-null  object \n",
      " 10  SavingAccount_Active_ARG_Salary                238615 non-null  object \n",
      " 11  SavingAccount_Active_ARG                       238615 non-null  object \n",
      " 12  SavingAccount_Active_DOLLAR                    238615 non-null  object \n",
      " 13  DebitCard_Active                               238615 non-null  object \n",
      " 14  Investment_Active                              238615 non-null  object \n",
      " 15  Package_Active                                 238615 non-null  object \n",
      " 16  Insurance_Life                                 238615 non-null  object \n",
      " 17  Insurance_Home                                 238615 non-null  object \n",
      " 18  Insurance_Accidents                            238615 non-null  object \n",
      " 19  Insurance_Mobile                               238615 non-null  object \n",
      " 20  Insurance_ATM                                  238615 non-null  object \n",
      " 21  Insurance_Unemployment                         238615 non-null  object \n",
      " 22  Sex                                            238615 non-null  object \n",
      " 23  Client_Age_grp                                 238615 non-null  object \n",
      " 24  SavingAccount_Balance_FirstDate                238615 non-null  float64\n",
      " 25  SavingAccount_Balance_LastDate                 238615 non-null  float64\n",
      " 26  SavingAccount_Balance_Average                  238610 non-null  float64\n",
      " 27  SavingAccount_Days_with_use                    238615 non-null  float64\n",
      " 28  SavingAccount_Days_with_Credits                238615 non-null  float64\n",
      " 29  SavingAccount_Days_with_Debits                 238615 non-null  float64\n",
      " 30  SavingAccount_Salary_Payment_Transactions      238615 non-null  float64\n",
      " 31  SavingAccount_Transfer_In_Transactions         238615 non-null  float64\n",
      " 32  SavingAccount_ATM_Extraction_Transactions      238615 non-null  float64\n",
      " 33  SavingAccount_Service_Payment_Transactions     238615 non-null  float64\n",
      " 34  SavingAccount_CreditCard_Payment_Transactions  238615 non-null  float64\n",
      " 35  SavingAccount_Transfer_Out_Transactions        238615 non-null  float64\n",
      " 36  SavingAccount_DebitCard_Spend_Transactions     238615 non-null  float64\n",
      " 37  SavingAccount_Transactions_Transactions        238615 non-null  float64\n",
      " 38  SavingAccount_Credits_Transactions             238615 non-null  float64\n",
      " 39  SavingAccount_Debits_Transactions              238615 non-null  float64\n",
      " 40  SavingAccount_Salary_Payment_Amount            238615 non-null  float64\n",
      " 41  SavingAccount_Transfer_In_Amount               238615 non-null  float64\n",
      " 42  SavingAccount_ATM_Extraction_Amount            238615 non-null  float64\n",
      " 43  SavingAccount_Service_Payment_Amount           238615 non-null  float64\n",
      " 44  SavingAccount_CreditCard_Payment_Amount        238615 non-null  float64\n",
      " 45  SavingAccount_Transfer_Out_Amount              238615 non-null  float64\n",
      " 46  SavingAccount_DebitCard_Spend_Amount           238615 non-null  float64\n",
      " 47  SavingAccount_Total_Amount                     238615 non-null  float64\n",
      " 48  SavingAccount_Credits_Amounts                  238615 non-null  float64\n",
      " 49  SavingAccount_Debits_Amounts                   238615 non-null  float64\n",
      " 50  Operations_Bank                                238615 non-null  float64\n",
      " 51  Operations_Terminal                            238615 non-null  float64\n",
      " 52  Operations_HomeBanking                         238615 non-null  float64\n",
      " 53  Operations_Mobile                              238615 non-null  float64\n",
      " 54  Operations_Ivr                                 238615 non-null  float64\n",
      " 55  Operations_Telemarketer                        238615 non-null  float64\n",
      " 56  Operations_ATM                                 238615 non-null  float64\n",
      " 57  CreditCard_Balance_ARG                         238615 non-null  float64\n",
      " 58  CreditCard_Balance_DOLLAR                      238615 non-null  float64\n",
      " 59  CreditCard_Total_Limit                         238615 non-null  float64\n",
      " 60  CreditCard_Total_Spending                      238615 non-null  float64\n",
      " 61  CreditCard_Spending_1_Installment              238615 non-null  float64\n",
      " 62  CreditCard_Spending_Installments               238615 non-null  float64\n",
      " 63  CreditCard_Spending_CrossBoarder               238615 non-null  float64\n",
      " 64  CreditCard_Spending_Aut_Debits                 238615 non-null  float64\n",
      " 65  CreditCard_Revolving                           238615 non-null  float64\n",
      " 66  CreditCard_Payment_Aut_Debit                   238615 non-null  float64\n",
      " 67  CreditCard_Payment_External                    238615 non-null  float64\n",
      " 68  CreditCard_Payment_Cash                        238615 non-null  float64\n",
      " 69  CreditCard_Payment_Web                         238615 non-null  float64\n",
      " 70  CreditCard_Payment_ATM                         238615 non-null  float64\n",
      " 71  CreditCard_Payment_TAS                         238615 non-null  float64\n",
      " 72  Investment_Numbers                             238615 non-null  float64\n",
      " 73  Mobile                                         238615 non-null  object \n",
      " 74  Email                                          238615 non-null  object \n",
      " 75  Region                                         53080 non-null   object \n",
      " 76  CreditCard_Product                             36636 non-null   object \n",
      "dtypes: float64(50), object(27)\n",
      "memory usage: 140.2+ MB\n"
     ]
    }
   ],
   "execution_count": 2
  },
  {
   "cell_type": "code",
   "id": "c3170cf6a72dbaec",
   "metadata": {
    "ExecuteTime": {
     "end_time": "2024-06-26T22:32:19.782746Z",
     "start_time": "2024-06-26T22:32:19.676919Z"
    }
   },
   "source": [
    "data"
   ],
   "outputs": [
    {
     "data": {
      "text/plain": [
       "                     client_id  Target       Month First_product_dt  \\\n",
       "0                      5856970     1.0  2018-10-01       2013-10-23   \n",
       "1                      6371753     0.0  2018-09-01       2015-07-29   \n",
       "2                      5928737     0.0  2019-01-01       2016-08-31   \n",
       "3                       475064     0.0  2018-12-01       2014-07-13   \n",
       "4                      3615172     0.0  2018-09-01       2017-12-27   \n",
       "...                        ...     ...         ...              ...   \n",
       "238611                 6377583     0.0  2019-04-01       2015-06-03   \n",
       "238612                 6412619     0.0  2019-01-01       2015-07-08   \n",
       "238613                 5542402     0.0  2019-04-01       2012-09-13   \n",
       "238614                 5921880     0.0  2019-03-01       2014-01-30   \n",
       "238615  (238615 rows affected)     NaN         NaN              NaN   \n",
       "\n",
       "       Last_product_dt CreditCard_Premium CreditCard_Active  \\\n",
       "0           2019-01-10                 No               Yes   \n",
       "1           2018-06-02                 No                No   \n",
       "2           2018-12-27                 No                No   \n",
       "3           2017-11-30                 No               Yes   \n",
       "4           2017-12-28                 No                No   \n",
       "...                ...                ...               ...   \n",
       "238611      2019-01-04                 No               Yes   \n",
       "238612      2018-06-02                 No                No   \n",
       "238613      2012-09-13                 No               Yes   \n",
       "238614      2017-05-24                 No                No   \n",
       "238615             NaN                NaN               NaN   \n",
       "\n",
       "       CreditCard_CoBranding Loan_Active Mortgage_Active  ...  \\\n",
       "0                         No          No              No  ...   \n",
       "1                         No          No              No  ...   \n",
       "2                         No          No              No  ...   \n",
       "3                         No          No              No  ...   \n",
       "4                         No          No              No  ...   \n",
       "...                      ...         ...             ...  ...   \n",
       "238611                    No         Yes              No  ...   \n",
       "238612                    No         Yes              No  ...   \n",
       "238613                    No          No              No  ...   \n",
       "238614                    No          No              No  ...   \n",
       "238615                   NaN         NaN             NaN  ...   \n",
       "\n",
       "       CreditCard_Payment_External CreditCard_Payment_Cash  \\\n",
       "0                              0.0                     0.0   \n",
       "1                              0.0                     0.0   \n",
       "2                              0.0                     0.0   \n",
       "3                              0.0                     0.0   \n",
       "4                              0.0                     0.0   \n",
       "...                            ...                     ...   \n",
       "238611                         0.0                     0.0   \n",
       "238612                         0.0                     0.0   \n",
       "238613                         0.0                     0.0   \n",
       "238614                         0.0                     0.0   \n",
       "238615                         NaN                     NaN   \n",
       "\n",
       "       CreditCard_Payment_Web CreditCard_Payment_ATM CreditCard_Payment_TAS  \\\n",
       "0                         0.0                    0.0                    0.0   \n",
       "1                         0.0                    0.0                    0.0   \n",
       "2                         0.0                    0.0                    0.0   \n",
       "3                         0.0                    0.0                    0.0   \n",
       "4                         0.0                    0.0                    0.0   \n",
       "...                       ...                    ...                    ...   \n",
       "238611                    0.0                    0.0                    0.0   \n",
       "238612                    0.0                    0.0                    0.0   \n",
       "238613                    0.0                    1.0                    0.0   \n",
       "238614                    0.0                    0.0                    0.0   \n",
       "238615                    NaN                    NaN                    NaN   \n",
       "\n",
       "       Investment_Numbers Mobile Email                         Region  \\\n",
       "0                     1.0    Yes   Yes                            NaN   \n",
       "1                     0.0    Yes    No                            NaN   \n",
       "2                     0.0    Yes   Yes                            NaN   \n",
       "3                     0.0    Yes   Yes                            NaN   \n",
       "4                     0.0    Yes    No                            NaN   \n",
       "...                   ...    ...   ...                            ...   \n",
       "238611                0.0    Yes   Yes                   BUENOS AIRES   \n",
       "238612                0.0    Yes    No                            NaN   \n",
       "238613                0.0     No   Yes  REGION NORTE GRANDE ARGENTINO   \n",
       "238614                0.0    Yes   Yes              CABA Centro/Norte   \n",
       "238615                NaN    NaN   NaN                            NaN   \n",
       "\n",
       "       CreditCard_Product  \n",
       "0                     NaN  \n",
       "1                     NaN  \n",
       "2                     NaN  \n",
       "3                     NaN  \n",
       "4                     NaN  \n",
       "...                   ...  \n",
       "238611     J55660104XX012  \n",
       "238612                NaN  \n",
       "238613     J55660104XX012  \n",
       "238614                NaN  \n",
       "238615                NaN  \n",
       "\n",
       "[238616 rows x 77 columns]"
      ],
      "text/html": [
       "<div>\n",
       "<style scoped>\n",
       "    .dataframe tbody tr th:only-of-type {\n",
       "        vertical-align: middle;\n",
       "    }\n",
       "\n",
       "    .dataframe tbody tr th {\n",
       "        vertical-align: top;\n",
       "    }\n",
       "\n",
       "    .dataframe thead th {\n",
       "        text-align: right;\n",
       "    }\n",
       "</style>\n",
       "<table border=\"1\" class=\"dataframe\">\n",
       "  <thead>\n",
       "    <tr style=\"text-align: right;\">\n",
       "      <th></th>\n",
       "      <th>client_id</th>\n",
       "      <th>Target</th>\n",
       "      <th>Month</th>\n",
       "      <th>First_product_dt</th>\n",
       "      <th>Last_product_dt</th>\n",
       "      <th>CreditCard_Premium</th>\n",
       "      <th>CreditCard_Active</th>\n",
       "      <th>CreditCard_CoBranding</th>\n",
       "      <th>Loan_Active</th>\n",
       "      <th>Mortgage_Active</th>\n",
       "      <th>...</th>\n",
       "      <th>CreditCard_Payment_External</th>\n",
       "      <th>CreditCard_Payment_Cash</th>\n",
       "      <th>CreditCard_Payment_Web</th>\n",
       "      <th>CreditCard_Payment_ATM</th>\n",
       "      <th>CreditCard_Payment_TAS</th>\n",
       "      <th>Investment_Numbers</th>\n",
       "      <th>Mobile</th>\n",
       "      <th>Email</th>\n",
       "      <th>Region</th>\n",
       "      <th>CreditCard_Product</th>\n",
       "    </tr>\n",
       "  </thead>\n",
       "  <tbody>\n",
       "    <tr>\n",
       "      <th>0</th>\n",
       "      <td>5856970</td>\n",
       "      <td>1.0</td>\n",
       "      <td>2018-10-01</td>\n",
       "      <td>2013-10-23</td>\n",
       "      <td>2019-01-10</td>\n",
       "      <td>No</td>\n",
       "      <td>Yes</td>\n",
       "      <td>No</td>\n",
       "      <td>No</td>\n",
       "      <td>No</td>\n",
       "      <td>...</td>\n",
       "      <td>0.0</td>\n",
       "      <td>0.0</td>\n",
       "      <td>0.0</td>\n",
       "      <td>0.0</td>\n",
       "      <td>0.0</td>\n",
       "      <td>1.0</td>\n",
       "      <td>Yes</td>\n",
       "      <td>Yes</td>\n",
       "      <td>NaN</td>\n",
       "      <td>NaN</td>\n",
       "    </tr>\n",
       "    <tr>\n",
       "      <th>1</th>\n",
       "      <td>6371753</td>\n",
       "      <td>0.0</td>\n",
       "      <td>2018-09-01</td>\n",
       "      <td>2015-07-29</td>\n",
       "      <td>2018-06-02</td>\n",
       "      <td>No</td>\n",
       "      <td>No</td>\n",
       "      <td>No</td>\n",
       "      <td>No</td>\n",
       "      <td>No</td>\n",
       "      <td>...</td>\n",
       "      <td>0.0</td>\n",
       "      <td>0.0</td>\n",
       "      <td>0.0</td>\n",
       "      <td>0.0</td>\n",
       "      <td>0.0</td>\n",
       "      <td>0.0</td>\n",
       "      <td>Yes</td>\n",
       "      <td>No</td>\n",
       "      <td>NaN</td>\n",
       "      <td>NaN</td>\n",
       "    </tr>\n",
       "    <tr>\n",
       "      <th>2</th>\n",
       "      <td>5928737</td>\n",
       "      <td>0.0</td>\n",
       "      <td>2019-01-01</td>\n",
       "      <td>2016-08-31</td>\n",
       "      <td>2018-12-27</td>\n",
       "      <td>No</td>\n",
       "      <td>No</td>\n",
       "      <td>No</td>\n",
       "      <td>No</td>\n",
       "      <td>No</td>\n",
       "      <td>...</td>\n",
       "      <td>0.0</td>\n",
       "      <td>0.0</td>\n",
       "      <td>0.0</td>\n",
       "      <td>0.0</td>\n",
       "      <td>0.0</td>\n",
       "      <td>0.0</td>\n",
       "      <td>Yes</td>\n",
       "      <td>Yes</td>\n",
       "      <td>NaN</td>\n",
       "      <td>NaN</td>\n",
       "    </tr>\n",
       "    <tr>\n",
       "      <th>3</th>\n",
       "      <td>475064</td>\n",
       "      <td>0.0</td>\n",
       "      <td>2018-12-01</td>\n",
       "      <td>2014-07-13</td>\n",
       "      <td>2017-11-30</td>\n",
       "      <td>No</td>\n",
       "      <td>Yes</td>\n",
       "      <td>No</td>\n",
       "      <td>No</td>\n",
       "      <td>No</td>\n",
       "      <td>...</td>\n",
       "      <td>0.0</td>\n",
       "      <td>0.0</td>\n",
       "      <td>0.0</td>\n",
       "      <td>0.0</td>\n",
       "      <td>0.0</td>\n",
       "      <td>0.0</td>\n",
       "      <td>Yes</td>\n",
       "      <td>Yes</td>\n",
       "      <td>NaN</td>\n",
       "      <td>NaN</td>\n",
       "    </tr>\n",
       "    <tr>\n",
       "      <th>4</th>\n",
       "      <td>3615172</td>\n",
       "      <td>0.0</td>\n",
       "      <td>2018-09-01</td>\n",
       "      <td>2017-12-27</td>\n",
       "      <td>2017-12-28</td>\n",
       "      <td>No</td>\n",
       "      <td>No</td>\n",
       "      <td>No</td>\n",
       "      <td>No</td>\n",
       "      <td>No</td>\n",
       "      <td>...</td>\n",
       "      <td>0.0</td>\n",
       "      <td>0.0</td>\n",
       "      <td>0.0</td>\n",
       "      <td>0.0</td>\n",
       "      <td>0.0</td>\n",
       "      <td>0.0</td>\n",
       "      <td>Yes</td>\n",
       "      <td>No</td>\n",
       "      <td>NaN</td>\n",
       "      <td>NaN</td>\n",
       "    </tr>\n",
       "    <tr>\n",
       "      <th>...</th>\n",
       "      <td>...</td>\n",
       "      <td>...</td>\n",
       "      <td>...</td>\n",
       "      <td>...</td>\n",
       "      <td>...</td>\n",
       "      <td>...</td>\n",
       "      <td>...</td>\n",
       "      <td>...</td>\n",
       "      <td>...</td>\n",
       "      <td>...</td>\n",
       "      <td>...</td>\n",
       "      <td>...</td>\n",
       "      <td>...</td>\n",
       "      <td>...</td>\n",
       "      <td>...</td>\n",
       "      <td>...</td>\n",
       "      <td>...</td>\n",
       "      <td>...</td>\n",
       "      <td>...</td>\n",
       "      <td>...</td>\n",
       "      <td>...</td>\n",
       "    </tr>\n",
       "    <tr>\n",
       "      <th>238611</th>\n",
       "      <td>6377583</td>\n",
       "      <td>0.0</td>\n",
       "      <td>2019-04-01</td>\n",
       "      <td>2015-06-03</td>\n",
       "      <td>2019-01-04</td>\n",
       "      <td>No</td>\n",
       "      <td>Yes</td>\n",
       "      <td>No</td>\n",
       "      <td>Yes</td>\n",
       "      <td>No</td>\n",
       "      <td>...</td>\n",
       "      <td>0.0</td>\n",
       "      <td>0.0</td>\n",
       "      <td>0.0</td>\n",
       "      <td>0.0</td>\n",
       "      <td>0.0</td>\n",
       "      <td>0.0</td>\n",
       "      <td>Yes</td>\n",
       "      <td>Yes</td>\n",
       "      <td>BUENOS AIRES</td>\n",
       "      <td>J55660104XX012</td>\n",
       "    </tr>\n",
       "    <tr>\n",
       "      <th>238612</th>\n",
       "      <td>6412619</td>\n",
       "      <td>0.0</td>\n",
       "      <td>2019-01-01</td>\n",
       "      <td>2015-07-08</td>\n",
       "      <td>2018-06-02</td>\n",
       "      <td>No</td>\n",
       "      <td>No</td>\n",
       "      <td>No</td>\n",
       "      <td>Yes</td>\n",
       "      <td>No</td>\n",
       "      <td>...</td>\n",
       "      <td>0.0</td>\n",
       "      <td>0.0</td>\n",
       "      <td>0.0</td>\n",
       "      <td>0.0</td>\n",
       "      <td>0.0</td>\n",
       "      <td>0.0</td>\n",
       "      <td>Yes</td>\n",
       "      <td>No</td>\n",
       "      <td>NaN</td>\n",
       "      <td>NaN</td>\n",
       "    </tr>\n",
       "    <tr>\n",
       "      <th>238613</th>\n",
       "      <td>5542402</td>\n",
       "      <td>0.0</td>\n",
       "      <td>2019-04-01</td>\n",
       "      <td>2012-09-13</td>\n",
       "      <td>2012-09-13</td>\n",
       "      <td>No</td>\n",
       "      <td>Yes</td>\n",
       "      <td>No</td>\n",
       "      <td>No</td>\n",
       "      <td>No</td>\n",
       "      <td>...</td>\n",
       "      <td>0.0</td>\n",
       "      <td>0.0</td>\n",
       "      <td>0.0</td>\n",
       "      <td>1.0</td>\n",
       "      <td>0.0</td>\n",
       "      <td>0.0</td>\n",
       "      <td>No</td>\n",
       "      <td>Yes</td>\n",
       "      <td>REGION NORTE GRANDE ARGENTINO</td>\n",
       "      <td>J55660104XX012</td>\n",
       "    </tr>\n",
       "    <tr>\n",
       "      <th>238614</th>\n",
       "      <td>5921880</td>\n",
       "      <td>0.0</td>\n",
       "      <td>2019-03-01</td>\n",
       "      <td>2014-01-30</td>\n",
       "      <td>2017-05-24</td>\n",
       "      <td>No</td>\n",
       "      <td>No</td>\n",
       "      <td>No</td>\n",
       "      <td>No</td>\n",
       "      <td>No</td>\n",
       "      <td>...</td>\n",
       "      <td>0.0</td>\n",
       "      <td>0.0</td>\n",
       "      <td>0.0</td>\n",
       "      <td>0.0</td>\n",
       "      <td>0.0</td>\n",
       "      <td>0.0</td>\n",
       "      <td>Yes</td>\n",
       "      <td>Yes</td>\n",
       "      <td>CABA Centro/Norte</td>\n",
       "      <td>NaN</td>\n",
       "    </tr>\n",
       "    <tr>\n",
       "      <th>238615</th>\n",
       "      <td>(238615 rows affected)</td>\n",
       "      <td>NaN</td>\n",
       "      <td>NaN</td>\n",
       "      <td>NaN</td>\n",
       "      <td>NaN</td>\n",
       "      <td>NaN</td>\n",
       "      <td>NaN</td>\n",
       "      <td>NaN</td>\n",
       "      <td>NaN</td>\n",
       "      <td>NaN</td>\n",
       "      <td>...</td>\n",
       "      <td>NaN</td>\n",
       "      <td>NaN</td>\n",
       "      <td>NaN</td>\n",
       "      <td>NaN</td>\n",
       "      <td>NaN</td>\n",
       "      <td>NaN</td>\n",
       "      <td>NaN</td>\n",
       "      <td>NaN</td>\n",
       "      <td>NaN</td>\n",
       "      <td>NaN</td>\n",
       "    </tr>\n",
       "  </tbody>\n",
       "</table>\n",
       "<p>238616 rows × 77 columns</p>\n",
       "</div>"
      ]
     },
     "execution_count": 3,
     "metadata": {},
     "output_type": "execute_result"
    }
   ],
   "execution_count": 3
  },
  {
   "cell_type": "code",
   "id": "2c498c7e012b6160",
   "metadata": {
    "ExecuteTime": {
     "end_time": "2024-06-26T22:32:19.830262Z",
     "start_time": "2024-06-26T22:32:19.783745Z"
    }
   },
   "source": [
    "data_9m = pd.DataFrame(data.client_id.value_counts().reset_index())\n",
    "data_9m.columns = ['client_id', 'q_months']"
   ],
   "outputs": [],
   "execution_count": 4
  },
  {
   "cell_type": "code",
   "id": "aa7e8a901bcd90c0",
   "metadata": {
    "ExecuteTime": {
     "end_time": "2024-06-26T22:32:19.845775Z",
     "start_time": "2024-06-26T22:32:19.831260Z"
    }
   },
   "source": [
    "data_9m = data_9m[data_9m.q_months == 9].copy()"
   ],
   "outputs": [],
   "execution_count": 5
  },
  {
   "cell_type": "code",
   "id": "a9368e621c7a6bf3",
   "metadata": {
    "ExecuteTime": {
     "end_time": "2024-06-26T22:32:19.875776Z",
     "start_time": "2024-06-26T22:32:19.846775Z"
    }
   },
   "source": [
    "data.Package_Active.value_counts()"
   ],
   "outputs": [
    {
     "data": {
      "text/plain": [
       "Package_Active\n",
       "No     234177\n",
       "Yes      4438\n",
       "Name: count, dtype: int64"
      ]
     },
     "execution_count": 6,
     "metadata": {},
     "output_type": "execute_result"
    }
   ],
   "execution_count": 6
  },
  {
   "cell_type": "code",
   "id": "33a6f8bed15970c4",
   "metadata": {
    "ExecuteTime": {
     "end_time": "2024-06-26T22:32:19.936807Z",
     "start_time": "2024-06-26T22:32:19.876776Z"
    }
   },
   "source": [
    "data_no_package = data[(data.Package_Active == 'No') & (data.Month == '2019-01-01')][['client_id']]"
   ],
   "outputs": [],
   "execution_count": 7
  },
  {
   "cell_type": "code",
   "id": "5618cbe2d103025d",
   "metadata": {
    "ExecuteTime": {
     "end_time": "2024-06-26T22:32:19.952809Z",
     "start_time": "2024-06-26T22:32:19.939808Z"
    }
   },
   "source": [
    "data.Target.value_counts()"
   ],
   "outputs": [
    {
     "data": {
      "text/plain": [
       "Target\n",
       "0.0    176359\n",
       "1.0     62256\n",
       "Name: count, dtype: int64"
      ]
     },
     "execution_count": 8,
     "metadata": {},
     "output_type": "execute_result"
    }
   ],
   "execution_count": 8
  },
  {
   "cell_type": "code",
   "id": "664a152025ea0ce4",
   "metadata": {
    "ExecuteTime": {
     "end_time": "2024-06-26T22:32:20.000327Z",
     "start_time": "2024-06-26T22:32:19.953808Z"
    }
   },
   "source": [
    "data_target = data[(data.Target == 1) & (data.Month.isin(['2019-04-01', '2019-03-01']))][\n",
    "    ['client_id']].drop_duplicates()"
   ],
   "outputs": [],
   "execution_count": 9
  },
  {
   "cell_type": "code",
   "id": "321b1990feda6330",
   "metadata": {
    "ExecuteTime": {
     "end_time": "2024-06-26T22:32:20.015358Z",
     "start_time": "2024-06-26T22:32:20.001328Z"
    }
   },
   "source": [
    "data_target['TGT'] = 1"
   ],
   "outputs": [],
   "execution_count": 10
  },
  {
   "cell_type": "markdown",
   "id": "aff74c4877f8f526",
   "metadata": {},
   "source": [
    "### Business Condition"
   ]
  },
  {
   "cell_type": "code",
   "id": "8f1070c4ad4c0c7",
   "metadata": {
    "ExecuteTime": {
     "end_time": "2024-06-26T22:32:20.045876Z",
     "start_time": "2024-06-26T22:32:20.016360Z"
    }
   },
   "source": [
    "data_cobranding = data[(data.CreditCard_CoBranding == 'Yes') & (data.Month == '2019-01-01')][['client_id']]\n",
    "data_cobranding.shape"
   ],
   "outputs": [
    {
     "data": {
      "text/plain": [
       "(2843, 1)"
      ]
     },
     "execution_count": 11,
     "metadata": {},
     "output_type": "execute_result"
    }
   ],
   "execution_count": 11
  },
  {
   "cell_type": "code",
   "id": "888855ed8072ee04",
   "metadata": {
    "ExecuteTime": {
     "end_time": "2024-06-26T22:32:20.076393Z",
     "start_time": "2024-06-26T22:32:20.047063Z"
    }
   },
   "source": [
    "data_cross_cobranding = data_cobranding.merge(data_target, how='left', on='client_id').fillna(0)\n",
    "data_cross_cobranding.TGT.value_counts()"
   ],
   "outputs": [
    {
     "data": {
      "text/plain": [
       "TGT\n",
       "0.0    2836\n",
       "1.0       7\n",
       "Name: count, dtype: int64"
      ]
     },
     "execution_count": 12,
     "metadata": {},
     "output_type": "execute_result"
    }
   ],
   "execution_count": 12
  },
  {
   "cell_type": "markdown",
   "id": "9b2baecb5e700588",
   "metadata": {},
   "source": [
    "Filter clients by:\n",
    "- 9 months with Data\n",
    "- No Co Branding\n",
    "- No Active Package"
   ]
  },
  {
   "cell_type": "code",
   "id": "cfdd9f4a3edb978b",
   "metadata": {
    "ExecuteTime": {
     "end_time": "2024-06-26T22:32:20.123551Z",
     "start_time": "2024-06-26T22:32:20.077393Z"
    }
   },
   "source": [
    "data_cobranding_no = data[(data.CreditCard_CoBranding == 'No') & (data.Month == '2019-01-01')][['client_id']]"
   ],
   "outputs": [],
   "execution_count": 13
  },
  {
   "cell_type": "code",
   "id": "33ed271d24ee32fa",
   "metadata": {
    "ExecuteTime": {
     "end_time": "2024-06-26T22:32:20.170909Z",
     "start_time": "2024-06-26T22:32:20.125394Z"
    }
   },
   "source": [
    "universe = data_9m \\\n",
    "    .merge(data_no_package, how='inner', on='client_id') \\\n",
    "    .merge(data_cobranding_no, how='inner', on='client_id') \\\n",
    "    .merge(data_target, how='left', on='client_id').fillna(0)\n",
    "\n",
    "universe.TGT.value_counts()"
   ],
   "outputs": [
    {
     "data": {
      "text/plain": [
       "TGT\n",
       "0.0    16368\n",
       "1.0     6823\n",
       "Name: count, dtype: int64"
      ]
     },
     "execution_count": 14,
     "metadata": {},
     "output_type": "execute_result"
    }
   ],
   "execution_count": 14
  },
  {
   "cell_type": "code",
   "id": "8a03ea414b59dc7c",
   "metadata": {
    "ExecuteTime": {
     "end_time": "2024-06-26T22:32:20.186246Z",
     "start_time": "2024-06-26T22:32:20.172910Z"
    }
   },
   "source": [
    "universe"
   ],
   "outputs": [
    {
     "data": {
      "text/plain": [
       "      client_id  q_months  TGT\n",
       "0       5856970         9  1.0\n",
       "1       5895899         9  0.0\n",
       "2       4712252         9  0.0\n",
       "3       6657428         9  0.0\n",
       "4       6604065         9  0.0\n",
       "...         ...       ...  ...\n",
       "23186   5489595         9  1.0\n",
       "23187   4205458         9  1.0\n",
       "23188   2964835         9  0.0\n",
       "23189   6350133         9  1.0\n",
       "23190   2068261         9  0.0\n",
       "\n",
       "[23191 rows x 3 columns]"
      ],
      "text/html": [
       "<div>\n",
       "<style scoped>\n",
       "    .dataframe tbody tr th:only-of-type {\n",
       "        vertical-align: middle;\n",
       "    }\n",
       "\n",
       "    .dataframe tbody tr th {\n",
       "        vertical-align: top;\n",
       "    }\n",
       "\n",
       "    .dataframe thead th {\n",
       "        text-align: right;\n",
       "    }\n",
       "</style>\n",
       "<table border=\"1\" class=\"dataframe\">\n",
       "  <thead>\n",
       "    <tr style=\"text-align: right;\">\n",
       "      <th></th>\n",
       "      <th>client_id</th>\n",
       "      <th>q_months</th>\n",
       "      <th>TGT</th>\n",
       "    </tr>\n",
       "  </thead>\n",
       "  <tbody>\n",
       "    <tr>\n",
       "      <th>0</th>\n",
       "      <td>5856970</td>\n",
       "      <td>9</td>\n",
       "      <td>1.0</td>\n",
       "    </tr>\n",
       "    <tr>\n",
       "      <th>1</th>\n",
       "      <td>5895899</td>\n",
       "      <td>9</td>\n",
       "      <td>0.0</td>\n",
       "    </tr>\n",
       "    <tr>\n",
       "      <th>2</th>\n",
       "      <td>4712252</td>\n",
       "      <td>9</td>\n",
       "      <td>0.0</td>\n",
       "    </tr>\n",
       "    <tr>\n",
       "      <th>3</th>\n",
       "      <td>6657428</td>\n",
       "      <td>9</td>\n",
       "      <td>0.0</td>\n",
       "    </tr>\n",
       "    <tr>\n",
       "      <th>4</th>\n",
       "      <td>6604065</td>\n",
       "      <td>9</td>\n",
       "      <td>0.0</td>\n",
       "    </tr>\n",
       "    <tr>\n",
       "      <th>...</th>\n",
       "      <td>...</td>\n",
       "      <td>...</td>\n",
       "      <td>...</td>\n",
       "    </tr>\n",
       "    <tr>\n",
       "      <th>23186</th>\n",
       "      <td>5489595</td>\n",
       "      <td>9</td>\n",
       "      <td>1.0</td>\n",
       "    </tr>\n",
       "    <tr>\n",
       "      <th>23187</th>\n",
       "      <td>4205458</td>\n",
       "      <td>9</td>\n",
       "      <td>1.0</td>\n",
       "    </tr>\n",
       "    <tr>\n",
       "      <th>23188</th>\n",
       "      <td>2964835</td>\n",
       "      <td>9</td>\n",
       "      <td>0.0</td>\n",
       "    </tr>\n",
       "    <tr>\n",
       "      <th>23189</th>\n",
       "      <td>6350133</td>\n",
       "      <td>9</td>\n",
       "      <td>1.0</td>\n",
       "    </tr>\n",
       "    <tr>\n",
       "      <th>23190</th>\n",
       "      <td>2068261</td>\n",
       "      <td>9</td>\n",
       "      <td>0.0</td>\n",
       "    </tr>\n",
       "  </tbody>\n",
       "</table>\n",
       "<p>23191 rows × 3 columns</p>\n",
       "</div>"
      ]
     },
     "execution_count": 15,
     "metadata": {},
     "output_type": "execute_result"
    }
   ],
   "execution_count": 15
  },
  {
   "cell_type": "markdown",
   "id": "f1ab80059df75529",
   "metadata": {},
   "source": [
    "# EDA"
   ]
  },
  {
   "cell_type": "code",
   "id": "16fd3413a16609dc",
   "metadata": {
    "ExecuteTime": {
     "end_time": "2024-06-26T22:32:20.262976Z",
     "start_time": "2024-06-26T22:32:20.186909Z"
    }
   },
   "source": [
    "training_window = data[(data.Month.isin(['2018-08-01',\n",
    "                                         '2018-09-01',\n",
    "                                         '2018-10-01',\n",
    "                                         '2018-11-01',\n",
    "                                         '2018-12-01',\n",
    "                                         '2019-01-01'\n",
    "                                         ]))]\n",
    "# training_window = training_window.merge(universe, how='inner', on='client_id')"
   ],
   "outputs": [],
   "execution_count": 16
  },
  {
   "cell_type": "code",
   "id": "3626b240aeaccc58",
   "metadata": {
    "ExecuteTime": {
     "end_time": "2024-06-26T22:32:20.307976Z",
     "start_time": "2024-06-26T22:32:20.263977Z"
    }
   },
   "source": [
    "training_window.drop_duplicates('client_id', inplace=False)[['Client_Age_grp']]"
   ],
   "outputs": [
    {
     "data": {
      "text/plain": [
       "            Client_Age_grp\n",
       "0          Mayor a 70 años\n",
       "1       Entre 50 y 59 años\n",
       "2       Entre 30 y 39 años\n",
       "3          Mayor a 70 años\n",
       "4       Entre 40 y 49 años\n",
       "...                    ...\n",
       "179769  Entre 30 y 39 años\n",
       "181040  Entre 30 y 39 años\n",
       "188223  Entre 50 y 59 años\n",
       "190187  Entre 30 y 39 años\n",
       "214219  Entre 30 y 39 años\n",
       "\n",
       "[26509 rows x 1 columns]"
      ],
      "text/html": [
       "<div>\n",
       "<style scoped>\n",
       "    .dataframe tbody tr th:only-of-type {\n",
       "        vertical-align: middle;\n",
       "    }\n",
       "\n",
       "    .dataframe tbody tr th {\n",
       "        vertical-align: top;\n",
       "    }\n",
       "\n",
       "    .dataframe thead th {\n",
       "        text-align: right;\n",
       "    }\n",
       "</style>\n",
       "<table border=\"1\" class=\"dataframe\">\n",
       "  <thead>\n",
       "    <tr style=\"text-align: right;\">\n",
       "      <th></th>\n",
       "      <th>Client_Age_grp</th>\n",
       "    </tr>\n",
       "  </thead>\n",
       "  <tbody>\n",
       "    <tr>\n",
       "      <th>0</th>\n",
       "      <td>Mayor a 70 años</td>\n",
       "    </tr>\n",
       "    <tr>\n",
       "      <th>1</th>\n",
       "      <td>Entre 50 y 59 años</td>\n",
       "    </tr>\n",
       "    <tr>\n",
       "      <th>2</th>\n",
       "      <td>Entre 30 y 39 años</td>\n",
       "    </tr>\n",
       "    <tr>\n",
       "      <th>3</th>\n",
       "      <td>Mayor a 70 años</td>\n",
       "    </tr>\n",
       "    <tr>\n",
       "      <th>4</th>\n",
       "      <td>Entre 40 y 49 años</td>\n",
       "    </tr>\n",
       "    <tr>\n",
       "      <th>...</th>\n",
       "      <td>...</td>\n",
       "    </tr>\n",
       "    <tr>\n",
       "      <th>179769</th>\n",
       "      <td>Entre 30 y 39 años</td>\n",
       "    </tr>\n",
       "    <tr>\n",
       "      <th>181040</th>\n",
       "      <td>Entre 30 y 39 años</td>\n",
       "    </tr>\n",
       "    <tr>\n",
       "      <th>188223</th>\n",
       "      <td>Entre 50 y 59 años</td>\n",
       "    </tr>\n",
       "    <tr>\n",
       "      <th>190187</th>\n",
       "      <td>Entre 30 y 39 años</td>\n",
       "    </tr>\n",
       "    <tr>\n",
       "      <th>214219</th>\n",
       "      <td>Entre 30 y 39 años</td>\n",
       "    </tr>\n",
       "  </tbody>\n",
       "</table>\n",
       "<p>26509 rows × 1 columns</p>\n",
       "</div>"
      ]
     },
     "execution_count": 17,
     "metadata": {},
     "output_type": "execute_result"
    }
   ],
   "execution_count": 17
  },
  {
   "cell_type": "code",
   "id": "93bfe10145cf44d0",
   "metadata": {
    "ExecuteTime": {
     "end_time": "2024-06-26T22:32:20.322975Z",
     "start_time": "2024-06-26T22:32:20.308976Z"
    }
   },
   "source": [
    "import numpy as np\n",
    "\n",
    "training_window.loc[:, 'SavingAccount_Balance_Average'] = np.where(\n",
    "    training_window.SavingAccount_Balance_Average.isnull(),\n",
    "    training_window.SavingAccount_Balance_FirstDate - training_window.SavingAccount_Debits_Amounts + training_window.SavingAccount_Credits_Amounts,\n",
    "    training_window.SavingAccount_Balance_Average)"
   ],
   "outputs": [],
   "execution_count": 18
  },
  {
   "cell_type": "markdown",
   "id": "c42e98f0497122ca",
   "metadata": {},
   "source": [
    "## Understanding variables\n",
    "\n",
    "Selected columns:\n",
    "\n",
    "```\n",
    "client_id\n",
    "Client_Age_grp\n",
    "Sex\n",
    "Region\n",
    "Target\n",
    "CreditCard_Product\n",
    "CreditCard_Premium\n",
    "CreditCard_Active\n",
    "Loan_Active\n",
    "Mortgage_Active\n",
    "Investment_Active\n",
    "SavingAccount_Active_DOLLAR\n",
    "SavingAccount_Balance_FirstDate\n",
    "SavingAccount_Balance_LastDate\n",
    "SavingAccount_Balance_Average\n",
    "SavingAccount_Days_with_use\n",
    "SavingAccount_Days_with_Credits\n",
    "SavingAccount_Days_with_Debits\n",
    "SavingAccount_Transactions_Transactions\n",
    "SavingAccount_Credits_Amounts\n",
    "SavingAccount_Debits_Amounts\n",
    "SavingAccount_DebitCard_Spend_Amount\n",
    "SavingAccount_Salary_Payment_Amount\n",
    "Operations_Bank\n",
    "Operations_HomeBanking\n",
    "Operations_Mobile\n",
    "CreditCard_Total_Limit\n",
    "CreditCard_Total_Spending\n",
    "CreditCard_Revolving\n",
    "CreditCard_Spending_1_Installment\n",
    "CreditCard_Spending_Installments\n",
    "```"
   ]
  },
  {
   "cell_type": "code",
   "id": "ae43fbeccbcb1ca",
   "metadata": {
    "ExecuteTime": {
     "end_time": "2024-06-26T22:32:20.338975Z",
     "start_time": "2024-06-26T22:32:20.323976Z"
    }
   },
   "source": [
    "len(training_window['client_id'].unique())"
   ],
   "outputs": [
    {
     "data": {
      "text/plain": [
       "26509"
      ]
     },
     "execution_count": 19,
     "metadata": {},
     "output_type": "execute_result"
    }
   ],
   "execution_count": 19
  },
  {
   "cell_type": "code",
   "id": "ec82dd517d7a7799",
   "metadata": {
    "ExecuteTime": {
     "end_time": "2024-06-26T22:32:20.383975Z",
     "start_time": "2024-06-26T22:32:20.339977Z"
    }
   },
   "source": [
    "training_window.drop_duplicates('client_id', inplace=False, keep='last')[['Client_Age_grp']].value_counts(dropna=False)"
   ],
   "outputs": [
    {
     "data": {
      "text/plain": [
       "Client_Age_grp    \n",
       "Entre 40 y 49 años    7160\n",
       "Entre 30 y 39 años    6411\n",
       "Entre 50 y 59 años    5807\n",
       "Entre 60 y 64 años    2370\n",
       "Entre 65 y 69 años    1899\n",
       "Entre 18 y 29 años    1452\n",
       "Mayor a 70 años       1409\n",
       "Menor a 18 años          1\n",
       "Name: count, dtype: int64"
      ]
     },
     "execution_count": 20,
     "metadata": {},
     "output_type": "execute_result"
    }
   ],
   "execution_count": 20
  },
  {
   "cell_type": "code",
   "id": "530b28643f4881f1",
   "metadata": {
    "ExecuteTime": {
     "end_time": "2024-06-26T22:32:20.431049Z",
     "start_time": "2024-06-26T22:32:20.384976Z"
    }
   },
   "source": [
    "training_window.drop_duplicates('client_id', inplace=False, keep='last')[['Sex']].value_counts(dropna=False)"
   ],
   "outputs": [
    {
     "data": {
      "text/plain": [
       "Sex\n",
       "M      15112\n",
       "F      11397\n",
       "Name: count, dtype: int64"
      ]
     },
     "execution_count": 21,
     "metadata": {},
     "output_type": "execute_result"
    }
   ],
   "execution_count": 21
  },
  {
   "cell_type": "code",
   "id": "13aba9d16e51c7dc",
   "metadata": {
    "ExecuteTime": {
     "end_time": "2024-06-26T22:32:20.461047Z",
     "start_time": "2024-06-26T22:32:20.432049Z"
    }
   },
   "source": [
    "regions = data[['client_id', 'Month', 'Region']]\n",
    "regions.isnull().sum()"
   ],
   "outputs": [
    {
     "data": {
      "text/plain": [
       "client_id         0\n",
       "Month             1\n",
       "Region       185536\n",
       "dtype: int64"
      ]
     },
     "execution_count": 22,
     "metadata": {},
     "output_type": "execute_result"
    }
   ],
   "execution_count": 22
  },
  {
   "cell_type": "markdown",
   "id": "2c794c85117bb337",
   "metadata": {},
   "source": [
    "### Missing values\n",
    "There is only one **null** month."
   ]
  },
  {
   "cell_type": "code",
   "id": "f70830c1d70d15a6",
   "metadata": {
    "ExecuteTime": {
     "end_time": "2024-06-26T22:32:20.476048Z",
     "start_time": "2024-06-26T22:32:20.462048Z"
    }
   },
   "source": [
    "null_month = regions[regions.Month.isnull()]\n",
    "print(null_month)"
   ],
   "outputs": [
    {
     "name": "stdout",
     "output_type": "stream",
     "text": [
      "                     client_id Month Region\n",
      "238615  (238615 rows affected)   NaN    NaN\n"
     ]
    }
   ],
   "execution_count": 23
  },
  {
   "cell_type": "markdown",
   "id": "b278f7de6548e162",
   "metadata": {},
   "source": [
    "Inspecting that row, we can discard it."
   ]
  },
  {
   "cell_type": "code",
   "id": "a39912f3d60507c3",
   "metadata": {
    "ExecuteTime": {
     "end_time": "2024-06-26T22:32:20.538047Z",
     "start_time": "2024-06-26T22:32:20.477050Z"
    }
   },
   "source": [
    "regions = regions[~regions.Month.isnull()]\n",
    "print(\n",
    "    f\"Clients: {len(regions['client_id'].unique())} - Clients in training window: {len(training_window['client_id'].unique())}\")\n",
    "regions.head()"
   ],
   "outputs": [
    {
     "name": "stdout",
     "output_type": "stream",
     "text": [
      "Clients: 26560 - Clients in training window: 26509\n"
     ]
    },
    {
     "data": {
      "text/plain": [
       "  client_id       Month Region\n",
       "0   5856970  2018-10-01    NaN\n",
       "1   6371753  2018-09-01    NaN\n",
       "2   5928737  2019-01-01    NaN\n",
       "3    475064  2018-12-01    NaN\n",
       "4   3615172  2018-09-01    NaN"
      ],
      "text/html": [
       "<div>\n",
       "<style scoped>\n",
       "    .dataframe tbody tr th:only-of-type {\n",
       "        vertical-align: middle;\n",
       "    }\n",
       "\n",
       "    .dataframe tbody tr th {\n",
       "        vertical-align: top;\n",
       "    }\n",
       "\n",
       "    .dataframe thead th {\n",
       "        text-align: right;\n",
       "    }\n",
       "</style>\n",
       "<table border=\"1\" class=\"dataframe\">\n",
       "  <thead>\n",
       "    <tr style=\"text-align: right;\">\n",
       "      <th></th>\n",
       "      <th>client_id</th>\n",
       "      <th>Month</th>\n",
       "      <th>Region</th>\n",
       "    </tr>\n",
       "  </thead>\n",
       "  <tbody>\n",
       "    <tr>\n",
       "      <th>0</th>\n",
       "      <td>5856970</td>\n",
       "      <td>2018-10-01</td>\n",
       "      <td>NaN</td>\n",
       "    </tr>\n",
       "    <tr>\n",
       "      <th>1</th>\n",
       "      <td>6371753</td>\n",
       "      <td>2018-09-01</td>\n",
       "      <td>NaN</td>\n",
       "    </tr>\n",
       "    <tr>\n",
       "      <th>2</th>\n",
       "      <td>5928737</td>\n",
       "      <td>2019-01-01</td>\n",
       "      <td>NaN</td>\n",
       "    </tr>\n",
       "    <tr>\n",
       "      <th>3</th>\n",
       "      <td>475064</td>\n",
       "      <td>2018-12-01</td>\n",
       "      <td>NaN</td>\n",
       "    </tr>\n",
       "    <tr>\n",
       "      <th>4</th>\n",
       "      <td>3615172</td>\n",
       "      <td>2018-09-01</td>\n",
       "      <td>NaN</td>\n",
       "    </tr>\n",
       "  </tbody>\n",
       "</table>\n",
       "</div>"
      ]
     },
     "execution_count": 24,
     "metadata": {},
     "output_type": "execute_result"
    }
   ],
   "execution_count": 24
  },
  {
   "cell_type": "code",
   "id": "966291b13be490a7",
   "metadata": {
    "ExecuteTime": {
     "end_time": "2024-06-26T22:32:20.598048Z",
     "start_time": "2024-06-26T22:32:20.539047Z"
    }
   },
   "source": [
    "# Check month consistency\n",
    "regions['Month'] = pd.to_datetime(regions['Month'])\n",
    "regions.info()"
   ],
   "outputs": [
    {
     "name": "stdout",
     "output_type": "stream",
     "text": [
      "<class 'pandas.core.frame.DataFrame'>\n",
      "Index: 238615 entries, 0 to 238614\n",
      "Data columns (total 3 columns):\n",
      " #   Column     Non-Null Count   Dtype         \n",
      "---  ------     --------------   -----         \n",
      " 0   client_id  238615 non-null  object        \n",
      " 1   Month      238615 non-null  datetime64[ns]\n",
      " 2   Region     53080 non-null   object        \n",
      "dtypes: datetime64[ns](1), object(2)\n",
      "memory usage: 7.3+ MB\n"
     ]
    }
   ],
   "execution_count": 25
  },
  {
   "cell_type": "markdown",
   "id": "52e99ff682b835c3",
   "metadata": {},
   "source": [
    "As `regions` is a copy of `data`, and `training_window` is a subset of `data`. We can say that the months are consistent for all `training_window` entries.\n"
   ]
  },
  {
   "cell_type": "code",
   "id": "dc513c3bfb9d91a2",
   "metadata": {
    "ExecuteTime": {
     "end_time": "2024-06-26T22:32:20.614047Z",
     "start_time": "2024-06-26T22:32:20.599047Z"
    }
   },
   "source": [
    "len(training_window[training_window['Month'].isnull()])"
   ],
   "outputs": [
    {
     "data": {
      "text/plain": [
       "0"
      ]
     },
     "execution_count": 26,
     "metadata": {},
     "output_type": "execute_result"
    }
   ],
   "execution_count": 26
  },
  {
   "cell_type": "code",
   "id": "deed1ef18ecbebbc",
   "metadata": {
    "ExecuteTime": {
     "end_time": "2024-06-26T22:32:21.330937Z",
     "start_time": "2024-06-26T22:32:20.615048Z"
    }
   },
   "source": [
    "training_window.loc[:, 'Month'] = pd.to_datetime(training_window['Month'])\n",
    "training_window = training_window.sort_values('Month')\n",
    "training_window.info()"
   ],
   "outputs": [
    {
     "name": "stdout",
     "output_type": "stream",
     "text": [
      "<class 'pandas.core.frame.DataFrame'>\n",
      "Index: 159009 entries, 75992 to 238612\n",
      "Data columns (total 77 columns):\n",
      " #   Column                                         Non-Null Count   Dtype  \n",
      "---  ------                                         --------------   -----  \n",
      " 0   client_id                                      159009 non-null  object \n",
      " 1   Target                                         159009 non-null  float64\n",
      " 2   Month                                          159009 non-null  object \n",
      " 3   First_product_dt                               159009 non-null  object \n",
      " 4   Last_product_dt                                159009 non-null  object \n",
      " 5   CreditCard_Premium                             159009 non-null  object \n",
      " 6   CreditCard_Active                              159009 non-null  object \n",
      " 7   CreditCard_CoBranding                          159009 non-null  object \n",
      " 8   Loan_Active                                    159009 non-null  object \n",
      " 9   Mortgage_Active                                159009 non-null  object \n",
      " 10  SavingAccount_Active_ARG_Salary                159009 non-null  object \n",
      " 11  SavingAccount_Active_ARG                       159009 non-null  object \n",
      " 12  SavingAccount_Active_DOLLAR                    159009 non-null  object \n",
      " 13  DebitCard_Active                               159009 non-null  object \n",
      " 14  Investment_Active                              159009 non-null  object \n",
      " 15  Package_Active                                 159009 non-null  object \n",
      " 16  Insurance_Life                                 159009 non-null  object \n",
      " 17  Insurance_Home                                 159009 non-null  object \n",
      " 18  Insurance_Accidents                            159009 non-null  object \n",
      " 19  Insurance_Mobile                               159009 non-null  object \n",
      " 20  Insurance_ATM                                  159009 non-null  object \n",
      " 21  Insurance_Unemployment                         159009 non-null  object \n",
      " 22  Sex                                            159009 non-null  object \n",
      " 23  Client_Age_grp                                 159009 non-null  object \n",
      " 24  SavingAccount_Balance_FirstDate                159009 non-null  float64\n",
      " 25  SavingAccount_Balance_LastDate                 159009 non-null  float64\n",
      " 26  SavingAccount_Balance_Average                  159009 non-null  float64\n",
      " 27  SavingAccount_Days_with_use                    159009 non-null  float64\n",
      " 28  SavingAccount_Days_with_Credits                159009 non-null  float64\n",
      " 29  SavingAccount_Days_with_Debits                 159009 non-null  float64\n",
      " 30  SavingAccount_Salary_Payment_Transactions      159009 non-null  float64\n",
      " 31  SavingAccount_Transfer_In_Transactions         159009 non-null  float64\n",
      " 32  SavingAccount_ATM_Extraction_Transactions      159009 non-null  float64\n",
      " 33  SavingAccount_Service_Payment_Transactions     159009 non-null  float64\n",
      " 34  SavingAccount_CreditCard_Payment_Transactions  159009 non-null  float64\n",
      " 35  SavingAccount_Transfer_Out_Transactions        159009 non-null  float64\n",
      " 36  SavingAccount_DebitCard_Spend_Transactions     159009 non-null  float64\n",
      " 37  SavingAccount_Transactions_Transactions        159009 non-null  float64\n",
      " 38  SavingAccount_Credits_Transactions             159009 non-null  float64\n",
      " 39  SavingAccount_Debits_Transactions              159009 non-null  float64\n",
      " 40  SavingAccount_Salary_Payment_Amount            159009 non-null  float64\n",
      " 41  SavingAccount_Transfer_In_Amount               159009 non-null  float64\n",
      " 42  SavingAccount_ATM_Extraction_Amount            159009 non-null  float64\n",
      " 43  SavingAccount_Service_Payment_Amount           159009 non-null  float64\n",
      " 44  SavingAccount_CreditCard_Payment_Amount        159009 non-null  float64\n",
      " 45  SavingAccount_Transfer_Out_Amount              159009 non-null  float64\n",
      " 46  SavingAccount_DebitCard_Spend_Amount           159009 non-null  float64\n",
      " 47  SavingAccount_Total_Amount                     159009 non-null  float64\n",
      " 48  SavingAccount_Credits_Amounts                  159009 non-null  float64\n",
      " 49  SavingAccount_Debits_Amounts                   159009 non-null  float64\n",
      " 50  Operations_Bank                                159009 non-null  float64\n",
      " 51  Operations_Terminal                            159009 non-null  float64\n",
      " 52  Operations_HomeBanking                         159009 non-null  float64\n",
      " 53  Operations_Mobile                              159009 non-null  float64\n",
      " 54  Operations_Ivr                                 159009 non-null  float64\n",
      " 55  Operations_Telemarketer                        159009 non-null  float64\n",
      " 56  Operations_ATM                                 159009 non-null  float64\n",
      " 57  CreditCard_Balance_ARG                         159009 non-null  float64\n",
      " 58  CreditCard_Balance_DOLLAR                      159009 non-null  float64\n",
      " 59  CreditCard_Total_Limit                         159009 non-null  float64\n",
      " 60  CreditCard_Total_Spending                      159009 non-null  float64\n",
      " 61  CreditCard_Spending_1_Installment              159009 non-null  float64\n",
      " 62  CreditCard_Spending_Installments               159009 non-null  float64\n",
      " 63  CreditCard_Spending_CrossBoarder               159009 non-null  float64\n",
      " 64  CreditCard_Spending_Aut_Debits                 159009 non-null  float64\n",
      " 65  CreditCard_Revolving                           159009 non-null  float64\n",
      " 66  CreditCard_Payment_Aut_Debit                   159009 non-null  float64\n",
      " 67  CreditCard_Payment_External                    159009 non-null  float64\n",
      " 68  CreditCard_Payment_Cash                        159009 non-null  float64\n",
      " 69  CreditCard_Payment_Web                         159009 non-null  float64\n",
      " 70  CreditCard_Payment_ATM                         159009 non-null  float64\n",
      " 71  CreditCard_Payment_TAS                         159009 non-null  float64\n",
      " 72  Investment_Numbers                             159009 non-null  float64\n",
      " 73  Mobile                                         159009 non-null  object \n",
      " 74  Email                                          159009 non-null  object \n",
      " 75  Region                                         0 non-null       object \n",
      " 76  CreditCard_Product                             0 non-null       object \n",
      "dtypes: float64(50), object(27)\n",
      "memory usage: 94.6+ MB\n"
     ]
    }
   ],
   "execution_count": 27
  },
  {
   "cell_type": "code",
   "id": "78ab33a63cb1ecdd",
   "metadata": {
    "ExecuteTime": {
     "end_time": "2024-06-26T22:32:21.440706Z",
     "start_time": "2024-06-26T22:32:21.331937Z"
    }
   },
   "source": [
    "previous_count = len(regions['client_id'].unique())\n",
    "regions = regions.sort_values('Month')\n",
    "regions = regions[regions['Region'].notnull()]\n",
    "regions = regions.drop_duplicates(subset=['client_id'], keep='last')\n",
    "print(regions.info())\n",
    "print(f\"Clients with regions: {len(regions['client_id'].unique())} our of {previous_count}\")"
   ],
   "outputs": [
    {
     "name": "stdout",
     "output_type": "stream",
     "text": [
      "<class 'pandas.core.frame.DataFrame'>\n",
      "Index: 26544 entries, 97487 to 48953\n",
      "Data columns (total 3 columns):\n",
      " #   Column     Non-Null Count  Dtype         \n",
      "---  ------     --------------  -----         \n",
      " 0   client_id  26544 non-null  object        \n",
      " 1   Month      26544 non-null  datetime64[ns]\n",
      " 2   Region     26544 non-null  object        \n",
      "dtypes: datetime64[ns](1), object(2)\n",
      "memory usage: 829.5+ KB\n",
      "None\n",
      "Clients with regions: 26544 our of 26560\n"
     ]
    }
   ],
   "execution_count": 28
  },
  {
   "cell_type": "code",
   "id": "ebb2c07320e1236f",
   "metadata": {
    "ExecuteTime": {
     "end_time": "2024-06-26T22:32:21.488221Z",
     "start_time": "2024-06-26T22:32:21.442222Z"
    }
   },
   "source": [
    "non_region = training_window[~training_window['client_id'].isin(regions['client_id'])]\n",
    "print(f\"Clients without regions: {len(non_region['client_id'].unique())}\")"
   ],
   "outputs": [
    {
     "name": "stdout",
     "output_type": "stream",
     "text": [
      "Clients without regions: 14\n"
     ]
    }
   ],
   "execution_count": 29
  },
  {
   "cell_type": "code",
   "id": "afb31b64b0a222c2",
   "metadata": {
    "ExecuteTime": {
     "end_time": "2024-06-26T22:32:21.779257Z",
     "start_time": "2024-06-26T22:32:21.489221Z"
    }
   },
   "source": [
    "# get regions from the data\n",
    "if 'Region' in training_window.columns:\n",
    "    training_window.drop('Region', axis=1, inplace=True)\n",
    "training_window = training_window.merge(regions.drop('Month', axis=1, inplace=False), how='left', on='client_id')\n",
    "training_window.info()"
   ],
   "outputs": [
    {
     "name": "stdout",
     "output_type": "stream",
     "text": [
      "<class 'pandas.core.frame.DataFrame'>\n",
      "RangeIndex: 159009 entries, 0 to 159008\n",
      "Data columns (total 77 columns):\n",
      " #   Column                                         Non-Null Count   Dtype  \n",
      "---  ------                                         --------------   -----  \n",
      " 0   client_id                                      159009 non-null  object \n",
      " 1   Target                                         159009 non-null  float64\n",
      " 2   Month                                          159009 non-null  object \n",
      " 3   First_product_dt                               159009 non-null  object \n",
      " 4   Last_product_dt                                159009 non-null  object \n",
      " 5   CreditCard_Premium                             159009 non-null  object \n",
      " 6   CreditCard_Active                              159009 non-null  object \n",
      " 7   CreditCard_CoBranding                          159009 non-null  object \n",
      " 8   Loan_Active                                    159009 non-null  object \n",
      " 9   Mortgage_Active                                159009 non-null  object \n",
      " 10  SavingAccount_Active_ARG_Salary                159009 non-null  object \n",
      " 11  SavingAccount_Active_ARG                       159009 non-null  object \n",
      " 12  SavingAccount_Active_DOLLAR                    159009 non-null  object \n",
      " 13  DebitCard_Active                               159009 non-null  object \n",
      " 14  Investment_Active                              159009 non-null  object \n",
      " 15  Package_Active                                 159009 non-null  object \n",
      " 16  Insurance_Life                                 159009 non-null  object \n",
      " 17  Insurance_Home                                 159009 non-null  object \n",
      " 18  Insurance_Accidents                            159009 non-null  object \n",
      " 19  Insurance_Mobile                               159009 non-null  object \n",
      " 20  Insurance_ATM                                  159009 non-null  object \n",
      " 21  Insurance_Unemployment                         159009 non-null  object \n",
      " 22  Sex                                            159009 non-null  object \n",
      " 23  Client_Age_grp                                 159009 non-null  object \n",
      " 24  SavingAccount_Balance_FirstDate                159009 non-null  float64\n",
      " 25  SavingAccount_Balance_LastDate                 159009 non-null  float64\n",
      " 26  SavingAccount_Balance_Average                  159009 non-null  float64\n",
      " 27  SavingAccount_Days_with_use                    159009 non-null  float64\n",
      " 28  SavingAccount_Days_with_Credits                159009 non-null  float64\n",
      " 29  SavingAccount_Days_with_Debits                 159009 non-null  float64\n",
      " 30  SavingAccount_Salary_Payment_Transactions      159009 non-null  float64\n",
      " 31  SavingAccount_Transfer_In_Transactions         159009 non-null  float64\n",
      " 32  SavingAccount_ATM_Extraction_Transactions      159009 non-null  float64\n",
      " 33  SavingAccount_Service_Payment_Transactions     159009 non-null  float64\n",
      " 34  SavingAccount_CreditCard_Payment_Transactions  159009 non-null  float64\n",
      " 35  SavingAccount_Transfer_Out_Transactions        159009 non-null  float64\n",
      " 36  SavingAccount_DebitCard_Spend_Transactions     159009 non-null  float64\n",
      " 37  SavingAccount_Transactions_Transactions        159009 non-null  float64\n",
      " 38  SavingAccount_Credits_Transactions             159009 non-null  float64\n",
      " 39  SavingAccount_Debits_Transactions              159009 non-null  float64\n",
      " 40  SavingAccount_Salary_Payment_Amount            159009 non-null  float64\n",
      " 41  SavingAccount_Transfer_In_Amount               159009 non-null  float64\n",
      " 42  SavingAccount_ATM_Extraction_Amount            159009 non-null  float64\n",
      " 43  SavingAccount_Service_Payment_Amount           159009 non-null  float64\n",
      " 44  SavingAccount_CreditCard_Payment_Amount        159009 non-null  float64\n",
      " 45  SavingAccount_Transfer_Out_Amount              159009 non-null  float64\n",
      " 46  SavingAccount_DebitCard_Spend_Amount           159009 non-null  float64\n",
      " 47  SavingAccount_Total_Amount                     159009 non-null  float64\n",
      " 48  SavingAccount_Credits_Amounts                  159009 non-null  float64\n",
      " 49  SavingAccount_Debits_Amounts                   159009 non-null  float64\n",
      " 50  Operations_Bank                                159009 non-null  float64\n",
      " 51  Operations_Terminal                            159009 non-null  float64\n",
      " 52  Operations_HomeBanking                         159009 non-null  float64\n",
      " 53  Operations_Mobile                              159009 non-null  float64\n",
      " 54  Operations_Ivr                                 159009 non-null  float64\n",
      " 55  Operations_Telemarketer                        159009 non-null  float64\n",
      " 56  Operations_ATM                                 159009 non-null  float64\n",
      " 57  CreditCard_Balance_ARG                         159009 non-null  float64\n",
      " 58  CreditCard_Balance_DOLLAR                      159009 non-null  float64\n",
      " 59  CreditCard_Total_Limit                         159009 non-null  float64\n",
      " 60  CreditCard_Total_Spending                      159009 non-null  float64\n",
      " 61  CreditCard_Spending_1_Installment              159009 non-null  float64\n",
      " 62  CreditCard_Spending_Installments               159009 non-null  float64\n",
      " 63  CreditCard_Spending_CrossBoarder               159009 non-null  float64\n",
      " 64  CreditCard_Spending_Aut_Debits                 159009 non-null  float64\n",
      " 65  CreditCard_Revolving                           159009 non-null  float64\n",
      " 66  CreditCard_Payment_Aut_Debit                   159009 non-null  float64\n",
      " 67  CreditCard_Payment_External                    159009 non-null  float64\n",
      " 68  CreditCard_Payment_Cash                        159009 non-null  float64\n",
      " 69  CreditCard_Payment_Web                         159009 non-null  float64\n",
      " 70  CreditCard_Payment_ATM                         159009 non-null  float64\n",
      " 71  CreditCard_Payment_TAS                         159009 non-null  float64\n",
      " 72  Investment_Numbers                             159009 non-null  float64\n",
      " 73  Mobile                                         159009 non-null  object \n",
      " 74  Email                                          159009 non-null  object \n",
      " 75  CreditCard_Product                             0 non-null       object \n",
      " 76  Region                                         158932 non-null  object \n",
      "dtypes: float64(50), object(27)\n",
      "memory usage: 93.4+ MB\n"
     ]
    }
   ],
   "execution_count": 30
  },
  {
   "cell_type": "code",
   "id": "64a25d052c983287",
   "metadata": {
    "ExecuteTime": {
     "end_time": "2024-06-26T22:32:21.826290Z",
     "start_time": "2024-06-26T22:32:21.780257Z"
    }
   },
   "source": [
    "clients_per_region = training_window.drop_duplicates(subset=['client_id'], inplace=False).value_counts('Region',\n",
    "                                                                                                       dropna=False)\n",
    "clients_per_region"
   ],
   "outputs": [
    {
     "data": {
      "text/plain": [
       "Region\n",
       "BUENOS AIRES                     7138\n",
       "REGION CENTRO                    5859\n",
       "REGION NORTE GRANDE ARGENTINO    5053\n",
       "REGION PATAGONICA                2479\n",
       "CABA Centro/Norte                2112\n",
       "REGION CUYO                      1989\n",
       "AMBA Resto                       1865\n",
       "NaN                                14\n",
       "Name: count, dtype: int64"
      ]
     },
     "execution_count": 31,
     "metadata": {},
     "output_type": "execute_result"
    }
   ],
   "execution_count": 31
  },
  {
   "metadata": {},
   "cell_type": "markdown",
   "source": "Fill missing values with the most frequent region.",
   "id": "2efcaa4e74a821a8"
  },
  {
   "metadata": {
    "ExecuteTime": {
     "end_time": "2024-06-26T22:32:21.842289Z",
     "start_time": "2024-06-26T22:32:21.827289Z"
    }
   },
   "cell_type": "code",
   "source": "training_window['Region'].value_counts().idxmax()",
   "id": "19df7e853d75241d",
   "outputs": [
    {
     "data": {
      "text/plain": [
       "'BUENOS AIRES'"
      ]
     },
     "execution_count": 32,
     "metadata": {},
     "output_type": "execute_result"
    }
   ],
   "execution_count": 32
  },
  {
   "metadata": {
    "ExecuteTime": {
     "end_time": "2024-06-26T22:32:21.874290Z",
     "start_time": "2024-06-26T22:32:21.843290Z"
    }
   },
   "cell_type": "code",
   "source": [
    "training_window.fillna({'Region': training_window['Region'].value_counts().idxmax()}, inplace=True)\n",
    "print(f\"Missing Values={training_window['Region'].isna().sum()}\")"
   ],
   "id": "13d6c6a1138f1e4b",
   "outputs": [
    {
     "name": "stdout",
     "output_type": "stream",
     "text": [
      "Missing Values=0\n"
     ]
    }
   ],
   "execution_count": 33
  },
  {
   "metadata": {
    "ExecuteTime": {
     "end_time": "2024-06-26T22:32:21.889805Z",
     "start_time": "2024-06-26T22:32:21.875291Z"
    }
   },
   "cell_type": "code",
   "source": [
    "print(training_window['CreditCard_Product'].value_counts())\n",
    "print(f\"Missing Values={training_window['CreditCard_Product'].isnull().sum()}\")"
   ],
   "id": "ae028ff1de1cba99",
   "outputs": [
    {
     "name": "stdout",
     "output_type": "stream",
     "text": [
      "Series([], Name: count, dtype: int64)\n",
      "Missing Values=159009\n"
     ]
    }
   ],
   "execution_count": 34
  },
  {
   "metadata": {
    "ExecuteTime": {
     "end_time": "2024-06-26T22:32:21.920806Z",
     "start_time": "2024-06-26T22:32:21.897807Z"
    }
   },
   "cell_type": "code",
   "source": "credit_card_products = data[['client_id', 'Month', 'CreditCard_Product']].copy()",
   "id": "1012e69c7617137e",
   "outputs": [],
   "execution_count": 35
  },
  {
   "metadata": {},
   "cell_type": "markdown",
   "source": "Remove nulls from `CreditCard_Product` and `Month`.",
   "id": "6a9927b84d28b647"
  },
  {
   "metadata": {
    "ExecuteTime": {
     "end_time": "2024-06-26T22:32:21.952319Z",
     "start_time": "2024-06-26T22:32:21.922806Z"
    }
   },
   "cell_type": "code",
   "source": [
    "credit_card_products = credit_card_products[credit_card_products['CreditCard_Product'].notnull()]\n",
    "credit_card_products = credit_card_products[credit_card_products['Month'].notnull()]\n",
    "credit_card_products['Month'] = pd.to_datetime(credit_card_products['Month'])"
   ],
   "id": "cd9b7a29fda4f14e",
   "outputs": [],
   "execution_count": 36
  },
  {
   "metadata": {},
   "cell_type": "markdown",
   "source": "Retrieve the product with the date closer to the last month of training window",
   "id": "841075c23b458743"
  },
  {
   "metadata": {
    "ExecuteTime": {
     "end_time": "2024-06-26T22:32:21.999352Z",
     "start_time": "2024-06-26T22:32:21.953319Z"
    }
   },
   "cell_type": "code",
   "source": [
    "# Get the last month of training window\n",
    "last_month = training_window['Month'].max()\n",
    "print(f\"Last month of training window: {last_month}\")"
   ],
   "id": "bb51119084a03f3c",
   "outputs": [
    {
     "name": "stdout",
     "output_type": "stream",
     "text": [
      "Last month of training window: 2019-01-01 00:00:00\n"
     ]
    }
   ],
   "execution_count": 37
  },
  {
   "metadata": {
    "ExecuteTime": {
     "end_time": "2024-06-26T22:32:22.015351Z",
     "start_time": "2024-06-26T22:32:22.000352Z"
    }
   },
   "cell_type": "code",
   "source": [
    "# Get the product with the date closer to the last month of training window\n",
    "credit_card_products = credit_card_products.sort_values('Month')\n",
    "credit_card_products['delta'] = (last_month - credit_card_products['Month']).dt.days"
   ],
   "id": "be78c31fc923ab12",
   "outputs": [],
   "execution_count": 38
  },
  {
   "metadata": {
    "ExecuteTime": {
     "end_time": "2024-06-26T22:32:22.030351Z",
     "start_time": "2024-06-26T22:32:22.016353Z"
    }
   },
   "cell_type": "code",
   "source": "credit_card_products = credit_card_products.sort_values('delta').drop_duplicates(subset=['client_id'], keep='first')",
   "id": "99ef8029733652d4",
   "outputs": [],
   "execution_count": 39
  },
  {
   "metadata": {
    "ExecuteTime": {
     "end_time": "2024-06-26T22:32:22.045380Z",
     "start_time": "2024-06-26T22:32:22.031353Z"
    }
   },
   "cell_type": "code",
   "source": [
    "drop_columns = ['Month', 'delta']\n",
    "credit_card_products.drop(drop_columns, axis=1, inplace=True)"
   ],
   "id": "1d76b7a55f24b702",
   "outputs": [],
   "execution_count": 40
  },
  {
   "metadata": {
    "ExecuteTime": {
     "end_time": "2024-06-26T22:32:22.061380Z",
     "start_time": "2024-06-26T22:32:22.046380Z"
    }
   },
   "cell_type": "code",
   "source": "credit_card_products['CreditCard_Product'].value_counts(dropna=False)",
   "id": "552a3a65c131c1eb",
   "outputs": [
    {
     "data": {
      "text/plain": [
       "CreditCard_Product\n",
       "J55660104XX012    8662\n",
       "J55660202XX012    6027\n",
       "J55660124XX012    2492\n",
       "J55660102XX012     417\n",
       "J55660123XX012     388\n",
       "J55660702XX012     289\n",
       "J55661002XX012      71\n",
       "Name: count, dtype: int64"
      ]
     },
     "execution_count": 41,
     "metadata": {},
     "output_type": "execute_result"
    }
   ],
   "execution_count": 41
  },
  {
   "metadata": {
    "ExecuteTime": {
     "end_time": "2024-06-26T22:32:22.264435Z",
     "start_time": "2024-06-26T22:32:22.062381Z"
    }
   },
   "cell_type": "code",
   "source": [
    "if 'CreditCard_Product' in training_window.columns:\n",
    "    training_window.drop('CreditCard_Product', axis=1, inplace=True)\n",
    "training_window = training_window.merge(credit_card_products, how='left', on='client_id')\n",
    "training_window.drop_duplicates(subset=['client_id'], keep='last').value_counts('CreditCard_Product', dropna=False)"
   ],
   "id": "c028f22fca0e69a3",
   "outputs": [
    {
     "data": {
      "text/plain": [
       "CreditCard_Product\n",
       "J55660104XX012    8656\n",
       "NaN               8191\n",
       "J55660202XX012    6020\n",
       "J55660124XX012    2487\n",
       "J55660102XX012     417\n",
       "J55660123XX012     380\n",
       "J55660702XX012     287\n",
       "J55661002XX012      71\n",
       "Name: count, dtype: int64"
      ]
     },
     "execution_count": 42,
     "metadata": {},
     "output_type": "execute_result"
    }
   ],
   "execution_count": 42
  },
  {
   "cell_type": "code",
   "id": "2ec9651361054f9b",
   "metadata": {
    "ExecuteTime": {
     "end_time": "2024-06-26T22:32:22.296510Z",
     "start_time": "2024-06-26T22:32:22.265434Z"
    }
   },
   "source": [
    "training_window_latest_information = training_window.drop_duplicates(subset=['client_id'], inplace=False, keep='last')\n",
    "# Missing values\n",
    "training_window_latest_information[\n",
    "    ['CreditCard_Premium', 'CreditCard_Active', 'Loan_Active', 'Mortgage_Active']].isnull().sum()"
   ],
   "outputs": [
    {
     "data": {
      "text/plain": [
       "CreditCard_Premium    0\n",
       "CreditCard_Active     0\n",
       "Loan_Active           0\n",
       "Mortgage_Active       0\n",
       "dtype: int64"
      ]
     },
     "execution_count": 43,
     "metadata": {},
     "output_type": "execute_result"
    }
   ],
   "execution_count": 43
  },
  {
   "cell_type": "code",
   "id": "7f5f0ca69ac7d16a",
   "metadata": {
    "ExecuteTime": {
     "end_time": "2024-06-26T22:32:22.483031Z",
     "start_time": "2024-06-26T22:32:22.297510Z"
    }
   },
   "source": [
    "premium_x_loan = pd.crosstab(training_window_latest_information['CreditCard_Premium'],\n",
    "                             training_window_latest_information['Loan_Active'])\n",
    "premium_x_loan.plot(kind='bar')\n",
    "plt.show()"
   ],
   "outputs": [
    {
     "data": {
      "text/plain": [
       "<Figure size 640x480 with 1 Axes>"
      ],
      "image/png": "[encoded data removed]"
     },
     "metadata": {},
     "output_type": "display_data"
    }
   ],
   "execution_count": 44
  },
  {
   "cell_type": "markdown",
   "id": "79a140eb43e8e706",
   "metadata": {},
   "source": [
    "## Chi-Square Test\n",
    "\n",
    "The chi-square test of independence tests if there is a significant relationship between two categorical variables. The data is usually displayed in a cross-tabulation format with each row representing a category for one variable and each column representing a category for another variable.\n",
    "\n",
    "Let's say you want to test if there is a relationship between `CreditCard_Premium` and `Loan_Actvie`."
   ]
  },
  {
   "cell_type": "code",
   "id": "7b61ad17ee3fcc16",
   "metadata": {
    "ExecuteTime": {
     "end_time": "2024-06-26T22:32:22.498448Z",
     "start_time": "2024-06-26T22:32:22.484032Z"
    }
   },
   "source": [
    "import scipy.stats as stats\n",
    "\n",
    "# Perform the chi-square test\n",
    "chi2, p, dof, expected = stats.chi2_contingency(premium_x_loan)\n",
    "\n",
    "# Print the results\n",
    "print(\"chi2 statistic\", chi2)\n",
    "print(\"p-value\", p)\n",
    "print(\"degrees of freedom\", dof)\n",
    "print(\"expected contingency table\", expected)"
   ],
   "outputs": [
    {
     "name": "stdout",
     "output_type": "stream",
     "text": [
      "chi2 statistic 0.021561012750987145\n",
      "p-value 0.8832609262135911\n",
      "degrees of freedom 1\n",
      "expected contingency table [[20855.11226376  2903.88773624]\n",
      " [ 2413.88773624   336.11226376]]\n"
     ]
    }
   ],
   "execution_count": 45
  },
  {
   "cell_type": "markdown",
   "id": "cf28259f25781307",
   "metadata": {},
   "source": [
    "In this output:\n",
    "\n",
    "* **chi2 statistic**: This is the calculated chi-square statistic value.\n",
    "* **p-value**: This helps us to decide whether there is a relationship between the variables. If p-value is small (typically <= 0.05), we can reject the null hypothesis of independence and conclude there is a relationship between the variables.\n",
    "* **degrees of freedom**: This is calculated based on the number of categories in each variable.\n",
    "* **expected contingency table**: This is the contingency table that we would expect if the variables were independent of each other."
   ]
  },
  {
   "cell_type": "code",
   "id": "20d01b3082d1684d",
   "metadata": {
    "ExecuteTime": {
     "end_time": "2024-06-26T22:32:22.514446Z",
     "start_time": "2024-06-26T22:32:22.499448Z"
    }
   },
   "source": [
    "training_window_latest_information['Mortgage_Active'].value_counts()"
   ],
   "outputs": [
    {
     "data": {
      "text/plain": [
       "Mortgage_Active\n",
       "No     25978\n",
       "Yes      531\n",
       "Name: count, dtype: int64"
      ]
     },
     "execution_count": 46,
     "metadata": {},
     "output_type": "execute_result"
    }
   ],
   "execution_count": 46
  },
  {
   "cell_type": "code",
   "id": "13861ee66f6db030",
   "metadata": {
    "ExecuteTime": {
     "end_time": "2024-06-26T22:32:22.529446Z",
     "start_time": "2024-06-26T22:32:22.515448Z"
    }
   },
   "source": [
    "training_window_latest_information['CreditCard_Active'].value_counts()"
   ],
   "outputs": [
    {
     "data": {
      "text/plain": [
       "CreditCard_Active\n",
       "Yes    18275\n",
       "No      8234\n",
       "Name: count, dtype: int64"
      ]
     },
     "execution_count": 47,
     "metadata": {},
     "output_type": "execute_result"
    }
   ],
   "execution_count": 47
  },
  {
   "cell_type": "code",
   "id": "888c046c0d37aba9",
   "metadata": {
    "ExecuteTime": {
     "end_time": "2024-06-26T22:32:22.544876Z",
     "start_time": "2024-06-26T22:32:22.530446Z"
    }
   },
   "source": [
    "training_window_latest_information['SavingAccount_Active_DOLLAR'].value_counts(dropna=False)"
   ],
   "outputs": [
    {
     "data": {
      "text/plain": [
       "SavingAccount_Active_DOLLAR\n",
       "No     14138\n",
       "Yes    12371\n",
       "Name: count, dtype: int64"
      ]
     },
     "execution_count": 48,
     "metadata": {},
     "output_type": "execute_result"
    }
   ],
   "execution_count": 48
  },
  {
   "cell_type": "code",
   "id": "4608cfdd758b66fd",
   "metadata": {
    "ExecuteTime": {
     "end_time": "2024-06-26T22:32:22.560447Z",
     "start_time": "2024-06-26T22:32:22.545877Z"
    }
   },
   "source": [
    "training_window['SavingAccount_Days_with_use'].isna().sum()"
   ],
   "outputs": [
    {
     "data": {
      "text/plain": [
       "0"
      ]
     },
     "execution_count": 49,
     "metadata": {},
     "output_type": "execute_result"
    }
   ],
   "execution_count": 49
  },
  {
   "cell_type": "code",
   "id": "c44751a5cd98f050",
   "metadata": {
    "ExecuteTime": {
     "end_time": "2024-06-26T22:32:22.575391Z",
     "start_time": "2024-06-26T22:32:22.561392Z"
    }
   },
   "source": [
    "training_window['SavingAccount_Days_with_use'].describe()"
   ],
   "outputs": [
    {
     "data": {
      "text/plain": [
       "count    159009.000000\n",
       "mean          2.326070\n",
       "std           3.754833\n",
       "min           0.000000\n",
       "25%           0.000000\n",
       "50%           0.000000\n",
       "75%           3.000000\n",
       "max          41.000000\n",
       "Name: SavingAccount_Days_with_use, dtype: float64"
      ]
     },
     "execution_count": 50,
     "metadata": {},
     "output_type": "execute_result"
    }
   ],
   "execution_count": 50
  },
  {
   "cell_type": "code",
   "id": "a9a01f6b989f9f2e",
   "metadata": {
    "ExecuteTime": {
     "end_time": "2024-06-26T22:32:22.667908Z",
     "start_time": "2024-06-26T22:32:22.576392Z"
    }
   },
   "source": [
    "training_window[['SavingAccount_Days_with_use', 'Month']].groupby('Month').agg(\n",
    "    mean_use=('SavingAccount_Days_with_use', 'mean'),\n",
    "    std_use=('SavingAccount_Days_with_use', 'std'),\n",
    "    median_use=('SavingAccount_Days_with_use', 'median'),\n",
    "    max=('SavingAccount_Days_with_use', 'max')\n",
    ")"
   ],
   "outputs": [
    {
     "data": {
      "text/plain": [
       "            mean_use   std_use  median_use   max\n",
       "Month                                           \n",
       "2018-08-01  2.308882  3.797383         0.0  41.0\n",
       "2018-09-01  2.189389  3.487511         0.0  30.0\n",
       "2018-10-01  2.395608  3.886136         0.0  39.0\n",
       "2018-11-01  2.205049  3.502591         0.0  35.0\n",
       "2018-12-01  2.373458  3.721031         0.0  32.0\n",
       "2019-01-01  2.484021  4.090272         0.0  38.0"
      ],
      "text/html": [
       "<div>\n",
       "<style scoped>\n",
       "    .dataframe tbody tr th:only-of-type {\n",
       "        vertical-align: middle;\n",
       "    }\n",
       "\n",
       "    .dataframe tbody tr th {\n",
       "        vertical-align: top;\n",
       "    }\n",
       "\n",
       "    .dataframe thead th {\n",
       "        text-align: right;\n",
       "    }\n",
       "</style>\n",
       "<table border=\"1\" class=\"dataframe\">\n",
       "  <thead>\n",
       "    <tr style=\"text-align: right;\">\n",
       "      <th></th>\n",
       "      <th>mean_use</th>\n",
       "      <th>std_use</th>\n",
       "      <th>median_use</th>\n",
       "      <th>max</th>\n",
       "    </tr>\n",
       "    <tr>\n",
       "      <th>Month</th>\n",
       "      <th></th>\n",
       "      <th></th>\n",
       "      <th></th>\n",
       "      <th></th>\n",
       "    </tr>\n",
       "  </thead>\n",
       "  <tbody>\n",
       "    <tr>\n",
       "      <th>2018-08-01</th>\n",
       "      <td>2.308882</td>\n",
       "      <td>3.797383</td>\n",
       "      <td>0.0</td>\n",
       "      <td>41.0</td>\n",
       "    </tr>\n",
       "    <tr>\n",
       "      <th>2018-09-01</th>\n",
       "      <td>2.189389</td>\n",
       "      <td>3.487511</td>\n",
       "      <td>0.0</td>\n",
       "      <td>30.0</td>\n",
       "    </tr>\n",
       "    <tr>\n",
       "      <th>2018-10-01</th>\n",
       "      <td>2.395608</td>\n",
       "      <td>3.886136</td>\n",
       "      <td>0.0</td>\n",
       "      <td>39.0</td>\n",
       "    </tr>\n",
       "    <tr>\n",
       "      <th>2018-11-01</th>\n",
       "      <td>2.205049</td>\n",
       "      <td>3.502591</td>\n",
       "      <td>0.0</td>\n",
       "      <td>35.0</td>\n",
       "    </tr>\n",
       "    <tr>\n",
       "      <th>2018-12-01</th>\n",
       "      <td>2.373458</td>\n",
       "      <td>3.721031</td>\n",
       "      <td>0.0</td>\n",
       "      <td>32.0</td>\n",
       "    </tr>\n",
       "    <tr>\n",
       "      <th>2019-01-01</th>\n",
       "      <td>2.484021</td>\n",
       "      <td>4.090272</td>\n",
       "      <td>0.0</td>\n",
       "      <td>38.0</td>\n",
       "    </tr>\n",
       "  </tbody>\n",
       "</table>\n",
       "</div>"
      ]
     },
     "execution_count": 51,
     "metadata": {},
     "output_type": "execute_result"
    }
   ],
   "execution_count": 51
  },
  {
   "cell_type": "code",
   "id": "3062fe594470489f",
   "metadata": {
    "ExecuteTime": {
     "end_time": "2024-06-26T22:32:22.957642Z",
     "start_time": "2024-06-26T22:32:22.668908Z"
    }
   },
   "source": [
    "sns.boxplot(data=training_window, x='SavingAccount_Days_with_use')\n",
    "plt.text(x=3 * training_window['SavingAccount_Days_with_use'].std(), y=-0.2, s='3-Sigma')\n",
    "plt.show()"
   ],
   "outputs": [
    {
     "data": {
      "text/plain": [
       "<Figure size 640x480 with 1 Axes>"
      ],
      "image/png": "[encoded data removed]"
     },
     "metadata": {},
     "output_type": "display_data"
    }
   ],
   "execution_count": 52
  },
  {
   "cell_type": "code",
   "id": "aff7dcb41647cb50",
   "metadata": {
    "ExecuteTime": {
     "end_time": "2024-06-26T22:32:23.722691Z",
     "start_time": "2024-06-26T22:32:22.958644Z"
    }
   },
   "source": [
    "sns.displot(data=training_window['SavingAccount_Days_with_use'], kind='kde')\n",
    "plt.show()"
   ],
   "outputs": [
    {
     "data": {
      "text/plain": [
       "<Figure size 500x500 with 1 Axes>"
      ],
      "image/png": "[encoded data removed]"
     },
     "metadata": {},
     "output_type": "display_data"
    }
   ],
   "execution_count": 53
  },
  {
   "cell_type": "code",
   "id": "f20ac29f62170e22",
   "metadata": {
    "ExecuteTime": {
     "end_time": "2024-06-26T22:32:23.738689Z",
     "start_time": "2024-06-26T22:32:23.723694Z"
    }
   },
   "source": [
    "training_window['SavingAccount_Days_with_use'].describe()"
   ],
   "outputs": [
    {
     "data": {
      "text/plain": [
       "count    159009.000000\n",
       "mean          2.326070\n",
       "std           3.754833\n",
       "min           0.000000\n",
       "25%           0.000000\n",
       "50%           0.000000\n",
       "75%           3.000000\n",
       "max          41.000000\n",
       "Name: SavingAccount_Days_with_use, dtype: float64"
      ]
     },
     "execution_count": 54,
     "metadata": {},
     "output_type": "execute_result"
    }
   ],
   "execution_count": 54
  },
  {
   "cell_type": "code",
   "id": "1cedd236e6735536",
   "metadata": {
    "ExecuteTime": {
     "end_time": "2024-06-26T22:32:23.770691Z",
     "start_time": "2024-06-26T22:32:23.739693Z"
    }
   },
   "source": [
    "training_window[['SavingAccount_Days_with_Credits', 'SavingAccount_Days_with_Debits']].describe()"
   ],
   "outputs": [
    {
     "data": {
      "text/plain": [
       "       SavingAccount_Days_with_Credits  SavingAccount_Days_with_Debits\n",
       "count                    159009.000000                   159009.000000\n",
       "mean                          1.158287                        1.717274\n",
       "std                           1.760864                        3.167589\n",
       "min                           0.000000                        0.000000\n",
       "25%                           0.000000                        0.000000\n",
       "50%                           0.000000                        0.000000\n",
       "75%                           2.000000                        2.000000\n",
       "max                          30.000000                       36.000000"
      ],
      "text/html": [
       "<div>\n",
       "<style scoped>\n",
       "    .dataframe tbody tr th:only-of-type {\n",
       "        vertical-align: middle;\n",
       "    }\n",
       "\n",
       "    .dataframe tbody tr th {\n",
       "        vertical-align: top;\n",
       "    }\n",
       "\n",
       "    .dataframe thead th {\n",
       "        text-align: right;\n",
       "    }\n",
       "</style>\n",
       "<table border=\"1\" class=\"dataframe\">\n",
       "  <thead>\n",
       "    <tr style=\"text-align: right;\">\n",
       "      <th></th>\n",
       "      <th>SavingAccount_Days_with_Credits</th>\n",
       "      <th>SavingAccount_Days_with_Debits</th>\n",
       "    </tr>\n",
       "  </thead>\n",
       "  <tbody>\n",
       "    <tr>\n",
       "      <th>count</th>\n",
       "      <td>159009.000000</td>\n",
       "      <td>159009.000000</td>\n",
       "    </tr>\n",
       "    <tr>\n",
       "      <th>mean</th>\n",
       "      <td>1.158287</td>\n",
       "      <td>1.717274</td>\n",
       "    </tr>\n",
       "    <tr>\n",
       "      <th>std</th>\n",
       "      <td>1.760864</td>\n",
       "      <td>3.167589</td>\n",
       "    </tr>\n",
       "    <tr>\n",
       "      <th>min</th>\n",
       "      <td>0.000000</td>\n",
       "      <td>0.000000</td>\n",
       "    </tr>\n",
       "    <tr>\n",
       "      <th>25%</th>\n",
       "      <td>0.000000</td>\n",
       "      <td>0.000000</td>\n",
       "    </tr>\n",
       "    <tr>\n",
       "      <th>50%</th>\n",
       "      <td>0.000000</td>\n",
       "      <td>0.000000</td>\n",
       "    </tr>\n",
       "    <tr>\n",
       "      <th>75%</th>\n",
       "      <td>2.000000</td>\n",
       "      <td>2.000000</td>\n",
       "    </tr>\n",
       "    <tr>\n",
       "      <th>max</th>\n",
       "      <td>30.000000</td>\n",
       "      <td>36.000000</td>\n",
       "    </tr>\n",
       "  </tbody>\n",
       "</table>\n",
       "</div>"
      ]
     },
     "execution_count": 55,
     "metadata": {},
     "output_type": "execute_result"
    }
   ],
   "execution_count": 55
  },
  {
   "cell_type": "code",
   "id": "d7f68225098321d8",
   "metadata": {
    "ExecuteTime": {
     "end_time": "2024-06-26T22:32:25.217037Z",
     "start_time": "2024-06-26T22:32:23.771692Z"
    }
   },
   "source": [
    "sns.displot(data=training_window[['SavingAccount_Days_with_Credits', 'SavingAccount_Days_with_Debits']], kind='kde')\n",
    "plt.show()"
   ],
   "outputs": [
    {
     "data": {
      "text/plain": [
       "<Figure size 766.625x500 with 1 Axes>"
      ],
      "image/png": "[encoded data removed]"
     },
     "metadata": {},
     "output_type": "display_data"
    }
   ],
   "execution_count": 56
  },
  {
   "cell_type": "code",
   "id": "5f48a098b00e1636",
   "metadata": {
    "ExecuteTime": {
     "end_time": "2024-06-26T22:32:25.232038Z",
     "start_time": "2024-06-26T22:32:25.218038Z"
    }
   },
   "source": [
    "training_window[['SavingAccount_Credits_Amounts', 'SavingAccount_Debits_Amounts']].isna().sum()"
   ],
   "outputs": [
    {
     "data": {
      "text/plain": [
       "SavingAccount_Credits_Amounts    0\n",
       "SavingAccount_Debits_Amounts     0\n",
       "dtype: int64"
      ]
     },
     "execution_count": 57,
     "metadata": {},
     "output_type": "execute_result"
    }
   ],
   "execution_count": 57
  },
  {
   "cell_type": "code",
   "id": "65dd35a82a47188d",
   "metadata": {
    "ExecuteTime": {
     "end_time": "2024-06-26T22:32:25.263843Z",
     "start_time": "2024-06-26T22:32:25.233039Z"
    }
   },
   "source": [
    "training_window[['SavingAccount_Credits_Amounts', 'SavingAccount_Debits_Amounts']].describe()"
   ],
   "outputs": [
    {
     "data": {
      "text/plain": [
       "       SavingAccount_Credits_Amounts  SavingAccount_Debits_Amounts\n",
       "count                   1.590090e+05                  1.590090e+05\n",
       "mean                    1.478460e+04                  1.472050e+04\n",
       "std                     8.937540e+04                  8.899189e+04\n",
       "min                     0.000000e+00                  0.000000e+00\n",
       "25%                     0.000000e+00                  0.000000e+00\n",
       "50%                     0.000000e+00                  0.000000e+00\n",
       "75%                     6.000630e+03                  6.241180e+03\n",
       "max                     6.469145e+06                  6.240007e+06"
      ],
      "text/html": [
       "<div>\n",
       "<style scoped>\n",
       "    .dataframe tbody tr th:only-of-type {\n",
       "        vertical-align: middle;\n",
       "    }\n",
       "\n",
       "    .dataframe tbody tr th {\n",
       "        vertical-align: top;\n",
       "    }\n",
       "\n",
       "    .dataframe thead th {\n",
       "        text-align: right;\n",
       "    }\n",
       "</style>\n",
       "<table border=\"1\" class=\"dataframe\">\n",
       "  <thead>\n",
       "    <tr style=\"text-align: right;\">\n",
       "      <th></th>\n",
       "      <th>SavingAccount_Credits_Amounts</th>\n",
       "      <th>SavingAccount_Debits_Amounts</th>\n",
       "    </tr>\n",
       "  </thead>\n",
       "  <tbody>\n",
       "    <tr>\n",
       "      <th>count</th>\n",
       "      <td>1.590090e+05</td>\n",
       "      <td>1.590090e+05</td>\n",
       "    </tr>\n",
       "    <tr>\n",
       "      <th>mean</th>\n",
       "      <td>1.478460e+04</td>\n",
       "      <td>1.472050e+04</td>\n",
       "    </tr>\n",
       "    <tr>\n",
       "      <th>std</th>\n",
       "      <td>8.937540e+04</td>\n",
       "      <td>8.899189e+04</td>\n",
       "    </tr>\n",
       "    <tr>\n",
       "      <th>min</th>\n",
       "      <td>0.000000e+00</td>\n",
       "      <td>0.000000e+00</td>\n",
       "    </tr>\n",
       "    <tr>\n",
       "      <th>25%</th>\n",
       "      <td>0.000000e+00</td>\n",
       "      <td>0.000000e+00</td>\n",
       "    </tr>\n",
       "    <tr>\n",
       "      <th>50%</th>\n",
       "      <td>0.000000e+00</td>\n",
       "      <td>0.000000e+00</td>\n",
       "    </tr>\n",
       "    <tr>\n",
       "      <th>75%</th>\n",
       "      <td>6.000630e+03</td>\n",
       "      <td>6.241180e+03</td>\n",
       "    </tr>\n",
       "    <tr>\n",
       "      <th>max</th>\n",
       "      <td>6.469145e+06</td>\n",
       "      <td>6.240007e+06</td>\n",
       "    </tr>\n",
       "  </tbody>\n",
       "</table>\n",
       "</div>"
      ]
     },
     "execution_count": 58,
     "metadata": {},
     "output_type": "execute_result"
    }
   ],
   "execution_count": 58
  },
  {
   "cell_type": "code",
   "id": "b726b79b8b6678d9",
   "metadata": {
    "ExecuteTime": {
     "end_time": "2024-06-26T22:32:25.341354Z",
     "start_time": "2024-06-26T22:32:25.264840Z"
    }
   },
   "source": [
    "training_window[['SavingAccount_Credits_Amounts', 'Month']].groupby('Month').agg(\n",
    "    mean_amount=('SavingAccount_Credits_Amounts', 'mean'),\n",
    "    std_amount=('SavingAccount_Credits_Amounts', 'std'),\n",
    "    median_amount=('SavingAccount_Credits_Amounts', 'median'),\n",
    "    max=('SavingAccount_Credits_Amounts', 'max')\n",
    ")"
   ],
   "outputs": [
    {
     "data": {
      "text/plain": [
       "             mean_amount     std_amount  median_amount         max\n",
       "Month                                                             \n",
       "2018-08-01  14309.032971   83892.233338            0.0  4023083.23\n",
       "2018-09-01  13392.702331   84696.707687            0.0  4662997.28\n",
       "2018-10-01  14544.200574   86091.123420            0.0  3927000.00\n",
       "2018-11-01  13641.826536   80312.967328            0.0  4850598.47\n",
       "2018-12-01  16456.518208   96944.220081            0.0  6469145.04\n",
       "2019-01-01  16363.202016  102219.576598            0.0  4417988.58"
      ],
      "text/html": [
       "<div>\n",
       "<style scoped>\n",
       "    .dataframe tbody tr th:only-of-type {\n",
       "        vertical-align: middle;\n",
       "    }\n",
       "\n",
       "    .dataframe tbody tr th {\n",
       "        vertical-align: top;\n",
       "    }\n",
       "\n",
       "    .dataframe thead th {\n",
       "        text-align: right;\n",
       "    }\n",
       "</style>\n",
       "<table border=\"1\" class=\"dataframe\">\n",
       "  <thead>\n",
       "    <tr style=\"text-align: right;\">\n",
       "      <th></th>\n",
       "      <th>mean_amount</th>\n",
       "      <th>std_amount</th>\n",
       "      <th>median_amount</th>\n",
       "      <th>max</th>\n",
       "    </tr>\n",
       "    <tr>\n",
       "      <th>Month</th>\n",
       "      <th></th>\n",
       "      <th></th>\n",
       "      <th></th>\n",
       "      <th></th>\n",
       "    </tr>\n",
       "  </thead>\n",
       "  <tbody>\n",
       "    <tr>\n",
       "      <th>2018-08-01</th>\n",
       "      <td>14309.032971</td>\n",
       "      <td>83892.233338</td>\n",
       "      <td>0.0</td>\n",
       "      <td>4023083.23</td>\n",
       "    </tr>\n",
       "    <tr>\n",
       "      <th>2018-09-01</th>\n",
       "      <td>13392.702331</td>\n",
       "      <td>84696.707687</td>\n",
       "      <td>0.0</td>\n",
       "      <td>4662997.28</td>\n",
       "    </tr>\n",
       "    <tr>\n",
       "      <th>2018-10-01</th>\n",
       "      <td>14544.200574</td>\n",
       "      <td>86091.123420</td>\n",
       "      <td>0.0</td>\n",
       "      <td>3927000.00</td>\n",
       "    </tr>\n",
       "    <tr>\n",
       "      <th>2018-11-01</th>\n",
       "      <td>13641.826536</td>\n",
       "      <td>80312.967328</td>\n",
       "      <td>0.0</td>\n",
       "      <td>4850598.47</td>\n",
       "    </tr>\n",
       "    <tr>\n",
       "      <th>2018-12-01</th>\n",
       "      <td>16456.518208</td>\n",
       "      <td>96944.220081</td>\n",
       "      <td>0.0</td>\n",
       "      <td>6469145.04</td>\n",
       "    </tr>\n",
       "    <tr>\n",
       "      <th>2019-01-01</th>\n",
       "      <td>16363.202016</td>\n",
       "      <td>102219.576598</td>\n",
       "      <td>0.0</td>\n",
       "      <td>4417988.58</td>\n",
       "    </tr>\n",
       "  </tbody>\n",
       "</table>\n",
       "</div>"
      ]
     },
     "execution_count": 59,
     "metadata": {},
     "output_type": "execute_result"
    }
   ],
   "execution_count": 59
  },
  {
   "cell_type": "code",
   "id": "3426944ddd137e80",
   "metadata": {
    "ExecuteTime": {
     "end_time": "2024-06-26T22:32:25.417353Z",
     "start_time": "2024-06-26T22:32:25.342352Z"
    }
   },
   "source": [
    "training_window[['SavingAccount_Debits_Amounts', 'Month']].groupby('Month').agg(\n",
    "    mean_amount=('SavingAccount_Debits_Amounts', 'mean'),\n",
    "    std_amount=('SavingAccount_Debits_Amounts', 'std'),\n",
    "    median_amount=('SavingAccount_Debits_Amounts', 'median'),\n",
    "    max=('SavingAccount_Debits_Amounts', 'max')\n",
    ")"
   ],
   "outputs": [
    {
     "data": {
      "text/plain": [
       "             mean_amount     std_amount  median_amount         max\n",
       "Month                                                             \n",
       "2018-08-01  14170.025528   83869.213523            0.0  4024409.05\n",
       "2018-09-01  13683.615262   84891.290462            0.0  4652429.35\n",
       "2018-10-01  14659.241007   85129.155050            0.0  3927080.80\n",
       "2018-11-01  13555.910965   79212.363779            0.0  4827661.51\n",
       "2018-12-01  15534.074749   96993.380198            0.0  6240006.95\n",
       "2019-01-01  16719.998962  101692.803595            0.0  4417880.49"
      ],
      "text/html": [
       "<div>\n",
       "<style scoped>\n",
       "    .dataframe tbody tr th:only-of-type {\n",
       "        vertical-align: middle;\n",
       "    }\n",
       "\n",
       "    .dataframe tbody tr th {\n",
       "        vertical-align: top;\n",
       "    }\n",
       "\n",
       "    .dataframe thead th {\n",
       "        text-align: right;\n",
       "    }\n",
       "</style>\n",
       "<table border=\"1\" class=\"dataframe\">\n",
       "  <thead>\n",
       "    <tr style=\"text-align: right;\">\n",
       "      <th></th>\n",
       "      <th>mean_amount</th>\n",
       "      <th>std_amount</th>\n",
       "      <th>median_amount</th>\n",
       "      <th>max</th>\n",
       "    </tr>\n",
       "    <tr>\n",
       "      <th>Month</th>\n",
       "      <th></th>\n",
       "      <th></th>\n",
       "      <th></th>\n",
       "      <th></th>\n",
       "    </tr>\n",
       "  </thead>\n",
       "  <tbody>\n",
       "    <tr>\n",
       "      <th>2018-08-01</th>\n",
       "      <td>14170.025528</td>\n",
       "      <td>83869.213523</td>\n",
       "      <td>0.0</td>\n",
       "      <td>4024409.05</td>\n",
       "    </tr>\n",
       "    <tr>\n",
       "      <th>2018-09-01</th>\n",
       "      <td>13683.615262</td>\n",
       "      <td>84891.290462</td>\n",
       "      <td>0.0</td>\n",
       "      <td>4652429.35</td>\n",
       "    </tr>\n",
       "    <tr>\n",
       "      <th>2018-10-01</th>\n",
       "      <td>14659.241007</td>\n",
       "      <td>85129.155050</td>\n",
       "      <td>0.0</td>\n",
       "      <td>3927080.80</td>\n",
       "    </tr>\n",
       "    <tr>\n",
       "      <th>2018-11-01</th>\n",
       "      <td>13555.910965</td>\n",
       "      <td>79212.363779</td>\n",
       "      <td>0.0</td>\n",
       "      <td>4827661.51</td>\n",
       "    </tr>\n",
       "    <tr>\n",
       "      <th>2018-12-01</th>\n",
       "      <td>15534.074749</td>\n",
       "      <td>96993.380198</td>\n",
       "      <td>0.0</td>\n",
       "      <td>6240006.95</td>\n",
       "    </tr>\n",
       "    <tr>\n",
       "      <th>2019-01-01</th>\n",
       "      <td>16719.998962</td>\n",
       "      <td>101692.803595</td>\n",
       "      <td>0.0</td>\n",
       "      <td>4417880.49</td>\n",
       "    </tr>\n",
       "  </tbody>\n",
       "</table>\n",
       "</div>"
      ]
     },
     "execution_count": 60,
     "metadata": {},
     "output_type": "execute_result"
    }
   ],
   "execution_count": 60
  },
  {
   "cell_type": "code",
   "id": "41bbd70752e30a92",
   "metadata": {
    "ExecuteTime": {
     "end_time": "2024-06-26T22:32:25.730468Z",
     "start_time": "2024-06-26T22:32:25.418353Z"
    }
   },
   "source": [
    "df_agg = training_window[['SavingAccount_Debits_Amounts', 'SavingAccount_Credits_Amounts', 'Month']].groupby(\n",
    "    'Month').agg(\n",
    "    mean_debits=('SavingAccount_Debits_Amounts', 'mean'),\n",
    "    mean_credits=('SavingAccount_Credits_Amounts', 'mean'),\n",
    ")\n",
    "\n",
    "plt.figure(figsize=(15, 6))\n",
    "plt.plot(df_agg.index, df_agg['mean_debits'], label='Debits')\n",
    "plt.plot(df_agg.index, df_agg['mean_credits'], label='Credits')\n",
    "plt.xlabel('Month')\n",
    "plt.ylabel('Amount')\n",
    "plt.title('Monthly Statistics of Credits/Debits Amounts')\n",
    "plt.legend()\n",
    "plt.show()"
   ],
   "outputs": [
    {
     "data": {
      "text/plain": [
       "<Figure size 1500x600 with 1 Axes>"
      ],
      "image/png": "[encoded data removed]"
     },
     "metadata": {},
     "output_type": "display_data"
    }
   ],
   "execution_count": 61
  },
  {
   "cell_type": "code",
   "id": "1782b049e9fb7bdd",
   "metadata": {
    "ExecuteTime": {
     "end_time": "2024-06-26T22:32:25.745468Z",
     "start_time": "2024-06-26T22:32:25.731468Z"
    }
   },
   "source": [
    "training_window[['Operations_Bank', 'Operations_HomeBanking', 'Operations_Mobile']].isna().sum()"
   ],
   "outputs": [
    {
     "data": {
      "text/plain": [
       "Operations_Bank           0\n",
       "Operations_HomeBanking    0\n",
       "Operations_Mobile         0\n",
       "dtype: int64"
      ]
     },
     "execution_count": 62,
     "metadata": {},
     "output_type": "execute_result"
    }
   ],
   "execution_count": 62
  },
  {
   "cell_type": "code",
   "id": "79412049ed0404d5",
   "metadata": {
    "ExecuteTime": {
     "end_time": "2024-06-26T22:32:25.777468Z",
     "start_time": "2024-06-26T22:32:25.746469Z"
    }
   },
   "source": [
    "training_window[['Operations_Bank', 'Operations_HomeBanking', 'Operations_Mobile']].describe()"
   ],
   "outputs": [
    {
     "data": {
      "text/plain": [
       "       Operations_Bank  Operations_HomeBanking  Operations_Mobile\n",
       "count    159009.000000           159009.000000      159009.000000\n",
       "mean          0.121125                1.178361           0.644492\n",
       "std           0.460034                2.895774           2.527516\n",
       "min           0.000000                0.000000           0.000000\n",
       "25%           0.000000                0.000000           0.000000\n",
       "50%           0.000000                0.000000           0.000000\n",
       "75%           0.000000                1.000000           0.000000\n",
       "max          19.000000               30.000000          30.000000"
      ],
      "text/html": [
       "<div>\n",
       "<style scoped>\n",
       "    .dataframe tbody tr th:only-of-type {\n",
       "        vertical-align: middle;\n",
       "    }\n",
       "\n",
       "    .dataframe tbody tr th {\n",
       "        vertical-align: top;\n",
       "    }\n",
       "\n",
       "    .dataframe thead th {\n",
       "        text-align: right;\n",
       "    }\n",
       "</style>\n",
       "<table border=\"1\" class=\"dataframe\">\n",
       "  <thead>\n",
       "    <tr style=\"text-align: right;\">\n",
       "      <th></th>\n",
       "      <th>Operations_Bank</th>\n",
       "      <th>Operations_HomeBanking</th>\n",
       "      <th>Operations_Mobile</th>\n",
       "    </tr>\n",
       "  </thead>\n",
       "  <tbody>\n",
       "    <tr>\n",
       "      <th>count</th>\n",
       "      <td>159009.000000</td>\n",
       "      <td>159009.000000</td>\n",
       "      <td>159009.000000</td>\n",
       "    </tr>\n",
       "    <tr>\n",
       "      <th>mean</th>\n",
       "      <td>0.121125</td>\n",
       "      <td>1.178361</td>\n",
       "      <td>0.644492</td>\n",
       "    </tr>\n",
       "    <tr>\n",
       "      <th>std</th>\n",
       "      <td>0.460034</td>\n",
       "      <td>2.895774</td>\n",
       "      <td>2.527516</td>\n",
       "    </tr>\n",
       "    <tr>\n",
       "      <th>min</th>\n",
       "      <td>0.000000</td>\n",
       "      <td>0.000000</td>\n",
       "      <td>0.000000</td>\n",
       "    </tr>\n",
       "    <tr>\n",
       "      <th>25%</th>\n",
       "      <td>0.000000</td>\n",
       "      <td>0.000000</td>\n",
       "      <td>0.000000</td>\n",
       "    </tr>\n",
       "    <tr>\n",
       "      <th>50%</th>\n",
       "      <td>0.000000</td>\n",
       "      <td>0.000000</td>\n",
       "      <td>0.000000</td>\n",
       "    </tr>\n",
       "    <tr>\n",
       "      <th>75%</th>\n",
       "      <td>0.000000</td>\n",
       "      <td>1.000000</td>\n",
       "      <td>0.000000</td>\n",
       "    </tr>\n",
       "    <tr>\n",
       "      <th>max</th>\n",
       "      <td>19.000000</td>\n",
       "      <td>30.000000</td>\n",
       "      <td>30.000000</td>\n",
       "    </tr>\n",
       "  </tbody>\n",
       "</table>\n",
       "</div>"
      ]
     },
     "execution_count": 63,
     "metadata": {},
     "output_type": "execute_result"
    }
   ],
   "execution_count": 63
  },
  {
   "cell_type": "code",
   "id": "b92e46a6d025a755",
   "metadata": {
    "ExecuteTime": {
     "end_time": "2024-06-26T22:32:25.838987Z",
     "start_time": "2024-06-26T22:32:25.778469Z"
    }
   },
   "source": [
    "training_window['most_used_operation'] = training_window[\n",
    "    ['Operations_Bank', 'Operations_HomeBanking', 'Operations_Mobile']].idxmax(axis=1)\n",
    "training_window['most_used_operation'] = training_window['most_used_operation'].replace({\n",
    "    'Operations_Bank': 'Bank',\n",
    "    'Operations_HomeBanking': 'HomeBanking',\n",
    "    'Operations_Mobile': 'Mobile'\n",
    "})\n",
    "training_window['most_used_operation'].value_counts()"
   ],
   "outputs": [
    {
     "data": {
      "text/plain": [
       "most_used_operation\n",
       "Bank           107619\n",
       "HomeBanking     39371\n",
       "Mobile          12019\n",
       "Name: count, dtype: int64"
      ]
     },
     "execution_count": 64,
     "metadata": {},
     "output_type": "execute_result"
    }
   ],
   "execution_count": 64
  },
  {
   "cell_type": "code",
   "id": "265b63f01b8229e0",
   "metadata": {
    "ExecuteTime": {
     "end_time": "2024-06-26T22:32:26.091126Z",
     "start_time": "2024-06-26T22:32:25.839990Z"
    }
   },
   "source": [
    "pivot_data = training_window.groupby(['Month', 'most_used_operation']).size().unstack(fill_value=0)\n",
    "\n",
    "# Plot\n",
    "pivot_data.plot(kind='line')\n",
    "plt.title('Most Used Operation by Month')\n",
    "plt.ylabel('Count')\n",
    "plt.xlabel('Month')\n",
    "plt.show()"
   ],
   "outputs": [
    {
     "data": {
      "text/plain": [
       "<Figure size 640x480 with 1 Axes>"
      ],
      "image/png": "[encoded data removed]"
     },
     "metadata": {},
     "output_type": "display_data"
    }
   ],
   "execution_count": 65
  },
  {
   "metadata": {
    "ExecuteTime": {
     "end_time": "2024-06-26T22:32:26.121127Z",
     "start_time": "2024-06-26T22:32:26.092125Z"
    }
   },
   "cell_type": "code",
   "source": [
    "operations_to_sum = ['Operations_Bank', 'Operations_Terminal', 'Operations_HomeBanking',\n",
    "                     'Operations_Mobile', 'Operations_Ivr', 'Operations_Telemarketer', 'Operations_ATM']\n",
    "training_window['Operations_Total'] = training_window[operations_to_sum].sum(axis=1)"
   ],
   "id": "26404c9e0d5a067a",
   "outputs": [],
   "execution_count": 66
  },
  {
   "cell_type": "code",
   "id": "2d38870bcac2685f",
   "metadata": {
    "ExecuteTime": {
     "end_time": "2024-06-26T22:32:26.137125Z",
     "start_time": "2024-06-26T22:32:26.123126Z"
    }
   },
   "source": [
    "training_window['CreditCard_Total_Spending'].describe()"
   ],
   "outputs": [
    {
     "data": {
      "text/plain": [
       "count    159009.000000\n",
       "mean       4144.860517\n",
       "std        7048.204420\n",
       "min      -30164.770000\n",
       "25%           0.000000\n",
       "50%        1626.330000\n",
       "75%        5503.920000\n",
       "max      176554.250000\n",
       "Name: CreditCard_Total_Spending, dtype: float64"
      ]
     },
     "execution_count": 67,
     "metadata": {},
     "output_type": "execute_result"
    }
   ],
   "execution_count": 67
  },
  {
   "cell_type": "code",
   "id": "63c3a5aeae032950",
   "metadata": {
    "ExecuteTime": {
     "end_time": "2024-06-26T22:32:26.152415Z",
     "start_time": "2024-06-26T22:32:26.138127Z"
    }
   },
   "source": [
    "training_window[['CreditCard_Total_Spending', 'CreditCard_Active']].isnull().sum()"
   ],
   "outputs": [
    {
     "data": {
      "text/plain": [
       "CreditCard_Total_Spending    0\n",
       "CreditCard_Active            0\n",
       "dtype: int64"
      ]
     },
     "execution_count": 68,
     "metadata": {},
     "output_type": "execute_result"
    }
   ],
   "execution_count": 68
  },
  {
   "cell_type": "code",
   "id": "4b6da72aaaf81c0f",
   "metadata": {
    "ExecuteTime": {
     "end_time": "2024-06-26T22:32:26.765369Z",
     "start_time": "2024-06-26T22:32:26.153417Z"
    }
   },
   "source": [
    "sns.displot(training_window['CreditCard_Total_Spending'], kind='kde')\n",
    "\n",
    "plt.show()"
   ],
   "outputs": [
    {
     "data": {
      "text/plain": [
       "<Figure size 500x500 with 1 Axes>"
      ],
      "image/png": "[encoded data removed]"
     },
     "metadata": {},
     "output_type": "display_data"
    }
   ],
   "execution_count": 69
  },
  {
   "cell_type": "code",
   "id": "9b081548d4763bda",
   "metadata": {
    "ExecuteTime": {
     "end_time": "2024-06-26T22:32:26.780367Z",
     "start_time": "2024-06-26T22:32:26.766368Z"
    }
   },
   "source": [
    "training_window['CreditCard_Active'].value_counts()"
   ],
   "outputs": [
    {
     "data": {
      "text/plain": [
       "CreditCard_Active\n",
       "Yes    109722\n",
       "No      49287\n",
       "Name: count, dtype: int64"
      ]
     },
     "execution_count": 70,
     "metadata": {},
     "output_type": "execute_result"
    }
   ],
   "execution_count": 70
  },
  {
   "cell_type": "code",
   "id": "703b1525e011a5b9",
   "metadata": {
    "ExecuteTime": {
     "end_time": "2024-06-26T22:32:26.796066Z",
     "start_time": "2024-06-26T22:32:26.781368Z"
    }
   },
   "source": [
    "training_window['CreditCard_Total_Spending'].describe()"
   ],
   "outputs": [
    {
     "data": {
      "text/plain": [
       "count    159009.000000\n",
       "mean       4144.860517\n",
       "std        7048.204420\n",
       "min      -30164.770000\n",
       "25%           0.000000\n",
       "50%        1626.330000\n",
       "75%        5503.920000\n",
       "max      176554.250000\n",
       "Name: CreditCard_Total_Spending, dtype: float64"
      ]
     },
     "execution_count": 71,
     "metadata": {},
     "output_type": "execute_result"
    }
   ],
   "execution_count": 71
  },
  {
   "cell_type": "code",
   "id": "bb902e602e2c461c",
   "metadata": {
    "ExecuteTime": {
     "end_time": "2024-06-26T22:32:26.811601Z",
     "start_time": "2024-06-26T22:32:26.797064Z"
    }
   },
   "source": [
    "training_window[training_window['CreditCard_Total_Spending'] < 0][['CreditCard_Total_Spending']].describe()"
   ],
   "outputs": [
    {
     "data": {
      "text/plain": [
       "       CreditCard_Total_Spending\n",
       "count                  84.000000\n",
       "mean                -2845.617619\n",
       "std                  6099.293187\n",
       "min                -30164.770000\n",
       "25%                 -1652.802500\n",
       "50%                  -461.000000\n",
       "75%                  -199.000000\n",
       "max                    -1.770000"
      ],
      "text/html": [
       "<div>\n",
       "<style scoped>\n",
       "    .dataframe tbody tr th:only-of-type {\n",
       "        vertical-align: middle;\n",
       "    }\n",
       "\n",
       "    .dataframe tbody tr th {\n",
       "        vertical-align: top;\n",
       "    }\n",
       "\n",
       "    .dataframe thead th {\n",
       "        text-align: right;\n",
       "    }\n",
       "</style>\n",
       "<table border=\"1\" class=\"dataframe\">\n",
       "  <thead>\n",
       "    <tr style=\"text-align: right;\">\n",
       "      <th></th>\n",
       "      <th>CreditCard_Total_Spending</th>\n",
       "    </tr>\n",
       "  </thead>\n",
       "  <tbody>\n",
       "    <tr>\n",
       "      <th>count</th>\n",
       "      <td>84.000000</td>\n",
       "    </tr>\n",
       "    <tr>\n",
       "      <th>mean</th>\n",
       "      <td>-2845.617619</td>\n",
       "    </tr>\n",
       "    <tr>\n",
       "      <th>std</th>\n",
       "      <td>6099.293187</td>\n",
       "    </tr>\n",
       "    <tr>\n",
       "      <th>min</th>\n",
       "      <td>-30164.770000</td>\n",
       "    </tr>\n",
       "    <tr>\n",
       "      <th>25%</th>\n",
       "      <td>-1652.802500</td>\n",
       "    </tr>\n",
       "    <tr>\n",
       "      <th>50%</th>\n",
       "      <td>-461.000000</td>\n",
       "    </tr>\n",
       "    <tr>\n",
       "      <th>75%</th>\n",
       "      <td>-199.000000</td>\n",
       "    </tr>\n",
       "    <tr>\n",
       "      <th>max</th>\n",
       "      <td>-1.770000</td>\n",
       "    </tr>\n",
       "  </tbody>\n",
       "</table>\n",
       "</div>"
      ]
     },
     "execution_count": 72,
     "metadata": {},
     "output_type": "execute_result"
    }
   ],
   "execution_count": 72
  },
  {
   "cell_type": "code",
   "id": "f9bab2c212df39d2",
   "metadata": {
    "ExecuteTime": {
     "end_time": "2024-06-26T22:32:27.056631Z",
     "start_time": "2024-06-26T22:32:26.812599Z"
    }
   },
   "source": [
    "training_window_with_credit_card = training_window[training_window['CreditCard_Active'] == 'Yes']\n",
    "plt.boxplot(training_window_with_credit_card['CreditCard_Total_Spending'])\n",
    "\n",
    "# add labels for five number summary\n",
    "plt.text(x=1.1, y=training_window_with_credit_card['CreditCard_Total_Spending'].min(), s='min')\n",
    "plt.text(x=1.1, y=training_window_with_credit_card['CreditCard_Total_Spending'].quantile(0.25), s='Q1')\n",
    "plt.text(x=1.1, y=training_window_with_credit_card['CreditCard_Total_Spending'].median(), s='meadian (Q2)')\n",
    "plt.text(x=1.1, y=training_window_with_credit_card['CreditCard_Total_Spending'].quantile(0.75), s='Q3')\n",
    "plt.text(x=1.1, y=3 * training_window_with_credit_card['CreditCard_Total_Spending'].std(), s='3-Sigma')\n",
    "plt.text(x=1.1, y=training_window_with_credit_card['CreditCard_Total_Spending'].max(), s='max')\n",
    "\n",
    "# add the graph title and axes labels\n",
    "plt.title('Boxplot of Total Spending')\n",
    "plt.ylabel('Total Spending')\n",
    "\n",
    "plt.show()"
   ],
   "outputs": [
    {
     "data": {
      "text/plain": [
       "<Figure size 640x480 with 1 Axes>"
      ],
      "image/png": "[encoded data removed]"
     },
     "metadata": {},
     "output_type": "display_data"
    }
   ],
   "execution_count": 73
  },
  {
   "cell_type": "code",
   "id": "1455a2a86e406314",
   "metadata": {
    "ExecuteTime": {
     "end_time": "2024-06-26T22:32:27.072148Z",
     "start_time": "2024-06-26T22:32:27.057632Z"
    }
   },
   "source": [
    "training_window_with_credit_card['CreditCard_Total_Spending'].describe()"
   ],
   "outputs": [
    {
     "data": {
      "text/plain": [
       "count    109722.000000\n",
       "mean       5912.903570\n",
       "std        7808.862882\n",
       "min      -30164.770000\n",
       "25%        1286.942500\n",
       "50%        3618.675000\n",
       "75%        7606.962500\n",
       "max      176554.250000\n",
       "Name: CreditCard_Total_Spending, dtype: float64"
      ]
     },
     "execution_count": 74,
     "metadata": {},
     "output_type": "execute_result"
    }
   ],
   "execution_count": 74
  },
  {
   "cell_type": "code",
   "id": "91be0abf9009cd9e",
   "metadata": {
    "ExecuteTime": {
     "end_time": "2024-06-26T22:32:27.581024Z",
     "start_time": "2024-06-26T22:32:27.073148Z"
    }
   },
   "source": [
    "sns.displot(training_window_with_credit_card['CreditCard_Total_Spending'], kind='kde')\n",
    "plt.title('Distribution of CreditCard_Total_Spending Before Capping')\n",
    "plt.show()"
   ],
   "outputs": [
    {
     "data": {
      "text/plain": [
       "<Figure size 500x500 with 1 Axes>"
      ],
      "image/png": "[encoded data removed]"
     },
     "metadata": {},
     "output_type": "display_data"
    }
   ],
   "execution_count": 75
  },
  {
   "cell_type": "code",
   "id": "699d55d98559567f",
   "metadata": {
    "ExecuteTime": {
     "end_time": "2024-06-26T22:32:27.596645Z",
     "start_time": "2024-06-26T22:32:27.582021Z"
    }
   },
   "source": [
    "p95 = training_window_with_credit_card['CreditCard_Total_Spending'].quantile(0.95)\n",
    "p99 = training_window_with_credit_card['CreditCard_Total_Spending'].quantile(0.99)\n",
    "three_sigma = 3 * training_window_with_credit_card['CreditCard_Total_Spending'].std()\n",
    "\n",
    "print('p95         ', p95)\n",
    "print('p99         ', p99)\n",
    "print('Three sigma ', three_sigma)"
   ],
   "outputs": [
    {
     "name": "stdout",
     "output_type": "stream",
     "text": [
      "p95          19623.3755\n",
      "p99          36347.66319999997\n",
      "Three sigma  23426.588646255605\n"
     ]
    }
   ],
   "execution_count": 76
  },
  {
   "cell_type": "code",
   "id": "6b504efb37b19d1b",
   "metadata": {
    "ExecuteTime": {
     "end_time": "2024-06-26T22:32:27.841836Z",
     "start_time": "2024-06-26T22:32:27.596932Z"
    }
   },
   "source": [
    "df = training_window_with_credit_card.copy()\n",
    "\n",
    "df['CreditCard_Total_Spending'] = np.where(\n",
    "    training_window_with_credit_card['CreditCard_Total_Spending'] > p95,\n",
    "    p95,\n",
    "    training_window_with_credit_card['CreditCard_Total_Spending'])\n",
    "\n",
    "df.describe()"
   ],
   "outputs": [
    {
     "data": {
      "text/plain": [
       "              Target  SavingAccount_Balance_FirstDate  \\\n",
       "count  109722.000000                     1.097220e+05   \n",
       "mean        0.349912                     4.146408e+03   \n",
       "std         0.476944                     2.617210e+04   \n",
       "min         0.000000                     0.000000e+00   \n",
       "25%         0.000000                     0.000000e+00   \n",
       "50%         0.000000                     0.000000e+00   \n",
       "75%         1.000000                     1.947425e+02   \n",
       "max         1.000000                     2.693271e+06   \n",
       "\n",
       "       SavingAccount_Balance_LastDate  SavingAccount_Balance_Average  \\\n",
       "count                    1.097220e+05                  109722.000000   \n",
       "mean                     4.101622e+03                    3719.018318   \n",
       "std                      2.349813e+04                   18990.506005   \n",
       "min                      0.000000e+00                    -566.590000   \n",
       "25%                      0.000000e+00                       0.000000   \n",
       "50%                      0.000000e+00                       0.000000   \n",
       "75%                      2.159800e+02                    1016.825000   \n",
       "max                      2.410284e+06                  966593.730000   \n",
       "\n",
       "       SavingAccount_Days_with_use  SavingAccount_Days_with_Credits  \\\n",
       "count                109722.000000                    109722.000000   \n",
       "mean                      2.280272                         1.123175   \n",
       "std                       3.887394                         1.828205   \n",
       "min                       0.000000                         0.000000   \n",
       "25%                       0.000000                         0.000000   \n",
       "50%                       0.000000                         0.000000   \n",
       "75%                       3.000000                         2.000000   \n",
       "max                      41.000000                        30.000000   \n",
       "\n",
       "       SavingAccount_Days_with_Debits  \\\n",
       "count                   109722.000000   \n",
       "mean                         1.720895   \n",
       "std                          3.288013   \n",
       "min                          0.000000   \n",
       "25%                          0.000000   \n",
       "50%                          0.000000   \n",
       "75%                          2.000000   \n",
       "max                         36.000000   \n",
       "\n",
       "       SavingAccount_Salary_Payment_Transactions  \\\n",
       "count                              109722.000000   \n",
       "mean                                    0.122665   \n",
       "std                                     0.521239   \n",
       "min                                     0.000000   \n",
       "25%                                     0.000000   \n",
       "50%                                     0.000000   \n",
       "75%                                     0.000000   \n",
       "max                                    11.000000   \n",
       "\n",
       "       SavingAccount_Transfer_In_Transactions  \\\n",
       "count                           109722.000000   \n",
       "mean                                 0.316600   \n",
       "std                                  0.980836   \n",
       "min                                  0.000000   \n",
       "25%                                  0.000000   \n",
       "50%                                  0.000000   \n",
       "75%                                  0.000000   \n",
       "max                                 44.000000   \n",
       "\n",
       "       SavingAccount_ATM_Extraction_Transactions  ...  \\\n",
       "count                              109722.000000  ...   \n",
       "mean                                    0.453419  ...   \n",
       "std                                     2.015607  ...   \n",
       "min                                     0.000000  ...   \n",
       "25%                                     0.000000  ...   \n",
       "50%                                     0.000000  ...   \n",
       "75%                                     0.000000  ...   \n",
       "max                                    59.000000  ...   \n",
       "\n",
       "       CreditCard_Spending_Aut_Debits  CreditCard_Revolving  \\\n",
       "count                   109722.000000         109722.000000   \n",
       "mean                      1476.634752           2609.962326   \n",
       "std                       2922.104903           8466.577394   \n",
       "min                      -9476.360000        -249630.730000   \n",
       "25%                          0.000000             -0.620000   \n",
       "50%                        294.000000              0.000000   \n",
       "75%                       1739.000000            415.972500   \n",
       "max                      54622.210000         122252.230000   \n",
       "\n",
       "       CreditCard_Payment_Aut_Debit  CreditCard_Payment_External  \\\n",
       "count                 109722.000000                109722.000000   \n",
       "mean                       0.282578                     0.252219   \n",
       "std                        0.560871                     0.494574   \n",
       "min                        0.000000                     0.000000   \n",
       "25%                        0.000000                     0.000000   \n",
       "50%                        0.000000                     0.000000   \n",
       "75%                        0.000000                     0.000000   \n",
       "max                        6.000000                     7.000000   \n",
       "\n",
       "       CreditCard_Payment_Cash  CreditCard_Payment_Web  \\\n",
       "count            109722.000000           109722.000000   \n",
       "mean                  0.034761                0.181659   \n",
       "std                   0.195310                0.453537   \n",
       "min                   0.000000                0.000000   \n",
       "25%                   0.000000                0.000000   \n",
       "50%                   0.000000                0.000000   \n",
       "75%                   0.000000                0.000000   \n",
       "max                   6.000000                7.000000   \n",
       "\n",
       "       CreditCard_Payment_ATM  CreditCard_Payment_TAS  Investment_Numbers  \\\n",
       "count           109722.000000           109722.000000       109722.000000   \n",
       "mean                 0.064527                0.127759            0.059842   \n",
       "std                  0.290716                0.395252            0.392406   \n",
       "min                  0.000000                0.000000            0.000000   \n",
       "25%                  0.000000                0.000000            0.000000   \n",
       "50%                  0.000000                0.000000            0.000000   \n",
       "75%                  0.000000                0.000000            0.000000   \n",
       "max                  8.000000                9.000000           24.000000   \n",
       "\n",
       "       Operations_Total  \n",
       "count     109722.000000  \n",
       "mean           2.995835  \n",
       "std            4.983906  \n",
       "min            0.000000  \n",
       "25%            0.000000  \n",
       "50%            1.000000  \n",
       "75%            4.000000  \n",
       "max           56.000000  \n",
       "\n",
       "[8 rows x 51 columns]"
      ],
      "text/html": [
       "<div>\n",
       "<style scoped>\n",
       "    .dataframe tbody tr th:only-of-type {\n",
       "        vertical-align: middle;\n",
       "    }\n",
       "\n",
       "    .dataframe tbody tr th {\n",
       "        vertical-align: top;\n",
       "    }\n",
       "\n",
       "    .dataframe thead th {\n",
       "        text-align: right;\n",
       "    }\n",
       "</style>\n",
       "<table border=\"1\" class=\"dataframe\">\n",
       "  <thead>\n",
       "    <tr style=\"text-align: right;\">\n",
       "      <th></th>\n",
       "      <th>Target</th>\n",
       "      <th>SavingAccount_Balance_FirstDate</th>\n",
       "      <th>SavingAccount_Balance_LastDate</th>\n",
       "      <th>SavingAccount_Balance_Average</th>\n",
       "      <th>SavingAccount_Days_with_use</th>\n",
       "      <th>SavingAccount_Days_with_Credits</th>\n",
       "      <th>SavingAccount_Days_with_Debits</th>\n",
       "      <th>SavingAccount_Salary_Payment_Transactions</th>\n",
       "      <th>SavingAccount_Transfer_In_Transactions</th>\n",
       "      <th>SavingAccount_ATM_Extraction_Transactions</th>\n",
       "      <th>...</th>\n",
       "      <th>CreditCard_Spending_Aut_Debits</th>\n",
       "      <th>CreditCard_Revolving</th>\n",
       "      <th>CreditCard_Payment_Aut_Debit</th>\n",
       "      <th>CreditCard_Payment_External</th>\n",
       "      <th>CreditCard_Payment_Cash</th>\n",
       "      <th>CreditCard_Payment_Web</th>\n",
       "      <th>CreditCard_Payment_ATM</th>\n",
       "      <th>CreditCard_Payment_TAS</th>\n",
       "      <th>Investment_Numbers</th>\n",
       "      <th>Operations_Total</th>\n",
       "    </tr>\n",
       "  </thead>\n",
       "  <tbody>\n",
       "    <tr>\n",
       "      <th>count</th>\n",
       "      <td>109722.000000</td>\n",
       "      <td>1.097220e+05</td>\n",
       "      <td>1.097220e+05</td>\n",
       "      <td>109722.000000</td>\n",
       "      <td>109722.000000</td>\n",
       "      <td>109722.000000</td>\n",
       "      <td>109722.000000</td>\n",
       "      <td>109722.000000</td>\n",
       "      <td>109722.000000</td>\n",
       "      <td>109722.000000</td>\n",
       "      <td>...</td>\n",
       "      <td>109722.000000</td>\n",
       "      <td>109722.000000</td>\n",
       "      <td>109722.000000</td>\n",
       "      <td>109722.000000</td>\n",
       "      <td>109722.000000</td>\n",
       "      <td>109722.000000</td>\n",
       "      <td>109722.000000</td>\n",
       "      <td>109722.000000</td>\n",
       "      <td>109722.000000</td>\n",
       "      <td>109722.000000</td>\n",
       "    </tr>\n",
       "    <tr>\n",
       "      <th>mean</th>\n",
       "      <td>0.349912</td>\n",
       "      <td>4.146408e+03</td>\n",
       "      <td>4.101622e+03</td>\n",
       "      <td>3719.018318</td>\n",
       "      <td>2.280272</td>\n",
       "      <td>1.123175</td>\n",
       "      <td>1.720895</td>\n",
       "      <td>0.122665</td>\n",
       "      <td>0.316600</td>\n",
       "      <td>0.453419</td>\n",
       "      <td>...</td>\n",
       "      <td>1476.634752</td>\n",
       "      <td>2609.962326</td>\n",
       "      <td>0.282578</td>\n",
       "      <td>0.252219</td>\n",
       "      <td>0.034761</td>\n",
       "      <td>0.181659</td>\n",
       "      <td>0.064527</td>\n",
       "      <td>0.127759</td>\n",
       "      <td>0.059842</td>\n",
       "      <td>2.995835</td>\n",
       "    </tr>\n",
       "    <tr>\n",
       "      <th>std</th>\n",
       "      <td>0.476944</td>\n",
       "      <td>2.617210e+04</td>\n",
       "      <td>2.349813e+04</td>\n",
       "      <td>18990.506005</td>\n",
       "      <td>3.887394</td>\n",
       "      <td>1.828205</td>\n",
       "      <td>3.288013</td>\n",
       "      <td>0.521239</td>\n",
       "      <td>0.980836</td>\n",
       "      <td>2.015607</td>\n",
       "      <td>...</td>\n",
       "      <td>2922.104903</td>\n",
       "      <td>8466.577394</td>\n",
       "      <td>0.560871</td>\n",
       "      <td>0.494574</td>\n",
       "      <td>0.195310</td>\n",
       "      <td>0.453537</td>\n",
       "      <td>0.290716</td>\n",
       "      <td>0.395252</td>\n",
       "      <td>0.392406</td>\n",
       "      <td>4.983906</td>\n",
       "    </tr>\n",
       "    <tr>\n",
       "      <th>min</th>\n",
       "      <td>0.000000</td>\n",
       "      <td>0.000000e+00</td>\n",
       "      <td>0.000000e+00</td>\n",
       "      <td>-566.590000</td>\n",
       "      <td>0.000000</td>\n",
       "      <td>0.000000</td>\n",
       "      <td>0.000000</td>\n",
       "      <td>0.000000</td>\n",
       "      <td>0.000000</td>\n",
       "      <td>0.000000</td>\n",
       "      <td>...</td>\n",
       "      <td>-9476.360000</td>\n",
       "      <td>-249630.730000</td>\n",
       "      <td>0.000000</td>\n",
       "      <td>0.000000</td>\n",
       "      <td>0.000000</td>\n",
       "      <td>0.000000</td>\n",
       "      <td>0.000000</td>\n",
       "      <td>0.000000</td>\n",
       "      <td>0.000000</td>\n",
       "      <td>0.000000</td>\n",
       "    </tr>\n",
       "    <tr>\n",
       "      <th>25%</th>\n",
       "      <td>0.000000</td>\n",
       "      <td>0.000000e+00</td>\n",
       "      <td>0.000000e+00</td>\n",
       "      <td>0.000000</td>\n",
       "      <td>0.000000</td>\n",
       "      <td>0.000000</td>\n",
       "      <td>0.000000</td>\n",
       "      <td>0.000000</td>\n",
       "      <td>0.000000</td>\n",
       "      <td>0.000000</td>\n",
       "      <td>...</td>\n",
       "      <td>0.000000</td>\n",
       "      <td>-0.620000</td>\n",
       "      <td>0.000000</td>\n",
       "      <td>0.000000</td>\n",
       "      <td>0.000000</td>\n",
       "      <td>0.000000</td>\n",
       "      <td>0.000000</td>\n",
       "      <td>0.000000</td>\n",
       "      <td>0.000000</td>\n",
       "      <td>0.000000</td>\n",
       "    </tr>\n",
       "    <tr>\n",
       "      <th>50%</th>\n",
       "      <td>0.000000</td>\n",
       "      <td>0.000000e+00</td>\n",
       "      <td>0.000000e+00</td>\n",
       "      <td>0.000000</td>\n",
       "      <td>0.000000</td>\n",
       "      <td>0.000000</td>\n",
       "      <td>0.000000</td>\n",
       "      <td>0.000000</td>\n",
       "      <td>0.000000</td>\n",
       "      <td>0.000000</td>\n",
       "      <td>...</td>\n",
       "      <td>294.000000</td>\n",
       "      <td>0.000000</td>\n",
       "      <td>0.000000</td>\n",
       "      <td>0.000000</td>\n",
       "      <td>0.000000</td>\n",
       "      <td>0.000000</td>\n",
       "      <td>0.000000</td>\n",
       "      <td>0.000000</td>\n",
       "      <td>0.000000</td>\n",
       "      <td>1.000000</td>\n",
       "    </tr>\n",
       "    <tr>\n",
       "      <th>75%</th>\n",
       "      <td>1.000000</td>\n",
       "      <td>1.947425e+02</td>\n",
       "      <td>2.159800e+02</td>\n",
       "      <td>1016.825000</td>\n",
       "      <td>3.000000</td>\n",
       "      <td>2.000000</td>\n",
       "      <td>2.000000</td>\n",
       "      <td>0.000000</td>\n",
       "      <td>0.000000</td>\n",
       "      <td>0.000000</td>\n",
       "      <td>...</td>\n",
       "      <td>1739.000000</td>\n",
       "      <td>415.972500</td>\n",
       "      <td>0.000000</td>\n",
       "      <td>0.000000</td>\n",
       "      <td>0.000000</td>\n",
       "      <td>0.000000</td>\n",
       "      <td>0.000000</td>\n",
       "      <td>0.000000</td>\n",
       "      <td>0.000000</td>\n",
       "      <td>4.000000</td>\n",
       "    </tr>\n",
       "    <tr>\n",
       "      <th>max</th>\n",
       "      <td>1.000000</td>\n",
       "      <td>2.693271e+06</td>\n",
       "      <td>2.410284e+06</td>\n",
       "      <td>966593.730000</td>\n",
       "      <td>41.000000</td>\n",
       "      <td>30.000000</td>\n",
       "      <td>36.000000</td>\n",
       "      <td>11.000000</td>\n",
       "      <td>44.000000</td>\n",
       "      <td>59.000000</td>\n",
       "      <td>...</td>\n",
       "      <td>54622.210000</td>\n",
       "      <td>122252.230000</td>\n",
       "      <td>6.000000</td>\n",
       "      <td>7.000000</td>\n",
       "      <td>6.000000</td>\n",
       "      <td>7.000000</td>\n",
       "      <td>8.000000</td>\n",
       "      <td>9.000000</td>\n",
       "      <td>24.000000</td>\n",
       "      <td>56.000000</td>\n",
       "    </tr>\n",
       "  </tbody>\n",
       "</table>\n",
       "<p>8 rows × 51 columns</p>\n",
       "</div>"
      ]
     },
     "execution_count": 77,
     "metadata": {},
     "output_type": "execute_result"
    }
   ],
   "execution_count": 77
  },
  {
   "cell_type": "code",
   "id": "1df2f28ab0ed858a",
   "metadata": {
    "ExecuteTime": {
     "end_time": "2024-06-26T22:32:28.696257Z",
     "start_time": "2024-06-26T22:32:27.842835Z"
    }
   },
   "source": [
    "sns.displot(df['CreditCard_Total_Spending'], kind='kde')"
   ],
   "outputs": [
    {
     "data": {
      "text/plain": [
       "<seaborn.axisgrid.FacetGrid at 0x1f7b3ada830>"
      ]
     },
     "execution_count": 78,
     "metadata": {},
     "output_type": "execute_result"
    },
    {
     "data": {
      "text/plain": [
       "<Figure size 500x500 with 1 Axes>"
      ],
      "image/png": "[encoded data removed]"
     },
     "metadata": {},
     "output_type": "display_data"
    }
   ],
   "execution_count": 78
  },
  {
   "cell_type": "code",
   "id": "63d3e9436ce7cea9",
   "metadata": {
    "ExecuteTime": {
     "end_time": "2024-06-26T22:32:29.580539Z",
     "start_time": "2024-06-26T22:32:28.697258Z"
    }
   },
   "source": [
    "df['CreditCard_Total_Spending'] = np.where(\n",
    "    training_window_with_credit_card['CreditCard_Total_Spending'] > three_sigma,\n",
    "    three_sigma,\n",
    "    training_window_with_credit_card['CreditCard_Total_Spending'])\n",
    "\n",
    "sns.displot(df['CreditCard_Total_Spending'], kind='kde')"
   ],
   "outputs": [
    {
     "data": {
      "text/plain": [
       "<seaborn.axisgrid.FacetGrid at 0x1f7b3a6dc30>"
      ]
     },
     "execution_count": 79,
     "metadata": {},
     "output_type": "execute_result"
    },
    {
     "data": {
      "text/plain": [
       "<Figure size 500x500 with 1 Axes>"
      ],
      "image/png": "[encoded data removed]"
     },
     "metadata": {},
     "output_type": "display_data"
    }
   ],
   "execution_count": 79
  },
  {
   "cell_type": "code",
   "id": "c2e44b6002f58590",
   "metadata": {
    "ExecuteTime": {
     "end_time": "2024-06-26T22:32:30.470879Z",
     "start_time": "2024-06-26T22:32:29.581537Z"
    }
   },
   "source": [
    "df['CreditCard_Total_Spending'] = np.where(\n",
    "    training_window_with_credit_card['CreditCard_Total_Spending'] > p99,\n",
    "    p99,\n",
    "    training_window_with_credit_card['CreditCard_Total_Spending'])\n",
    "\n",
    "sns.displot(df['CreditCard_Total_Spending'], kind='kde')"
   ],
   "outputs": [
    {
     "data": {
      "text/plain": [
       "<seaborn.axisgrid.FacetGrid at 0x1f7a0ec6c20>"
      ]
     },
     "execution_count": 80,
     "metadata": {},
     "output_type": "execute_result"
    },
    {
     "data": {
      "text/plain": [
       "<Figure size 500x500 with 1 Axes>"
      ],
      "image/png": "[encoded data removed]"
     },
     "metadata": {},
     "output_type": "display_data"
    }
   ],
   "execution_count": 80
  },
  {
   "cell_type": "code",
   "id": "9ebe2257d325e532",
   "metadata": {
    "ExecuteTime": {
     "end_time": "2024-06-26T22:32:30.486876Z",
     "start_time": "2024-06-26T22:32:30.471878Z"
    }
   },
   "source": [
    "training_window['CreditCard_Spending_1_Installment'].describe()"
   ],
   "outputs": [
    {
     "data": {
      "text/plain": [
       "count    159009.000000\n",
       "mean       1324.317224\n",
       "std        4157.733080\n",
       "min      -74880.000000\n",
       "25%           0.000000\n",
       "50%           0.000000\n",
       "75%         601.210000\n",
       "max      176554.250000\n",
       "Name: CreditCard_Spending_1_Installment, dtype: float64"
      ]
     },
     "execution_count": 81,
     "metadata": {},
     "output_type": "execute_result"
    }
   ],
   "execution_count": 81
  },
  {
   "cell_type": "code",
   "id": "91f8385e185f83af",
   "metadata": {
    "ExecuteTime": {
     "end_time": "2024-06-26T22:32:30.703904Z",
     "start_time": "2024-06-26T22:32:30.487878Z"
    }
   },
   "source": [
    "training_window['Month'] = pd.to_datetime(training_window['Month'])\n",
    "indexed_tx = training_window.set_index('Month')\n",
    "\n",
    "client_monthly_data = training_window.groupby(['Month'])[\n",
    "    'CreditCard_Spending_1_Installment'].agg(['sum', 'mean', 'min', 'max'])\n",
    "# Reset the index of the DataFrame\n",
    "client_monthly_data.reset_index(inplace=True)\n",
    "client_monthly_data.head()"
   ],
   "outputs": [
    {
     "data": {
      "text/plain": [
       "       Month          sum         mean       min        max\n",
       "0 2018-08-01  34195305.84  1290.291519 -52000.00  176554.25\n",
       "1 2018-09-01  28811594.48  1087.188954 -31111.00   78270.00\n",
       "2 2018-10-01  38053389.44  1435.922774 -74880.00  166545.14\n",
       "3 2018-11-01  33727538.44  1272.689274 -53000.00   75784.17\n",
       "4 2018-12-01  35140083.45  1325.990848 -43874.89  148095.07"
      ],
      "text/html": [
       "<div>\n",
       "<style scoped>\n",
       "    .dataframe tbody tr th:only-of-type {\n",
       "        vertical-align: middle;\n",
       "    }\n",
       "\n",
       "    .dataframe tbody tr th {\n",
       "        vertical-align: top;\n",
       "    }\n",
       "\n",
       "    .dataframe thead th {\n",
       "        text-align: right;\n",
       "    }\n",
       "</style>\n",
       "<table border=\"1\" class=\"dataframe\">\n",
       "  <thead>\n",
       "    <tr style=\"text-align: right;\">\n",
       "      <th></th>\n",
       "      <th>Month</th>\n",
       "      <th>sum</th>\n",
       "      <th>mean</th>\n",
       "      <th>min</th>\n",
       "      <th>max</th>\n",
       "    </tr>\n",
       "  </thead>\n",
       "  <tbody>\n",
       "    <tr>\n",
       "      <th>0</th>\n",
       "      <td>2018-08-01</td>\n",
       "      <td>34195305.84</td>\n",
       "      <td>1290.291519</td>\n",
       "      <td>-52000.00</td>\n",
       "      <td>176554.25</td>\n",
       "    </tr>\n",
       "    <tr>\n",
       "      <th>1</th>\n",
       "      <td>2018-09-01</td>\n",
       "      <td>28811594.48</td>\n",
       "      <td>1087.188954</td>\n",
       "      <td>-31111.00</td>\n",
       "      <td>78270.00</td>\n",
       "    </tr>\n",
       "    <tr>\n",
       "      <th>2</th>\n",
       "      <td>2018-10-01</td>\n",
       "      <td>38053389.44</td>\n",
       "      <td>1435.922774</td>\n",
       "      <td>-74880.00</td>\n",
       "      <td>166545.14</td>\n",
       "    </tr>\n",
       "    <tr>\n",
       "      <th>3</th>\n",
       "      <td>2018-11-01</td>\n",
       "      <td>33727538.44</td>\n",
       "      <td>1272.689274</td>\n",
       "      <td>-53000.00</td>\n",
       "      <td>75784.17</td>\n",
       "    </tr>\n",
       "    <tr>\n",
       "      <th>4</th>\n",
       "      <td>2018-12-01</td>\n",
       "      <td>35140083.45</td>\n",
       "      <td>1325.990848</td>\n",
       "      <td>-43874.89</td>\n",
       "      <td>148095.07</td>\n",
       "    </tr>\n",
       "  </tbody>\n",
       "</table>\n",
       "</div>"
      ]
     },
     "execution_count": 82,
     "metadata": {},
     "output_type": "execute_result"
    }
   ],
   "execution_count": 82
  },
  {
   "cell_type": "code",
   "id": "2fbacf6099e2bf67",
   "metadata": {
    "ExecuteTime": {
     "end_time": "2024-06-26T22:32:31.059469Z",
     "start_time": "2024-06-26T22:32:30.704905Z"
    }
   },
   "source": [
    "sns.boxplot(data=training_window, x='Month', y='CreditCard_Spending_1_Installment')\n",
    "plt.show()"
   ],
   "outputs": [
    {
     "data": {
      "text/plain": [
       "<Figure size 640x480 with 1 Axes>"
      ],
      "image/png": "[encoded data removed]"
     },
     "metadata": {},
     "output_type": "display_data"
    }
   ],
   "execution_count": 83
  },
  {
   "cell_type": "code",
   "id": "bf027e51cd214dc1",
   "metadata": {
    "ExecuteTime": {
     "end_time": "2024-06-26T22:32:31.592588Z",
     "start_time": "2024-06-26T22:32:31.060470Z"
    }
   },
   "source": [
    "sns.displot(data=training_window['CreditCard_Spending_1_Installment'], kind='kde')\n",
    "plt.show()"
   ],
   "outputs": [
    {
     "data": {
      "text/plain": [
       "<Figure size 500x500 with 1 Axes>"
      ],
      "image/png": "[encoded data removed]"
     },
     "metadata": {},
     "output_type": "display_data"
    }
   ],
   "execution_count": 84
  },
  {
   "cell_type": "code",
   "id": "f29efbfcb99bfaff",
   "metadata": {
    "ExecuteTime": {
     "end_time": "2024-06-26T22:32:32.128285Z",
     "start_time": "2024-06-26T22:32:31.593589Z"
    }
   },
   "source": [
    "p99 = training_window_with_credit_card['CreditCard_Spending_1_Installment'].quantile(0.99)\n",
    "df['CreditCard_Spending_1_Installment'] = np.where(\n",
    "    training_window_with_credit_card['CreditCard_Spending_1_Installment'] > p99,\n",
    "    p99,\n",
    "    training_window_with_credit_card['CreditCard_Spending_1_Installment'])\n",
    "\n",
    "sns.displot(df['CreditCard_Spending_1_Installment'], kind='kde')\n",
    "plt.show()"
   ],
   "outputs": [
    {
     "data": {
      "text/plain": [
       "<Figure size 500x500 with 1 Axes>"
      ],
      "image/png": "[encoded data removed]"
     },
     "metadata": {},
     "output_type": "display_data"
    }
   ],
   "execution_count": 85
  },
  {
   "metadata": {
    "ExecuteTime": {
     "end_time": "2024-06-26T22:32:32.235519Z",
     "start_time": "2024-06-26T22:32:32.129286Z"
    }
   },
   "cell_type": "code",
   "source": [
    "training_window['First_product_dt'] = pd.to_datetime(training_window['First_product_dt'])\n",
    "training_window['Last_product_dt'] = pd.to_datetime(training_window['Last_product_dt'])\n",
    "categories = ['Client_Age_grp', 'Sex', 'Region', 'CreditCard_Product']\n",
    "training_window['CreditCard_Product'] = training_window['CreditCard_Product'].astype('category')"
   ],
   "id": "b34c75c7408210bd",
   "outputs": [],
   "execution_count": 86
  },
  {
   "metadata": {
    "ExecuteTime": {
     "end_time": "2024-06-26T22:32:32.344052Z",
     "start_time": "2024-06-26T22:32:32.236519Z"
    }
   },
   "cell_type": "code",
   "source": [
    "abt = training_window.groupby(['client_id']).agg(\n",
    "    {\n",
    "        'Client_Age_grp': 'last',\n",
    "        'Sex': 'last',\n",
    "        'Region': 'last',\n",
    "        'CreditCard_Product': 'last',\n",
    "        'First_product_dt': 'last',\n",
    "        'Last_product_dt': 'last',\n",
    "        'Operations_Total': 'sum',\n",
    "        'SavingAccount_DebitCard_Spend_Amount': ['sum', 'mean', 'min', 'max'],\n",
    "        'SavingAccount_Balance_Average': ['sum', 'mean', 'min', 'max'],\n",
    "        'CreditCard_Total_Spending': ['sum', 'mean', 'min', 'max'],\n",
    "        'CreditCard_Spending_1_Installment': ['sum', 'mean', 'min', 'max'],\n",
    "        'CreditCard_Spending_Installments': ['sum', 'mean', 'min', 'max'],\n",
    "    }\n",
    ")"
   ],
   "id": "b9e4982e2f72e5e7",
   "outputs": [],
   "execution_count": 87
  },
  {
   "metadata": {
    "ExecuteTime": {
     "end_time": "2024-06-26T22:32:32.390665Z",
     "start_time": "2024-06-26T22:32:32.345053Z"
    }
   },
   "cell_type": "code",
   "source": "abt",
   "id": "26794e56bcc0ecac",
   "outputs": [
    {
     "data": {
      "text/plain": [
       "               Client_Age_grp  Sex             Region CreditCard_Product  \\\n",
       "                         last last               last               last   \n",
       "client_id                                                                  \n",
       "1000199    Entre 40 y 49 años    M       BUENOS AIRES                NaN   \n",
       "1000245    Entre 40 y 49 años    F      REGION CENTRO                NaN   \n",
       "1000847    Entre 40 y 49 años    F  REGION PATAGONICA                NaN   \n",
       "1001232    Entre 40 y 49 años    M       BUENOS AIRES     J55660104XX012   \n",
       "1001450    Entre 40 y 49 años    F       BUENOS AIRES     J55660104XX012   \n",
       "...                       ...  ...                ...                ...   \n",
       "99842      Entre 65 y 69 años    M        REGION CUYO     J55660202XX012   \n",
       "998420     Entre 40 y 49 años    F      REGION CENTRO     J55660202XX012   \n",
       "998768     Entre 40 y 49 años    M        REGION CUYO     J55660104XX012   \n",
       "99926         Mayor a 70 años    M        REGION CUYO     J55660104XX012   \n",
       "999462     Entre 40 y 49 años    M      REGION CENTRO                NaN   \n",
       "\n",
       "          First_product_dt Last_product_dt Operations_Total  \\\n",
       "                      last            last              sum   \n",
       "client_id                                                     \n",
       "1000199         2017-02-21      2017-05-18             34.0   \n",
       "1000245         2013-04-15      2017-04-22              3.0   \n",
       "1000847         2017-01-31      2017-04-29              0.0   \n",
       "1001232         2006-09-19      2006-09-19              0.0   \n",
       "1001450         2017-04-16      2017-05-23             68.0   \n",
       "...                    ...             ...              ...   \n",
       "99842           2004-07-30      2017-12-30            133.0   \n",
       "998420          2009-12-11      2019-01-31             46.0   \n",
       "998768          2014-07-29      2017-05-18              1.0   \n",
       "99926           2004-10-14      2005-01-07              0.0   \n",
       "999462          2016-03-08      2017-05-18              2.0   \n",
       "\n",
       "          SavingAccount_DebitCard_Spend_Amount                         ...  \\\n",
       "                                           sum          mean      min  ...   \n",
       "client_id                                                              ...   \n",
       "1000199                                   0.00      0.000000     0.00  ...   \n",
       "1000245                                   0.00      0.000000     0.00  ...   \n",
       "1000847                                   0.00      0.000000     0.00  ...   \n",
       "1001232                                   0.00      0.000000     0.00  ...   \n",
       "1001450                                   0.00      0.000000     0.00  ...   \n",
       "...                                        ...           ...      ...  ...   \n",
       "99842                                 85053.91  14175.651667  9709.98  ...   \n",
       "998420                                 8032.02   1338.670000   335.48  ...   \n",
       "998768                                    0.00      0.000000     0.00  ...   \n",
       "99926                                     0.00      0.000000     0.00  ...   \n",
       "999462                                    0.00      0.000000     0.00  ...   \n",
       "\n",
       "          CreditCard_Total_Spending            \\\n",
       "                                min       max   \n",
       "client_id                                       \n",
       "1000199                      790.00  14561.03   \n",
       "1000245                        0.00      0.00   \n",
       "1000847                        0.00      0.00   \n",
       "1001232                     3255.29   5509.04   \n",
       "1001450                        0.00   7091.30   \n",
       "...                             ...       ...   \n",
       "99842                       5537.43   8213.75   \n",
       "998420                      8485.55  15789.69   \n",
       "998768                         0.00      0.00   \n",
       "99926                       8035.08  12536.05   \n",
       "999462                         0.00      0.00   \n",
       "\n",
       "          CreditCard_Spending_1_Installment                                \\\n",
       "                                        sum         mean    min       max   \n",
       "client_id                                                                   \n",
       "1000199                            35672.20  5945.366667    0.0  10434.21   \n",
       "1000245                                0.00     0.000000    0.0      0.00   \n",
       "1000847                                0.00     0.000000    0.0      0.00   \n",
       "1001232                                0.00     0.000000    0.0      0.00   \n",
       "1001450                            13984.44  2330.740000    0.0   5564.84   \n",
       "...                                     ...          ...    ...       ...   \n",
       "99842                                  0.00     0.000000    0.0      0.00   \n",
       "998420                             21934.16  3655.693333  298.0   7928.00   \n",
       "998768                                 0.00     0.000000    0.0      0.00   \n",
       "99926                               7243.12  1207.186667    0.0   3401.12   \n",
       "999462                                 0.00     0.000000    0.0      0.00   \n",
       "\n",
       "          CreditCard_Spending_Installments                                  \n",
       "                                       sum         mean      min       max  \n",
       "client_id                                                                   \n",
       "1000199                            1855.60   309.266667     0.00    872.78  \n",
       "1000245                               0.00     0.000000     0.00      0.00  \n",
       "1000847                               0.00     0.000000     0.00      0.00  \n",
       "1001232                           25358.29  4226.381667  3255.29   5225.04  \n",
       "1001450                            4736.06   789.343333     0.00   1567.12  \n",
       "...                                    ...          ...      ...       ...  \n",
       "99842                             11808.27  1968.045000  1241.31   2500.26  \n",
       "998420                            53673.21  8945.535000  7119.28  10851.69  \n",
       "998768                                0.00     0.000000     0.00      0.00  \n",
       "99926                             16381.88  2730.313333  1286.18   4414.17  \n",
       "999462                                0.00     0.000000     0.00      0.00  \n",
       "\n",
       "[26509 rows x 27 columns]"
      ],
      "text/html": [
       "<div>\n",
       "<style scoped>\n",
       "    .dataframe tbody tr th:only-of-type {\n",
       "        vertical-align: middle;\n",
       "    }\n",
       "\n",
       "    .dataframe tbody tr th {\n",
       "        vertical-align: top;\n",
       "    }\n",
       "\n",
       "    .dataframe thead tr th {\n",
       "        text-align: left;\n",
       "    }\n",
       "\n",
       "    .dataframe thead tr:last-of-type th {\n",
       "        text-align: right;\n",
       "    }\n",
       "</style>\n",
       "<table border=\"1\" class=\"dataframe\">\n",
       "  <thead>\n",
       "    <tr>\n",
       "      <th></th>\n",
       "      <th>Client_Age_grp</th>\n",
       "      <th>Sex</th>\n",
       "      <th>Region</th>\n",
       "      <th>CreditCard_Product</th>\n",
       "      <th>First_product_dt</th>\n",
       "      <th>Last_product_dt</th>\n",
       "      <th>Operations_Total</th>\n",
       "      <th colspan=\"3\" halign=\"left\">SavingAccount_DebitCard_Spend_Amount</th>\n",
       "      <th>...</th>\n",
       "      <th colspan=\"2\" halign=\"left\">CreditCard_Total_Spending</th>\n",
       "      <th colspan=\"4\" halign=\"left\">CreditCard_Spending_1_Installment</th>\n",
       "      <th colspan=\"4\" halign=\"left\">CreditCard_Spending_Installments</th>\n",
       "    </tr>\n",
       "    <tr>\n",
       "      <th></th>\n",
       "      <th>last</th>\n",
       "      <th>last</th>\n",
       "      <th>last</th>\n",
       "      <th>last</th>\n",
       "      <th>last</th>\n",
       "      <th>last</th>\n",
       "      <th>sum</th>\n",
       "      <th>sum</th>\n",
       "      <th>mean</th>\n",
       "      <th>min</th>\n",
       "      <th>...</th>\n",
       "      <th>min</th>\n",
       "      <th>max</th>\n",
       "      <th>sum</th>\n",
       "      <th>mean</th>\n",
       "      <th>min</th>\n",
       "      <th>max</th>\n",
       "      <th>sum</th>\n",
       "      <th>mean</th>\n",
       "      <th>min</th>\n",
       "      <th>max</th>\n",
       "    </tr>\n",
       "    <tr>\n",
       "      <th>client_id</th>\n",
       "      <th></th>\n",
       "      <th></th>\n",
       "      <th></th>\n",
       "      <th></th>\n",
       "      <th></th>\n",
       "      <th></th>\n",
       "      <th></th>\n",
       "      <th></th>\n",
       "      <th></th>\n",
       "      <th></th>\n",
       "      <th></th>\n",
       "      <th></th>\n",
       "      <th></th>\n",
       "      <th></th>\n",
       "      <th></th>\n",
       "      <th></th>\n",
       "      <th></th>\n",
       "      <th></th>\n",
       "      <th></th>\n",
       "      <th></th>\n",
       "      <th></th>\n",
       "    </tr>\n",
       "  </thead>\n",
       "  <tbody>\n",
       "    <tr>\n",
       "      <th>1000199</th>\n",
       "      <td>Entre 40 y 49 años</td>\n",
       "      <td>M</td>\n",
       "      <td>BUENOS AIRES</td>\n",
       "      <td>NaN</td>\n",
       "      <td>2017-02-21</td>\n",
       "      <td>2017-05-18</td>\n",
       "      <td>34.0</td>\n",
       "      <td>0.00</td>\n",
       "      <td>0.000000</td>\n",
       "      <td>0.00</td>\n",
       "      <td>...</td>\n",
       "      <td>790.00</td>\n",
       "      <td>14561.03</td>\n",
       "      <td>35672.20</td>\n",
       "      <td>5945.366667</td>\n",
       "      <td>0.0</td>\n",
       "      <td>10434.21</td>\n",
       "      <td>1855.60</td>\n",
       "      <td>309.266667</td>\n",
       "      <td>0.00</td>\n",
       "      <td>872.78</td>\n",
       "    </tr>\n",
       "    <tr>\n",
       "      <th>1000245</th>\n",
       "      <td>Entre 40 y 49 años</td>\n",
       "      <td>F</td>\n",
       "      <td>REGION CENTRO</td>\n",
       "      <td>NaN</td>\n",
       "      <td>2013-04-15</td>\n",
       "      <td>2017-04-22</td>\n",
       "      <td>3.0</td>\n",
       "      <td>0.00</td>\n",
       "      <td>0.000000</td>\n",
       "      <td>0.00</td>\n",
       "      <td>...</td>\n",
       "      <td>0.00</td>\n",
       "      <td>0.00</td>\n",
       "      <td>0.00</td>\n",
       "      <td>0.000000</td>\n",
       "      <td>0.0</td>\n",
       "      <td>0.00</td>\n",
       "      <td>0.00</td>\n",
       "      <td>0.000000</td>\n",
       "      <td>0.00</td>\n",
       "      <td>0.00</td>\n",
       "    </tr>\n",
       "    <tr>\n",
       "      <th>1000847</th>\n",
       "      <td>Entre 40 y 49 años</td>\n",
       "      <td>F</td>\n",
       "      <td>REGION PATAGONICA</td>\n",
       "      <td>NaN</td>\n",
       "      <td>2017-01-31</td>\n",
       "      <td>2017-04-29</td>\n",
       "      <td>0.0</td>\n",
       "      <td>0.00</td>\n",
       "      <td>0.000000</td>\n",
       "      <td>0.00</td>\n",
       "      <td>...</td>\n",
       "      <td>0.00</td>\n",
       "      <td>0.00</td>\n",
       "      <td>0.00</td>\n",
       "      <td>0.000000</td>\n",
       "      <td>0.0</td>\n",
       "      <td>0.00</td>\n",
       "      <td>0.00</td>\n",
       "      <td>0.000000</td>\n",
       "      <td>0.00</td>\n",
       "      <td>0.00</td>\n",
       "    </tr>\n",
       "    <tr>\n",
       "      <th>1001232</th>\n",
       "      <td>Entre 40 y 49 años</td>\n",
       "      <td>M</td>\n",
       "      <td>BUENOS AIRES</td>\n",
       "      <td>J55660104XX012</td>\n",
       "      <td>2006-09-19</td>\n",
       "      <td>2006-09-19</td>\n",
       "      <td>0.0</td>\n",
       "      <td>0.00</td>\n",
       "      <td>0.000000</td>\n",
       "      <td>0.00</td>\n",
       "      <td>...</td>\n",
       "      <td>3255.29</td>\n",
       "      <td>5509.04</td>\n",
       "      <td>0.00</td>\n",
       "      <td>0.000000</td>\n",
       "      <td>0.0</td>\n",
       "      <td>0.00</td>\n",
       "      <td>25358.29</td>\n",
       "      <td>4226.381667</td>\n",
       "      <td>3255.29</td>\n",
       "      <td>5225.04</td>\n",
       "    </tr>\n",
       "    <tr>\n",
       "      <th>1001450</th>\n",
       "      <td>Entre 40 y 49 años</td>\n",
       "      <td>F</td>\n",
       "      <td>BUENOS AIRES</td>\n",
       "      <td>J55660104XX012</td>\n",
       "      <td>2017-04-16</td>\n",
       "      <td>2017-05-23</td>\n",
       "      <td>68.0</td>\n",
       "      <td>0.00</td>\n",
       "      <td>0.000000</td>\n",
       "      <td>0.00</td>\n",
       "      <td>...</td>\n",
       "      <td>0.00</td>\n",
       "      <td>7091.30</td>\n",
       "      <td>13984.44</td>\n",
       "      <td>2330.740000</td>\n",
       "      <td>0.0</td>\n",
       "      <td>5564.84</td>\n",
       "      <td>4736.06</td>\n",
       "      <td>789.343333</td>\n",
       "      <td>0.00</td>\n",
       "      <td>1567.12</td>\n",
       "    </tr>\n",
       "    <tr>\n",
       "      <th>...</th>\n",
       "      <td>...</td>\n",
       "      <td>...</td>\n",
       "      <td>...</td>\n",
       "      <td>...</td>\n",
       "      <td>...</td>\n",
       "      <td>...</td>\n",
       "      <td>...</td>\n",
       "      <td>...</td>\n",
       "      <td>...</td>\n",
       "      <td>...</td>\n",
       "      <td>...</td>\n",
       "      <td>...</td>\n",
       "      <td>...</td>\n",
       "      <td>...</td>\n",
       "      <td>...</td>\n",
       "      <td>...</td>\n",
       "      <td>...</td>\n",
       "      <td>...</td>\n",
       "      <td>...</td>\n",
       "      <td>...</td>\n",
       "      <td>...</td>\n",
       "    </tr>\n",
       "    <tr>\n",
       "      <th>99842</th>\n",
       "      <td>Entre 65 y 69 años</td>\n",
       "      <td>M</td>\n",
       "      <td>REGION CUYO</td>\n",
       "      <td>J55660202XX012</td>\n",
       "      <td>2004-07-30</td>\n",
       "      <td>2017-12-30</td>\n",
       "      <td>133.0</td>\n",
       "      <td>85053.91</td>\n",
       "      <td>14175.651667</td>\n",
       "      <td>9709.98</td>\n",
       "      <td>...</td>\n",
       "      <td>5537.43</td>\n",
       "      <td>8213.75</td>\n",
       "      <td>0.00</td>\n",
       "      <td>0.000000</td>\n",
       "      <td>0.0</td>\n",
       "      <td>0.00</td>\n",
       "      <td>11808.27</td>\n",
       "      <td>1968.045000</td>\n",
       "      <td>1241.31</td>\n",
       "      <td>2500.26</td>\n",
       "    </tr>\n",
       "    <tr>\n",
       "      <th>998420</th>\n",
       "      <td>Entre 40 y 49 años</td>\n",
       "      <td>F</td>\n",
       "      <td>REGION CENTRO</td>\n",
       "      <td>J55660202XX012</td>\n",
       "      <td>2009-12-11</td>\n",
       "      <td>2019-01-31</td>\n",
       "      <td>46.0</td>\n",
       "      <td>8032.02</td>\n",
       "      <td>1338.670000</td>\n",
       "      <td>335.48</td>\n",
       "      <td>...</td>\n",
       "      <td>8485.55</td>\n",
       "      <td>15789.69</td>\n",
       "      <td>21934.16</td>\n",
       "      <td>3655.693333</td>\n",
       "      <td>298.0</td>\n",
       "      <td>7928.00</td>\n",
       "      <td>53673.21</td>\n",
       "      <td>8945.535000</td>\n",
       "      <td>7119.28</td>\n",
       "      <td>10851.69</td>\n",
       "    </tr>\n",
       "    <tr>\n",
       "      <th>998768</th>\n",
       "      <td>Entre 40 y 49 años</td>\n",
       "      <td>M</td>\n",
       "      <td>REGION CUYO</td>\n",
       "      <td>J55660104XX012</td>\n",
       "      <td>2014-07-29</td>\n",
       "      <td>2017-05-18</td>\n",
       "      <td>1.0</td>\n",
       "      <td>0.00</td>\n",
       "      <td>0.000000</td>\n",
       "      <td>0.00</td>\n",
       "      <td>...</td>\n",
       "      <td>0.00</td>\n",
       "      <td>0.00</td>\n",
       "      <td>0.00</td>\n",
       "      <td>0.000000</td>\n",
       "      <td>0.0</td>\n",
       "      <td>0.00</td>\n",
       "      <td>0.00</td>\n",
       "      <td>0.000000</td>\n",
       "      <td>0.00</td>\n",
       "      <td>0.00</td>\n",
       "    </tr>\n",
       "    <tr>\n",
       "      <th>99926</th>\n",
       "      <td>Mayor a 70 años</td>\n",
       "      <td>M</td>\n",
       "      <td>REGION CUYO</td>\n",
       "      <td>J55660104XX012</td>\n",
       "      <td>2004-10-14</td>\n",
       "      <td>2005-01-07</td>\n",
       "      <td>0.0</td>\n",
       "      <td>0.00</td>\n",
       "      <td>0.000000</td>\n",
       "      <td>0.00</td>\n",
       "      <td>...</td>\n",
       "      <td>8035.08</td>\n",
       "      <td>12536.05</td>\n",
       "      <td>7243.12</td>\n",
       "      <td>1207.186667</td>\n",
       "      <td>0.0</td>\n",
       "      <td>3401.12</td>\n",
       "      <td>16381.88</td>\n",
       "      <td>2730.313333</td>\n",
       "      <td>1286.18</td>\n",
       "      <td>4414.17</td>\n",
       "    </tr>\n",
       "    <tr>\n",
       "      <th>999462</th>\n",
       "      <td>Entre 40 y 49 años</td>\n",
       "      <td>M</td>\n",
       "      <td>REGION CENTRO</td>\n",
       "      <td>NaN</td>\n",
       "      <td>2016-03-08</td>\n",
       "      <td>2017-05-18</td>\n",
       "      <td>2.0</td>\n",
       "      <td>0.00</td>\n",
       "      <td>0.000000</td>\n",
       "      <td>0.00</td>\n",
       "      <td>...</td>\n",
       "      <td>0.00</td>\n",
       "      <td>0.00</td>\n",
       "      <td>0.00</td>\n",
       "      <td>0.000000</td>\n",
       "      <td>0.0</td>\n",
       "      <td>0.00</td>\n",
       "      <td>0.00</td>\n",
       "      <td>0.000000</td>\n",
       "      <td>0.00</td>\n",
       "      <td>0.00</td>\n",
       "    </tr>\n",
       "  </tbody>\n",
       "</table>\n",
       "<p>26509 rows × 27 columns</p>\n",
       "</div>"
      ]
     },
     "execution_count": 88,
     "metadata": {},
     "output_type": "execute_result"
    }
   ],
   "execution_count": 88
  },
  {
   "metadata": {
    "ExecuteTime": {
     "end_time": "2024-06-26T22:32:32.405922Z",
     "start_time": "2024-06-26T22:32:32.391055Z"
    }
   },
   "cell_type": "code",
   "source": "abt.dtypes",
   "id": "c25683cd3f0aa0ab",
   "outputs": [
    {
     "data": {
      "text/plain": [
       "Client_Age_grp                        last            object\n",
       "Sex                                   last            object\n",
       "Region                                last            object\n",
       "CreditCard_Product                    last          category\n",
       "First_product_dt                      last    datetime64[ns]\n",
       "Last_product_dt                       last    datetime64[ns]\n",
       "Operations_Total                      sum            float64\n",
       "SavingAccount_DebitCard_Spend_Amount  sum            float64\n",
       "                                      mean           float64\n",
       "                                      min            float64\n",
       "                                      max            float64\n",
       "SavingAccount_Balance_Average         sum            float64\n",
       "                                      mean           float64\n",
       "                                      min            float64\n",
       "                                      max            float64\n",
       "CreditCard_Total_Spending             sum            float64\n",
       "                                      mean           float64\n",
       "                                      min            float64\n",
       "                                      max            float64\n",
       "CreditCard_Spending_1_Installment     sum            float64\n",
       "                                      mean           float64\n",
       "                                      min            float64\n",
       "                                      max            float64\n",
       "CreditCard_Spending_Installments      sum            float64\n",
       "                                      mean           float64\n",
       "                                      min            float64\n",
       "                                      max            float64\n",
       "dtype: object"
      ]
     },
     "execution_count": 89,
     "metadata": {},
     "output_type": "execute_result"
    }
   ],
   "execution_count": 89
  },
  {
   "metadata": {
    "ExecuteTime": {
     "end_time": "2024-06-26T22:32:54.531804Z",
     "start_time": "2024-06-26T22:32:54.523806Z"
    }
   },
   "cell_type": "code",
   "source": "abt.columns",
   "id": "92022c6579a796f8",
   "outputs": [
    {
     "data": {
      "text/plain": [
       "MultiIndex([(                      'Client_Age_grp', 'last'),\n",
       "            (                                 'Sex', 'last'),\n",
       "            (                              'Region', 'last'),\n",
       "            (                  'CreditCard_Product', 'last'),\n",
       "            (                    'First_product_dt', 'last'),\n",
       "            (                     'Last_product_dt', 'last'),\n",
       "            (                    'Operations_Total',  'sum'),\n",
       "            ('SavingAccount_DebitCard_Spend_Amount',  'sum'),\n",
       "            ('SavingAccount_DebitCard_Spend_Amount', 'mean'),\n",
       "            ('SavingAccount_DebitCard_Spend_Amount',  'min'),\n",
       "            ('SavingAccount_DebitCard_Spend_Amount',  'max'),\n",
       "            (       'SavingAccount_Balance_Average',  'sum'),\n",
       "            (       'SavingAccount_Balance_Average', 'mean'),\n",
       "            (       'SavingAccount_Balance_Average',  'min'),\n",
       "            (       'SavingAccount_Balance_Average',  'max'),\n",
       "            (           'CreditCard_Total_Spending',  'sum'),\n",
       "            (           'CreditCard_Total_Spending', 'mean'),\n",
       "            (           'CreditCard_Total_Spending',  'min'),\n",
       "            (           'CreditCard_Total_Spending',  'max'),\n",
       "            (   'CreditCard_Spending_1_Installment',  'sum'),\n",
       "            (   'CreditCard_Spending_1_Installment', 'mean'),\n",
       "            (   'CreditCard_Spending_1_Installment',  'min'),\n",
       "            (   'CreditCard_Spending_1_Installment',  'max'),\n",
       "            (    'CreditCard_Spending_Installments',  'sum'),\n",
       "            (    'CreditCard_Spending_Installments', 'mean'),\n",
       "            (    'CreditCard_Spending_Installments',  'min'),\n",
       "            (    'CreditCard_Spending_Installments',  'max')],\n",
       "           )"
      ]
     },
     "execution_count": 90,
     "metadata": {},
     "output_type": "execute_result"
    }
   ],
   "execution_count": 90
  },
  {
   "metadata": {},
   "cell_type": "code",
   "outputs": [],
   "execution_count": null,
   "source": "",
   "id": "75bdb9a14b0423cd"
  }
 ],
 "metadata": {
  "kernelspec": {
   "display_name": "ml",
   "language": "python",
   "name": "ml"
  },
  "language_info": {
   "codemirror_mode": {
    "name": "ipython",
    "version": 3
   },
   "file_extension": ".py",
   "mimetype": "text/x-python",
   "name": "python",
   "nbconvert_exporter": "python",
   "pygments_lexer": "ipython3",
   "version": "3.10.5"
  }
 },
 "nbformat": 4,
 "nbformat_minor": 5
}
