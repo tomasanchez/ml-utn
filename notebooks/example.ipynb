{
 "cells": [
  {
   "cell_type": "code",
   "id": "initial_id",
   "metadata": {
    "collapsed": true,
    "ExecuteTime": {
     "end_time": "2024-05-08T18:13:58.639127Z",
     "start_time": "2024-05-08T18:13:55.910809Z"
    }
   },
   "source": [
    "import pandas as pd\n",
    "\n",
    "data = pd.read_csv('../data.csv', sep='|', dtype={'client_id': str})\n",
    "data.shape"
   ],
   "outputs": [
    {
     "data": {
      "text/plain": [
       "(238616, 77)"
      ]
     },
     "execution_count": 1,
     "metadata": {},
     "output_type": "execute_result"
    }
   ],
   "execution_count": 1
  },
  {
   "metadata": {
    "ExecuteTime": {
     "end_time": "2024-05-08T18:13:58.671126Z",
     "start_time": "2024-05-08T18:13:58.640127Z"
    }
   },
   "cell_type": "code",
   "source": "data['Month'].value_counts()",
   "id": "4bd15898f769dd4f",
   "outputs": [
    {
     "data": {
      "text/plain": [
       "Month\n",
       "2019-04-01    26547\n",
       "2019-03-01    26547\n",
       "2019-02-01    26512\n",
       "2019-01-01    26503\n",
       "2018-08-01    26502\n",
       "2018-10-01    26501\n",
       "2018-09-01    26501\n",
       "2018-12-01    26501\n",
       "2018-11-01    26501\n",
       "Name: count, dtype: int64"
      ]
     },
     "execution_count": 2,
     "metadata": {},
     "output_type": "execute_result"
    }
   ],
   "execution_count": 2
  },
  {
   "metadata": {
    "ExecuteTime": {
     "end_time": "2024-05-08T18:13:58.703127Z",
     "start_time": "2024-05-08T18:13:58.672127Z"
    }
   },
   "cell_type": "code",
   "source": "len(data.client_id.unique())",
   "id": "f3be83c21d8d134c",
   "outputs": [
    {
     "data": {
      "text/plain": [
       "26561"
      ]
     },
     "execution_count": 3,
     "metadata": {},
     "output_type": "execute_result"
    }
   ],
   "execution_count": 3
  },
  {
   "metadata": {
    "ExecuteTime": {
     "end_time": "2024-05-08T18:13:58.735127Z",
     "start_time": "2024-05-08T18:13:58.704127Z"
    }
   },
   "cell_type": "code",
   "source": [
    "data_9m = pd.DataFrame(data.client_id.value_counts().reset_index())\n",
    "data_9m.columns = ['client_id', 'q_months']"
   ],
   "id": "f89c715c3e84369b",
   "outputs": [],
   "execution_count": 4
  },
  {
   "metadata": {
    "ExecuteTime": {
     "end_time": "2024-05-08T18:13:58.751127Z",
     "start_time": "2024-05-08T18:13:58.736127Z"
    }
   },
   "cell_type": "code",
   "source": "data_9m",
   "id": "9e1eaa216dafecc6",
   "outputs": [
    {
     "data": {
      "text/plain": [
       "                    client_id  q_months\n",
       "0                     5856970         9\n",
       "1                     5895899         9\n",
       "2                     4712252         9\n",
       "3                     7304330         9\n",
       "4                     6657428         9\n",
       "...                       ...       ...\n",
       "26556                 4424661         1\n",
       "26557                 5643352         1\n",
       "26558                 6641590         1\n",
       "26559                  264018         1\n",
       "26560  (238615 rows affected)         1\n",
       "\n",
       "[26561 rows x 2 columns]"
      ],
      "text/html": [
       "<div>\n",
       "<style scoped>\n",
       "    .dataframe tbody tr th:only-of-type {\n",
       "        vertical-align: middle;\n",
       "    }\n",
       "\n",
       "    .dataframe tbody tr th {\n",
       "        vertical-align: top;\n",
       "    }\n",
       "\n",
       "    .dataframe thead th {\n",
       "        text-align: right;\n",
       "    }\n",
       "</style>\n",
       "<table border=\"1\" class=\"dataframe\">\n",
       "  <thead>\n",
       "    <tr style=\"text-align: right;\">\n",
       "      <th></th>\n",
       "      <th>client_id</th>\n",
       "      <th>q_months</th>\n",
       "    </tr>\n",
       "  </thead>\n",
       "  <tbody>\n",
       "    <tr>\n",
       "      <th>0</th>\n",
       "      <td>5856970</td>\n",
       "      <td>9</td>\n",
       "    </tr>\n",
       "    <tr>\n",
       "      <th>1</th>\n",
       "      <td>5895899</td>\n",
       "      <td>9</td>\n",
       "    </tr>\n",
       "    <tr>\n",
       "      <th>2</th>\n",
       "      <td>4712252</td>\n",
       "      <td>9</td>\n",
       "    </tr>\n",
       "    <tr>\n",
       "      <th>3</th>\n",
       "      <td>7304330</td>\n",
       "      <td>9</td>\n",
       "    </tr>\n",
       "    <tr>\n",
       "      <th>4</th>\n",
       "      <td>6657428</td>\n",
       "      <td>9</td>\n",
       "    </tr>\n",
       "    <tr>\n",
       "      <th>...</th>\n",
       "      <td>...</td>\n",
       "      <td>...</td>\n",
       "    </tr>\n",
       "    <tr>\n",
       "      <th>26556</th>\n",
       "      <td>4424661</td>\n",
       "      <td>1</td>\n",
       "    </tr>\n",
       "    <tr>\n",
       "      <th>26557</th>\n",
       "      <td>5643352</td>\n",
       "      <td>1</td>\n",
       "    </tr>\n",
       "    <tr>\n",
       "      <th>26558</th>\n",
       "      <td>6641590</td>\n",
       "      <td>1</td>\n",
       "    </tr>\n",
       "    <tr>\n",
       "      <th>26559</th>\n",
       "      <td>264018</td>\n",
       "      <td>1</td>\n",
       "    </tr>\n",
       "    <tr>\n",
       "      <th>26560</th>\n",
       "      <td>(238615 rows affected)</td>\n",
       "      <td>1</td>\n",
       "    </tr>\n",
       "  </tbody>\n",
       "</table>\n",
       "<p>26561 rows × 2 columns</p>\n",
       "</div>"
      ]
     },
     "execution_count": 5,
     "metadata": {},
     "output_type": "execute_result"
    }
   ],
   "execution_count": 5
  },
  {
   "metadata": {
    "ExecuteTime": {
     "end_time": "2024-05-08T18:13:58.767126Z",
     "start_time": "2024-05-08T18:13:58.752126Z"
    }
   },
   "cell_type": "code",
   "source": "data_9m[data_9m.q_months == 9].shape",
   "id": "6e0a43807fe77e5f",
   "outputs": [
    {
     "data": {
      "text/plain": [
       "(26483, 2)"
      ]
     },
     "execution_count": 6,
     "metadata": {},
     "output_type": "execute_result"
    }
   ],
   "execution_count": 6
  },
  {
   "metadata": {
    "ExecuteTime": {
     "end_time": "2024-05-08T18:13:58.783126Z",
     "start_time": "2024-05-08T18:13:58.768126Z"
    }
   },
   "cell_type": "code",
   "source": "data_9m = data_9m[data_9m.q_months == 9].copy()",
   "id": "79eb5995e7b0c1ea",
   "outputs": [],
   "execution_count": 7
  },
  {
   "metadata": {
    "ExecuteTime": {
     "end_time": "2024-05-08T18:13:58.799126Z",
     "start_time": "2024-05-08T18:13:58.784127Z"
    }
   },
   "cell_type": "code",
   "source": "data.Package_Active.value_counts()",
   "id": "19965606cf73a081",
   "outputs": [
    {
     "data": {
      "text/plain": [
       "Package_Active\n",
       "No     234177\n",
       "Yes      4438\n",
       "Name: count, dtype: int64"
      ]
     },
     "execution_count": 8,
     "metadata": {},
     "output_type": "execute_result"
    }
   ],
   "execution_count": 8
  },
  {
   "metadata": {
    "ExecuteTime": {
     "end_time": "2024-05-08T18:13:58.845128Z",
     "start_time": "2024-05-08T18:13:58.800126Z"
    }
   },
   "cell_type": "code",
   "source": [
    "data_no_package = data[(data.Package_Active == 'No') & (data.Month == '2019-01-01')][['client_id']]\n",
    "data_no_package.shape"
   ],
   "id": "5d0d583ae0988c68",
   "outputs": [
    {
     "data": {
      "text/plain": [
       "(26026, 1)"
      ]
     },
     "execution_count": 9,
     "metadata": {},
     "output_type": "execute_result"
    }
   ],
   "execution_count": 9
  },
  {
   "metadata": {},
   "cell_type": "markdown",
   "source": [
    "Use case:\n",
    "\n",
    "- Lead Window: Only one month\n",
    "- Prediction Windows -> Last Two Months"
   ],
   "id": "d0e33a1af1e804ef"
  },
  {
   "metadata": {
    "ExecuteTime": {
     "end_time": "2024-05-08T18:13:58.861126Z",
     "start_time": "2024-05-08T18:13:58.847126Z"
    }
   },
   "cell_type": "code",
   "source": "data.Target.value_counts()",
   "id": "4960a0bcef74336e",
   "outputs": [
    {
     "data": {
      "text/plain": [
       "Target\n",
       "0.0    176359\n",
       "1.0     62256\n",
       "Name: count, dtype: int64"
      ]
     },
     "execution_count": 10,
     "metadata": {},
     "output_type": "execute_result"
    }
   ],
   "execution_count": 10
  },
  {
   "metadata": {
    "ExecuteTime": {
     "end_time": "2024-05-08T18:13:58.907126Z",
     "start_time": "2024-05-08T18:13:58.862126Z"
    }
   },
   "cell_type": "code",
   "source": [
    "data_target = data[(data.Target == 1) & (data.Month.isin(['2019-04-01', '2019-03-01']))][\n",
    "    ['client_id']].drop_duplicates()\n",
    "data_target.shape"
   ],
   "id": "bd29a41b5d7c5a93",
   "outputs": [
    {
     "data": {
      "text/plain": [
       "(6926, 1)"
      ]
     },
     "execution_count": 11,
     "metadata": {},
     "output_type": "execute_result"
    }
   ],
   "execution_count": 11
  },
  {
   "metadata": {
    "ExecuteTime": {
     "end_time": "2024-05-08T18:13:58.922127Z",
     "start_time": "2024-05-08T18:13:58.908127Z"
    }
   },
   "cell_type": "code",
   "source": "data_target['TGT'] = 1",
   "id": "5fdd12833864f83f",
   "outputs": [],
   "execution_count": 12
  },
  {
   "metadata": {},
   "cell_type": "markdown",
   "source": "# New business condition",
   "id": "32cd17f25553d273"
  },
  {
   "metadata": {
    "ExecuteTime": {
     "end_time": "2024-05-08T18:13:58.968129Z",
     "start_time": "2024-05-08T18:13:58.923127Z"
    }
   },
   "cell_type": "code",
   "source": "len(data[(data.CreditCard_CoBranding == 'Yes') & (data.Month == '2019-01-01')].client_id.unique())",
   "id": "e488662eedfcab87",
   "outputs": [
    {
     "data": {
      "text/plain": [
       "2843"
      ]
     },
     "execution_count": 13,
     "metadata": {},
     "output_type": "execute_result"
    }
   ],
   "execution_count": 13
  },
  {
   "metadata": {
    "ExecuteTime": {
     "end_time": "2024-05-08T18:13:58.999126Z",
     "start_time": "2024-05-08T18:13:58.969128Z"
    }
   },
   "cell_type": "code",
   "source": [
    "data_cobranding = data[(data.CreditCard_CoBranding == 'Yes') & (data.Month == '2019-01-01')][['client_id']]\n",
    "data_cobranding.shape"
   ],
   "id": "1eafd3e4e476e81a",
   "outputs": [
    {
     "data": {
      "text/plain": [
       "(2843, 1)"
      ]
     },
     "execution_count": 14,
     "metadata": {},
     "output_type": "execute_result"
    }
   ],
   "execution_count": 14
  },
  {
   "metadata": {
    "ExecuteTime": {
     "end_time": "2024-05-08T18:13:59.015127Z",
     "start_time": "2024-05-08T18:13:59.000126Z"
    }
   },
   "cell_type": "code",
   "source": [
    "data_cross_cobranding = data_cobranding.merge(data_target, how='left', on='client_id').fillna(0)\n",
    "data_cross_cobranding.TGT.value_counts()"
   ],
   "id": "2c7a4fd29f63d9a0",
   "outputs": [
    {
     "data": {
      "text/plain": [
       "TGT\n",
       "0.0    2836\n",
       "1.0       7\n",
       "Name: count, dtype: int64"
      ]
     },
     "execution_count": 15,
     "metadata": {},
     "output_type": "execute_result"
    }
   ],
   "execution_count": 15
  },
  {
   "metadata": {},
   "cell_type": "markdown",
   "source": [
    "Filter clients by:\n",
    "- 9 months with Data\n",
    "- No Co Branding\n",
    "- No Active Package\n"
   ],
   "id": "952f919b1faf2273"
  },
  {
   "metadata": {
    "ExecuteTime": {
     "end_time": "2024-05-08T18:13:59.063126Z",
     "start_time": "2024-05-08T18:13:59.016127Z"
    }
   },
   "cell_type": "code",
   "source": "data_cobranding_no = data[(data.CreditCard_CoBranding == 'No') & (data.Month == '2019-01-01')][['client_id']]",
   "id": "3c21c536a901c48d",
   "outputs": [],
   "execution_count": 16
  },
  {
   "metadata": {
    "ExecuteTime": {
     "end_time": "2024-05-08T18:13:59.095127Z",
     "start_time": "2024-05-08T18:13:59.064127Z"
    }
   },
   "cell_type": "code",
   "source": [
    "universe = data_9m \\\n",
    "    .merge(data_no_package, how='inner', on='client_id') \\\n",
    "    .merge(data_cobranding_no, how='inner', on='client_id') \\\n",
    "    .merge(data_target, how='left', on='client_id').fillna(0)\n",
    "\n",
    "universe.TGT.value_counts()"
   ],
   "id": "46ec629edc6ee8e3",
   "outputs": [
    {
     "data": {
      "text/plain": [
       "TGT\n",
       "0.0    16368\n",
       "1.0     6823\n",
       "Name: count, dtype: int64"
      ]
     },
     "execution_count": 17,
     "metadata": {},
     "output_type": "execute_result"
    }
   ],
   "execution_count": 17
  },
  {
   "metadata": {
    "ExecuteTime": {
     "end_time": "2024-05-08T18:13:59.110126Z",
     "start_time": "2024-05-08T18:13:59.096126Z"
    }
   },
   "cell_type": "code",
   "source": "universe",
   "id": "4b5fa5496e5fb5ca",
   "outputs": [
    {
     "data": {
      "text/plain": [
       "      client_id  q_months  TGT\n",
       "0       5856970         9  1.0\n",
       "1       5895899         9  0.0\n",
       "2       4712252         9  0.0\n",
       "3       6657428         9  0.0\n",
       "4       6604065         9  0.0\n",
       "...         ...       ...  ...\n",
       "23186   5489595         9  1.0\n",
       "23187   4205458         9  1.0\n",
       "23188   2964835         9  0.0\n",
       "23189   6350133         9  1.0\n",
       "23190   2068261         9  0.0\n",
       "\n",
       "[23191 rows x 3 columns]"
      ],
      "text/html": [
       "<div>\n",
       "<style scoped>\n",
       "    .dataframe tbody tr th:only-of-type {\n",
       "        vertical-align: middle;\n",
       "    }\n",
       "\n",
       "    .dataframe tbody tr th {\n",
       "        vertical-align: top;\n",
       "    }\n",
       "\n",
       "    .dataframe thead th {\n",
       "        text-align: right;\n",
       "    }\n",
       "</style>\n",
       "<table border=\"1\" class=\"dataframe\">\n",
       "  <thead>\n",
       "    <tr style=\"text-align: right;\">\n",
       "      <th></th>\n",
       "      <th>client_id</th>\n",
       "      <th>q_months</th>\n",
       "      <th>TGT</th>\n",
       "    </tr>\n",
       "  </thead>\n",
       "  <tbody>\n",
       "    <tr>\n",
       "      <th>0</th>\n",
       "      <td>5856970</td>\n",
       "      <td>9</td>\n",
       "      <td>1.0</td>\n",
       "    </tr>\n",
       "    <tr>\n",
       "      <th>1</th>\n",
       "      <td>5895899</td>\n",
       "      <td>9</td>\n",
       "      <td>0.0</td>\n",
       "    </tr>\n",
       "    <tr>\n",
       "      <th>2</th>\n",
       "      <td>4712252</td>\n",
       "      <td>9</td>\n",
       "      <td>0.0</td>\n",
       "    </tr>\n",
       "    <tr>\n",
       "      <th>3</th>\n",
       "      <td>6657428</td>\n",
       "      <td>9</td>\n",
       "      <td>0.0</td>\n",
       "    </tr>\n",
       "    <tr>\n",
       "      <th>4</th>\n",
       "      <td>6604065</td>\n",
       "      <td>9</td>\n",
       "      <td>0.0</td>\n",
       "    </tr>\n",
       "    <tr>\n",
       "      <th>...</th>\n",
       "      <td>...</td>\n",
       "      <td>...</td>\n",
       "      <td>...</td>\n",
       "    </tr>\n",
       "    <tr>\n",
       "      <th>23186</th>\n",
       "      <td>5489595</td>\n",
       "      <td>9</td>\n",
       "      <td>1.0</td>\n",
       "    </tr>\n",
       "    <tr>\n",
       "      <th>23187</th>\n",
       "      <td>4205458</td>\n",
       "      <td>9</td>\n",
       "      <td>1.0</td>\n",
       "    </tr>\n",
       "    <tr>\n",
       "      <th>23188</th>\n",
       "      <td>2964835</td>\n",
       "      <td>9</td>\n",
       "      <td>0.0</td>\n",
       "    </tr>\n",
       "    <tr>\n",
       "      <th>23189</th>\n",
       "      <td>6350133</td>\n",
       "      <td>9</td>\n",
       "      <td>1.0</td>\n",
       "    </tr>\n",
       "    <tr>\n",
       "      <th>23190</th>\n",
       "      <td>2068261</td>\n",
       "      <td>9</td>\n",
       "      <td>0.0</td>\n",
       "    </tr>\n",
       "  </tbody>\n",
       "</table>\n",
       "<p>23191 rows × 3 columns</p>\n",
       "</div>"
      ]
     },
     "execution_count": 18,
     "metadata": {},
     "output_type": "execute_result"
    }
   ],
   "execution_count": 18
  },
  {
   "metadata": {},
   "cell_type": "markdown",
   "source": "# Exploratory Data Analysis (EDA)",
   "id": "44366adc90a08c5b"
  },
  {
   "metadata": {
    "ExecuteTime": {
     "end_time": "2024-05-08T18:13:59.171127Z",
     "start_time": "2024-05-08T18:13:59.111126Z"
    }
   },
   "cell_type": "code",
   "source": [
    "training_window = data[(data.Month.isin(['2018-08-01',\n",
    "                                         '2018-09-01',\n",
    "                                         '2018-10-01',\n",
    "                                         '2018-11-01',\n",
    "                                         '2018-12-01',\n",
    "                                         '2019-01-01'\n",
    "                                         ]))]\n",
    "\n",
    "training_window.shape"
   ],
   "id": "8eb9fcffe2ec9ff",
   "outputs": [
    {
     "data": {
      "text/plain": [
       "(159009, 77)"
      ]
     },
     "execution_count": 19,
     "metadata": {},
     "output_type": "execute_result"
    }
   ],
   "execution_count": 19
  },
  {
   "metadata": {
    "ExecuteTime": {
     "end_time": "2024-05-08T18:13:59.249126Z",
     "start_time": "2024-05-08T18:13:59.172127Z"
    }
   },
   "cell_type": "code",
   "source": "training_window",
   "id": "b640d1c013616de9",
   "outputs": [
    {
     "data": {
      "text/plain": [
       "       client_id  Target       Month First_product_dt Last_product_dt  \\\n",
       "0        5856970     1.0  2018-10-01       2013-10-23      2019-01-10   \n",
       "1        6371753     0.0  2018-09-01       2015-07-29      2018-06-02   \n",
       "2        5928737     0.0  2019-01-01       2016-08-31      2018-12-27   \n",
       "3         475064     0.0  2018-12-01       2014-07-13      2017-11-30   \n",
       "4        3615172     0.0  2018-09-01       2017-12-27      2017-12-28   \n",
       "...          ...     ...         ...              ...             ...   \n",
       "238597   1673642     0.0  2018-11-01       2017-08-18      2017-09-26   \n",
       "238603   6145735     1.0  2018-11-01       2014-10-26      2014-10-26   \n",
       "238604   5638786     1.0  2018-11-01       2012-12-26      2017-03-08   \n",
       "238608   3824781     0.0  2018-08-01       2014-11-27      2019-01-04   \n",
       "238612   6412619     0.0  2019-01-01       2015-07-08      2018-06-02   \n",
       "\n",
       "       CreditCard_Premium CreditCard_Active CreditCard_CoBranding Loan_Active  \\\n",
       "0                      No               Yes                    No          No   \n",
       "1                      No                No                    No          No   \n",
       "2                      No                No                    No          No   \n",
       "3                      No               Yes                    No          No   \n",
       "4                      No                No                    No          No   \n",
       "...                   ...               ...                   ...         ...   \n",
       "238597                 No               Yes                    No          No   \n",
       "238603                 No               Yes                    No          No   \n",
       "238604                 No               Yes                    No          No   \n",
       "238608                 No                No                    No          No   \n",
       "238612                 No                No                    No         Yes   \n",
       "\n",
       "       Mortgage_Active  ... CreditCard_Payment_External  \\\n",
       "0                   No  ...                         0.0   \n",
       "1                   No  ...                         0.0   \n",
       "2                   No  ...                         0.0   \n",
       "3                   No  ...                         0.0   \n",
       "4                   No  ...                         0.0   \n",
       "...                ...  ...                         ...   \n",
       "238597              No  ...                         0.0   \n",
       "238603              No  ...                         0.0   \n",
       "238604              No  ...                         0.0   \n",
       "238608              No  ...                         0.0   \n",
       "238612              No  ...                         0.0   \n",
       "\n",
       "       CreditCard_Payment_Cash CreditCard_Payment_Web CreditCard_Payment_ATM  \\\n",
       "0                          0.0                    0.0                    0.0   \n",
       "1                          0.0                    0.0                    0.0   \n",
       "2                          0.0                    0.0                    0.0   \n",
       "3                          0.0                    0.0                    0.0   \n",
       "4                          0.0                    0.0                    0.0   \n",
       "...                        ...                    ...                    ...   \n",
       "238597                     0.0                    1.0                    0.0   \n",
       "238603                     0.0                    1.0                    0.0   \n",
       "238604                     0.0                    0.0                    0.0   \n",
       "238608                     0.0                    0.0                    0.0   \n",
       "238612                     0.0                    0.0                    0.0   \n",
       "\n",
       "       CreditCard_Payment_TAS Investment_Numbers Mobile Email Region  \\\n",
       "0                         0.0                1.0    Yes   Yes    NaN   \n",
       "1                         0.0                0.0    Yes    No    NaN   \n",
       "2                         0.0                0.0    Yes   Yes    NaN   \n",
       "3                         0.0                0.0    Yes   Yes    NaN   \n",
       "4                         0.0                0.0    Yes    No    NaN   \n",
       "...                       ...                ...    ...   ...    ...   \n",
       "238597                    0.0                0.0     No   Yes    NaN   \n",
       "238603                    0.0                0.0    Yes   Yes    NaN   \n",
       "238604                    1.0                0.0    Yes    No    NaN   \n",
       "238608                    0.0                0.0    Yes   Yes    NaN   \n",
       "238612                    0.0                0.0    Yes    No    NaN   \n",
       "\n",
       "       CreditCard_Product  \n",
       "0                     NaN  \n",
       "1                     NaN  \n",
       "2                     NaN  \n",
       "3                     NaN  \n",
       "4                     NaN  \n",
       "...                   ...  \n",
       "238597                NaN  \n",
       "238603                NaN  \n",
       "238604                NaN  \n",
       "238608                NaN  \n",
       "238612                NaN  \n",
       "\n",
       "[159009 rows x 77 columns]"
      ],
      "text/html": [
       "<div>\n",
       "<style scoped>\n",
       "    .dataframe tbody tr th:only-of-type {\n",
       "        vertical-align: middle;\n",
       "    }\n",
       "\n",
       "    .dataframe tbody tr th {\n",
       "        vertical-align: top;\n",
       "    }\n",
       "\n",
       "    .dataframe thead th {\n",
       "        text-align: right;\n",
       "    }\n",
       "</style>\n",
       "<table border=\"1\" class=\"dataframe\">\n",
       "  <thead>\n",
       "    <tr style=\"text-align: right;\">\n",
       "      <th></th>\n",
       "      <th>client_id</th>\n",
       "      <th>Target</th>\n",
       "      <th>Month</th>\n",
       "      <th>First_product_dt</th>\n",
       "      <th>Last_product_dt</th>\n",
       "      <th>CreditCard_Premium</th>\n",
       "      <th>CreditCard_Active</th>\n",
       "      <th>CreditCard_CoBranding</th>\n",
       "      <th>Loan_Active</th>\n",
       "      <th>Mortgage_Active</th>\n",
       "      <th>...</th>\n",
       "      <th>CreditCard_Payment_External</th>\n",
       "      <th>CreditCard_Payment_Cash</th>\n",
       "      <th>CreditCard_Payment_Web</th>\n",
       "      <th>CreditCard_Payment_ATM</th>\n",
       "      <th>CreditCard_Payment_TAS</th>\n",
       "      <th>Investment_Numbers</th>\n",
       "      <th>Mobile</th>\n",
       "      <th>Email</th>\n",
       "      <th>Region</th>\n",
       "      <th>CreditCard_Product</th>\n",
       "    </tr>\n",
       "  </thead>\n",
       "  <tbody>\n",
       "    <tr>\n",
       "      <th>0</th>\n",
       "      <td>5856970</td>\n",
       "      <td>1.0</td>\n",
       "      <td>2018-10-01</td>\n",
       "      <td>2013-10-23</td>\n",
       "      <td>2019-01-10</td>\n",
       "      <td>No</td>\n",
       "      <td>Yes</td>\n",
       "      <td>No</td>\n",
       "      <td>No</td>\n",
       "      <td>No</td>\n",
       "      <td>...</td>\n",
       "      <td>0.0</td>\n",
       "      <td>0.0</td>\n",
       "      <td>0.0</td>\n",
       "      <td>0.0</td>\n",
       "      <td>0.0</td>\n",
       "      <td>1.0</td>\n",
       "      <td>Yes</td>\n",
       "      <td>Yes</td>\n",
       "      <td>NaN</td>\n",
       "      <td>NaN</td>\n",
       "    </tr>\n",
       "    <tr>\n",
       "      <th>1</th>\n",
       "      <td>6371753</td>\n",
       "      <td>0.0</td>\n",
       "      <td>2018-09-01</td>\n",
       "      <td>2015-07-29</td>\n",
       "      <td>2018-06-02</td>\n",
       "      <td>No</td>\n",
       "      <td>No</td>\n",
       "      <td>No</td>\n",
       "      <td>No</td>\n",
       "      <td>No</td>\n",
       "      <td>...</td>\n",
       "      <td>0.0</td>\n",
       "      <td>0.0</td>\n",
       "      <td>0.0</td>\n",
       "      <td>0.0</td>\n",
       "      <td>0.0</td>\n",
       "      <td>0.0</td>\n",
       "      <td>Yes</td>\n",
       "      <td>No</td>\n",
       "      <td>NaN</td>\n",
       "      <td>NaN</td>\n",
       "    </tr>\n",
       "    <tr>\n",
       "      <th>2</th>\n",
       "      <td>5928737</td>\n",
       "      <td>0.0</td>\n",
       "      <td>2019-01-01</td>\n",
       "      <td>2016-08-31</td>\n",
       "      <td>2018-12-27</td>\n",
       "      <td>No</td>\n",
       "      <td>No</td>\n",
       "      <td>No</td>\n",
       "      <td>No</td>\n",
       "      <td>No</td>\n",
       "      <td>...</td>\n",
       "      <td>0.0</td>\n",
       "      <td>0.0</td>\n",
       "      <td>0.0</td>\n",
       "      <td>0.0</td>\n",
       "      <td>0.0</td>\n",
       "      <td>0.0</td>\n",
       "      <td>Yes</td>\n",
       "      <td>Yes</td>\n",
       "      <td>NaN</td>\n",
       "      <td>NaN</td>\n",
       "    </tr>\n",
       "    <tr>\n",
       "      <th>3</th>\n",
       "      <td>475064</td>\n",
       "      <td>0.0</td>\n",
       "      <td>2018-12-01</td>\n",
       "      <td>2014-07-13</td>\n",
       "      <td>2017-11-30</td>\n",
       "      <td>No</td>\n",
       "      <td>Yes</td>\n",
       "      <td>No</td>\n",
       "      <td>No</td>\n",
       "      <td>No</td>\n",
       "      <td>...</td>\n",
       "      <td>0.0</td>\n",
       "      <td>0.0</td>\n",
       "      <td>0.0</td>\n",
       "      <td>0.0</td>\n",
       "      <td>0.0</td>\n",
       "      <td>0.0</td>\n",
       "      <td>Yes</td>\n",
       "      <td>Yes</td>\n",
       "      <td>NaN</td>\n",
       "      <td>NaN</td>\n",
       "    </tr>\n",
       "    <tr>\n",
       "      <th>4</th>\n",
       "      <td>3615172</td>\n",
       "      <td>0.0</td>\n",
       "      <td>2018-09-01</td>\n",
       "      <td>2017-12-27</td>\n",
       "      <td>2017-12-28</td>\n",
       "      <td>No</td>\n",
       "      <td>No</td>\n",
       "      <td>No</td>\n",
       "      <td>No</td>\n",
       "      <td>No</td>\n",
       "      <td>...</td>\n",
       "      <td>0.0</td>\n",
       "      <td>0.0</td>\n",
       "      <td>0.0</td>\n",
       "      <td>0.0</td>\n",
       "      <td>0.0</td>\n",
       "      <td>0.0</td>\n",
       "      <td>Yes</td>\n",
       "      <td>No</td>\n",
       "      <td>NaN</td>\n",
       "      <td>NaN</td>\n",
       "    </tr>\n",
       "    <tr>\n",
       "      <th>...</th>\n",
       "      <td>...</td>\n",
       "      <td>...</td>\n",
       "      <td>...</td>\n",
       "      <td>...</td>\n",
       "      <td>...</td>\n",
       "      <td>...</td>\n",
       "      <td>...</td>\n",
       "      <td>...</td>\n",
       "      <td>...</td>\n",
       "      <td>...</td>\n",
       "      <td>...</td>\n",
       "      <td>...</td>\n",
       "      <td>...</td>\n",
       "      <td>...</td>\n",
       "      <td>...</td>\n",
       "      <td>...</td>\n",
       "      <td>...</td>\n",
       "      <td>...</td>\n",
       "      <td>...</td>\n",
       "      <td>...</td>\n",
       "      <td>...</td>\n",
       "    </tr>\n",
       "    <tr>\n",
       "      <th>238597</th>\n",
       "      <td>1673642</td>\n",
       "      <td>0.0</td>\n",
       "      <td>2018-11-01</td>\n",
       "      <td>2017-08-18</td>\n",
       "      <td>2017-09-26</td>\n",
       "      <td>No</td>\n",
       "      <td>Yes</td>\n",
       "      <td>No</td>\n",
       "      <td>No</td>\n",
       "      <td>No</td>\n",
       "      <td>...</td>\n",
       "      <td>0.0</td>\n",
       "      <td>0.0</td>\n",
       "      <td>1.0</td>\n",
       "      <td>0.0</td>\n",
       "      <td>0.0</td>\n",
       "      <td>0.0</td>\n",
       "      <td>No</td>\n",
       "      <td>Yes</td>\n",
       "      <td>NaN</td>\n",
       "      <td>NaN</td>\n",
       "    </tr>\n",
       "    <tr>\n",
       "      <th>238603</th>\n",
       "      <td>6145735</td>\n",
       "      <td>1.0</td>\n",
       "      <td>2018-11-01</td>\n",
       "      <td>2014-10-26</td>\n",
       "      <td>2014-10-26</td>\n",
       "      <td>No</td>\n",
       "      <td>Yes</td>\n",
       "      <td>No</td>\n",
       "      <td>No</td>\n",
       "      <td>No</td>\n",
       "      <td>...</td>\n",
       "      <td>0.0</td>\n",
       "      <td>0.0</td>\n",
       "      <td>1.0</td>\n",
       "      <td>0.0</td>\n",
       "      <td>0.0</td>\n",
       "      <td>0.0</td>\n",
       "      <td>Yes</td>\n",
       "      <td>Yes</td>\n",
       "      <td>NaN</td>\n",
       "      <td>NaN</td>\n",
       "    </tr>\n",
       "    <tr>\n",
       "      <th>238604</th>\n",
       "      <td>5638786</td>\n",
       "      <td>1.0</td>\n",
       "      <td>2018-11-01</td>\n",
       "      <td>2012-12-26</td>\n",
       "      <td>2017-03-08</td>\n",
       "      <td>No</td>\n",
       "      <td>Yes</td>\n",
       "      <td>No</td>\n",
       "      <td>No</td>\n",
       "      <td>No</td>\n",
       "      <td>...</td>\n",
       "      <td>0.0</td>\n",
       "      <td>0.0</td>\n",
       "      <td>0.0</td>\n",
       "      <td>0.0</td>\n",
       "      <td>1.0</td>\n",
       "      <td>0.0</td>\n",
       "      <td>Yes</td>\n",
       "      <td>No</td>\n",
       "      <td>NaN</td>\n",
       "      <td>NaN</td>\n",
       "    </tr>\n",
       "    <tr>\n",
       "      <th>238608</th>\n",
       "      <td>3824781</td>\n",
       "      <td>0.0</td>\n",
       "      <td>2018-08-01</td>\n",
       "      <td>2014-11-27</td>\n",
       "      <td>2019-01-04</td>\n",
       "      <td>No</td>\n",
       "      <td>No</td>\n",
       "      <td>No</td>\n",
       "      <td>No</td>\n",
       "      <td>No</td>\n",
       "      <td>...</td>\n",
       "      <td>0.0</td>\n",
       "      <td>0.0</td>\n",
       "      <td>0.0</td>\n",
       "      <td>0.0</td>\n",
       "      <td>0.0</td>\n",
       "      <td>0.0</td>\n",
       "      <td>Yes</td>\n",
       "      <td>Yes</td>\n",
       "      <td>NaN</td>\n",
       "      <td>NaN</td>\n",
       "    </tr>\n",
       "    <tr>\n",
       "      <th>238612</th>\n",
       "      <td>6412619</td>\n",
       "      <td>0.0</td>\n",
       "      <td>2019-01-01</td>\n",
       "      <td>2015-07-08</td>\n",
       "      <td>2018-06-02</td>\n",
       "      <td>No</td>\n",
       "      <td>No</td>\n",
       "      <td>No</td>\n",
       "      <td>Yes</td>\n",
       "      <td>No</td>\n",
       "      <td>...</td>\n",
       "      <td>0.0</td>\n",
       "      <td>0.0</td>\n",
       "      <td>0.0</td>\n",
       "      <td>0.0</td>\n",
       "      <td>0.0</td>\n",
       "      <td>0.0</td>\n",
       "      <td>Yes</td>\n",
       "      <td>No</td>\n",
       "      <td>NaN</td>\n",
       "      <td>NaN</td>\n",
       "    </tr>\n",
       "  </tbody>\n",
       "</table>\n",
       "<p>159009 rows × 77 columns</p>\n",
       "</div>"
      ]
     },
     "execution_count": 20,
     "metadata": {},
     "output_type": "execute_result"
    }
   ],
   "execution_count": 20
  },
  {
   "metadata": {
    "ExecuteTime": {
     "end_time": "2024-05-08T18:13:59.280126Z",
     "start_time": "2024-05-08T18:13:59.250126Z"
    }
   },
   "cell_type": "code",
   "source": "training_window.client_id.value_counts()",
   "id": "70907885f9eeac0f",
   "outputs": [
    {
     "data": {
      "text/plain": [
       "client_id\n",
       "5856970    6\n",
       "3852147    6\n",
       "1129478    6\n",
       "711456     6\n",
       "2531821    6\n",
       "          ..\n",
       "6264756    2\n",
       "5124642    1\n",
       "6623284    1\n",
       "1419642    1\n",
       "6858355    1\n",
       "Name: count, Length: 26509, dtype: int64"
      ]
     },
     "execution_count": 21,
     "metadata": {},
     "output_type": "execute_result"
    }
   ],
   "execution_count": 21
  },
  {
   "metadata": {
    "ExecuteTime": {
     "end_time": "2024-05-08T18:13:59.295126Z",
     "start_time": "2024-05-08T18:13:59.282128Z"
    }
   },
   "cell_type": "code",
   "source": "len(universe.client_id.unique())",
   "id": "1e6df16f4651975e",
   "outputs": [
    {
     "data": {
      "text/plain": [
       "23191"
      ]
     },
     "execution_count": 22,
     "metadata": {},
     "output_type": "execute_result"
    }
   ],
   "execution_count": 22
  },
  {
   "metadata": {
    "ExecuteTime": {
     "end_time": "2024-05-08T18:13:59.357128Z",
     "start_time": "2024-05-08T18:13:59.296126Z"
    }
   },
   "cell_type": "code",
   "source": "len(data.client_id.unique())",
   "id": "3f7b5b580d31d936",
   "outputs": [
    {
     "data": {
      "text/plain": [
       "26561"
      ]
     },
     "execution_count": 23,
     "metadata": {},
     "output_type": "execute_result"
    }
   ],
   "execution_count": 23
  },
  {
   "metadata": {
    "ExecuteTime": {
     "end_time": "2024-05-08T18:13:59.389127Z",
     "start_time": "2024-05-08T18:13:59.359127Z"
    }
   },
   "cell_type": "code",
   "source": "len(training_window.client_id.unique())",
   "id": "b7f4bb35d4ee7892",
   "outputs": [
    {
     "data": {
      "text/plain": [
       "26509"
      ]
     },
     "execution_count": 24,
     "metadata": {},
     "output_type": "execute_result"
    }
   ],
   "execution_count": 24
  },
  {
   "metadata": {
    "ExecuteTime": {
     "end_time": "2024-05-08T18:13:59.483127Z",
     "start_time": "2024-05-08T18:13:59.390128Z"
    }
   },
   "cell_type": "code",
   "source": "training_window = training_window.merge(universe, how='inner', on='client_id')",
   "id": "dcdb7594eb95cfca",
   "outputs": [],
   "execution_count": 25
  },
  {
   "metadata": {
    "ExecuteTime": {
     "end_time": "2024-05-08T18:13:59.515126Z",
     "start_time": "2024-05-08T18:13:59.484127Z"
    }
   },
   "cell_type": "code",
   "source": "len(training_window.client_id.unique())",
   "id": "e4bff3408202492a",
   "outputs": [
    {
     "data": {
      "text/plain": [
       "23191"
      ]
     },
     "execution_count": 26,
     "metadata": {},
     "output_type": "execute_result"
    }
   ],
   "execution_count": 26
  },
  {
   "metadata": {
    "ExecuteTime": {
     "end_time": "2024-05-08T18:14:14.781825Z",
     "start_time": "2024-05-08T18:14:14.751825Z"
    }
   },
   "cell_type": "code",
   "source": "training_window.client_id.value_counts()",
   "id": "918bb94e238ff1ed",
   "outputs": [
    {
     "data": {
      "text/plain": [
       "client_id\n",
       "5856970    6\n",
       "2428341    6\n",
       "6454439    6\n",
       "5678167    6\n",
       "7308381    6\n",
       "          ..\n",
       "6210931    6\n",
       "2758381    6\n",
       "6348905    6\n",
       "5982253    6\n",
       "5967858    6\n",
       "Name: count, Length: 23191, dtype: int64"
      ]
     },
     "execution_count": 27,
     "metadata": {},
     "output_type": "execute_result"
    }
   ],
   "execution_count": 27
  },
  {
   "metadata": {
    "ExecuteTime": {
     "end_time": "2024-05-08T18:14:33.255384Z",
     "start_time": "2024-05-08T18:14:33.233385Z"
    }
   },
   "cell_type": "code",
   "source": "training_window[training_window.client_id == '5856970'][['SavingAccount_Balance_Average']].T",
   "id": "6beea6b938471df0",
   "outputs": [
    {
     "data": {
      "text/plain": [
       "                               0        23560   59432   96224    98432   \\\n",
       "SavingAccount_Balance_Average  406.35  1987.45  5638.1  107.23  2238.61   \n",
       "\n",
       "                               120274  \n",
       "SavingAccount_Balance_Average   18.28  "
      ],
      "text/html": [
       "<div>\n",
       "<style scoped>\n",
       "    .dataframe tbody tr th:only-of-type {\n",
       "        vertical-align: middle;\n",
       "    }\n",
       "\n",
       "    .dataframe tbody tr th {\n",
       "        vertical-align: top;\n",
       "    }\n",
       "\n",
       "    .dataframe thead th {\n",
       "        text-align: right;\n",
       "    }\n",
       "</style>\n",
       "<table border=\"1\" class=\"dataframe\">\n",
       "  <thead>\n",
       "    <tr style=\"text-align: right;\">\n",
       "      <th></th>\n",
       "      <th>0</th>\n",
       "      <th>23560</th>\n",
       "      <th>59432</th>\n",
       "      <th>96224</th>\n",
       "      <th>98432</th>\n",
       "      <th>120274</th>\n",
       "    </tr>\n",
       "  </thead>\n",
       "  <tbody>\n",
       "    <tr>\n",
       "      <th>SavingAccount_Balance_Average</th>\n",
       "      <td>406.35</td>\n",
       "      <td>1987.45</td>\n",
       "      <td>5638.1</td>\n",
       "      <td>107.23</td>\n",
       "      <td>2238.61</td>\n",
       "      <td>18.28</td>\n",
       "    </tr>\n",
       "  </tbody>\n",
       "</table>\n",
       "</div>"
      ]
     },
     "execution_count": 28,
     "metadata": {},
     "output_type": "execute_result"
    }
   ],
   "execution_count": 28
  },
  {
   "metadata": {
    "ExecuteTime": {
     "end_time": "2024-05-08T18:16:07.248341Z",
     "start_time": "2024-05-08T18:16:07.186342Z"
    }
   },
   "cell_type": "code",
   "source": [
    "universe_r = universe.merge(data[data.Month == '2019-04-01'][['Region', 'client_id']], how='left',\n",
    "                            on='client_id').fillna('SD')\n",
    "universe_r"
   ],
   "id": "6b4cb92f1a2f850b",
   "outputs": [
    {
     "data": {
      "text/plain": [
       "      client_id  q_months  TGT                         Region\n",
       "0       5856970         9  1.0                     AMBA Resto\n",
       "1       5895899         9  0.0  REGION NORTE GRANDE ARGENTINO\n",
       "2       4712252         9  0.0                   BUENOS AIRES\n",
       "3       6657428         9  0.0                    REGION CUYO\n",
       "4       6604065         9  0.0              CABA Centro/Norte\n",
       "...         ...       ...  ...                            ...\n",
       "23186   5489595         9  1.0  REGION NORTE GRANDE ARGENTINO\n",
       "23187   4205458         9  1.0                   BUENOS AIRES\n",
       "23188   2964835         9  0.0                   BUENOS AIRES\n",
       "23189   6350133         9  1.0                     AMBA Resto\n",
       "23190   2068261         9  0.0                  REGION CENTRO\n",
       "\n",
       "[23191 rows x 4 columns]"
      ],
      "text/html": [
       "<div>\n",
       "<style scoped>\n",
       "    .dataframe tbody tr th:only-of-type {\n",
       "        vertical-align: middle;\n",
       "    }\n",
       "\n",
       "    .dataframe tbody tr th {\n",
       "        vertical-align: top;\n",
       "    }\n",
       "\n",
       "    .dataframe thead th {\n",
       "        text-align: right;\n",
       "    }\n",
       "</style>\n",
       "<table border=\"1\" class=\"dataframe\">\n",
       "  <thead>\n",
       "    <tr style=\"text-align: right;\">\n",
       "      <th></th>\n",
       "      <th>client_id</th>\n",
       "      <th>q_months</th>\n",
       "      <th>TGT</th>\n",
       "      <th>Region</th>\n",
       "    </tr>\n",
       "  </thead>\n",
       "  <tbody>\n",
       "    <tr>\n",
       "      <th>0</th>\n",
       "      <td>5856970</td>\n",
       "      <td>9</td>\n",
       "      <td>1.0</td>\n",
       "      <td>AMBA Resto</td>\n",
       "    </tr>\n",
       "    <tr>\n",
       "      <th>1</th>\n",
       "      <td>5895899</td>\n",
       "      <td>9</td>\n",
       "      <td>0.0</td>\n",
       "      <td>REGION NORTE GRANDE ARGENTINO</td>\n",
       "    </tr>\n",
       "    <tr>\n",
       "      <th>2</th>\n",
       "      <td>4712252</td>\n",
       "      <td>9</td>\n",
       "      <td>0.0</td>\n",
       "      <td>BUENOS AIRES</td>\n",
       "    </tr>\n",
       "    <tr>\n",
       "      <th>3</th>\n",
       "      <td>6657428</td>\n",
       "      <td>9</td>\n",
       "      <td>0.0</td>\n",
       "      <td>REGION CUYO</td>\n",
       "    </tr>\n",
       "    <tr>\n",
       "      <th>4</th>\n",
       "      <td>6604065</td>\n",
       "      <td>9</td>\n",
       "      <td>0.0</td>\n",
       "      <td>CABA Centro/Norte</td>\n",
       "    </tr>\n",
       "    <tr>\n",
       "      <th>...</th>\n",
       "      <td>...</td>\n",
       "      <td>...</td>\n",
       "      <td>...</td>\n",
       "      <td>...</td>\n",
       "    </tr>\n",
       "    <tr>\n",
       "      <th>23186</th>\n",
       "      <td>5489595</td>\n",
       "      <td>9</td>\n",
       "      <td>1.0</td>\n",
       "      <td>REGION NORTE GRANDE ARGENTINO</td>\n",
       "    </tr>\n",
       "    <tr>\n",
       "      <th>23187</th>\n",
       "      <td>4205458</td>\n",
       "      <td>9</td>\n",
       "      <td>1.0</td>\n",
       "      <td>BUENOS AIRES</td>\n",
       "    </tr>\n",
       "    <tr>\n",
       "      <th>23188</th>\n",
       "      <td>2964835</td>\n",
       "      <td>9</td>\n",
       "      <td>0.0</td>\n",
       "      <td>BUENOS AIRES</td>\n",
       "    </tr>\n",
       "    <tr>\n",
       "      <th>23189</th>\n",
       "      <td>6350133</td>\n",
       "      <td>9</td>\n",
       "      <td>1.0</td>\n",
       "      <td>AMBA Resto</td>\n",
       "    </tr>\n",
       "    <tr>\n",
       "      <th>23190</th>\n",
       "      <td>2068261</td>\n",
       "      <td>9</td>\n",
       "      <td>0.0</td>\n",
       "      <td>REGION CENTRO</td>\n",
       "    </tr>\n",
       "  </tbody>\n",
       "</table>\n",
       "<p>23191 rows × 4 columns</p>\n",
       "</div>"
      ]
     },
     "execution_count": 29,
     "metadata": {},
     "output_type": "execute_result"
    }
   ],
   "execution_count": 29
  },
  {
   "metadata": {
    "ExecuteTime": {
     "end_time": "2024-05-08T18:16:37.544655Z",
     "start_time": "2024-05-08T18:16:37.530656Z"
    }
   },
   "cell_type": "code",
   "source": "universe_r.TGT.value_counts()",
   "id": "ba8f3dd5d0379056",
   "outputs": [
    {
     "data": {
      "text/plain": [
       "TGT\n",
       "0.0    16368\n",
       "1.0     6823\n",
       "Name: count, dtype: int64"
      ]
     },
     "execution_count": 30,
     "metadata": {},
     "output_type": "execute_result"
    }
   ],
   "execution_count": 30
  },
  {
   "metadata": {
    "ExecuteTime": {
     "end_time": "2024-05-08T18:17:07.416496Z",
     "start_time": "2024-05-08T18:17:07.402498Z"
    }
   },
   "cell_type": "code",
   "source": "universe_r[['Region', 'TGT']].value_counts()",
   "id": "f8cba3147a374d4e",
   "outputs": [
    {
     "data": {
      "text/plain": [
       "Region                         TGT\n",
       "BUENOS AIRES                   0.0    4846\n",
       "REGION CENTRO                  0.0    3463\n",
       "REGION NORTE GRANDE ARGENTINO  0.0    2618\n",
       "BUENOS AIRES                   1.0    2138\n",
       "REGION PATAGONICA              0.0    1612\n",
       "CABA Centro/Norte              0.0    1436\n",
       "AMBA Resto                     0.0    1236\n",
       "REGION CUYO                    0.0    1151\n",
       "REGION CENTRO                  1.0    1116\n",
       "REGION NORTE GRANDE ARGENTINO  1.0    1056\n",
       "REGION PATAGONICA              1.0     820\n",
       "CABA Centro/Norte              1.0     612\n",
       "AMBA Resto                     1.0     592\n",
       "REGION CUYO                    1.0     489\n",
       "SD                             0.0       6\n",
       "Name: count, dtype: int64"
      ]
     },
     "execution_count": 31,
     "metadata": {},
     "output_type": "execute_result"
    }
   ],
   "execution_count": 31
  },
  {
   "metadata": {
    "ExecuteTime": {
     "end_time": "2024-05-08T18:17:29.935204Z",
     "start_time": "2024-05-08T18:17:29.921103Z"
    }
   },
   "cell_type": "code",
   "source": "universe_r[['Region']].value_counts()",
   "id": "14e70c976923e385",
   "outputs": [
    {
     "data": {
      "text/plain": [
       "Region                       \n",
       "BUENOS AIRES                     6984\n",
       "REGION CENTRO                    4579\n",
       "REGION NORTE GRANDE ARGENTINO    3674\n",
       "REGION PATAGONICA                2432\n",
       "CABA Centro/Norte                2048\n",
       "AMBA Resto                       1828\n",
       "REGION CUYO                      1640\n",
       "SD                                  6\n",
       "Name: count, dtype: int64"
      ]
     },
     "execution_count": 32,
     "metadata": {},
     "output_type": "execute_result"
    }
   ],
   "execution_count": 32
  },
  {
   "metadata": {
    "ExecuteTime": {
     "end_time": "2024-05-08T18:17:48.949100Z",
     "start_time": "2024-05-08T18:17:48.934099Z"
    }
   },
   "cell_type": "code",
   "source": "universe_r[universe_r.TGT == 1][['Region']].value_counts()",
   "id": "32d8a90b327d8d13",
   "outputs": [
    {
     "data": {
      "text/plain": [
       "Region                       \n",
       "BUENOS AIRES                     2138\n",
       "REGION CENTRO                    1116\n",
       "REGION NORTE GRANDE ARGENTINO    1056\n",
       "REGION PATAGONICA                 820\n",
       "CABA Centro/Norte                 612\n",
       "AMBA Resto                        592\n",
       "REGION CUYO                       489\n",
       "Name: count, dtype: int64"
      ]
     },
     "execution_count": 33,
     "metadata": {},
     "output_type": "execute_result"
    }
   ],
   "execution_count": 33
  },
  {
   "metadata": {},
   "cell_type": "markdown",
   "source": [
    "# Identity Features\n",
    "For last month in trading window"
   ],
   "id": "889817f7bcef22c0"
  },
  {
   "metadata": {
    "ExecuteTime": {
     "end_time": "2024-05-08T18:18:36.869824Z",
     "start_time": "2024-05-08T18:18:36.854826Z"
    }
   },
   "cell_type": "code",
   "source": "training_window.Client_Age_grp.value_counts()",
   "id": "e8361478f253778f",
   "outputs": [
    {
     "data": {
      "text/plain": [
       "Client_Age_grp\n",
       "Entre 40 y 49 años    38313\n",
       "Entre 30 y 39 años    34063\n",
       "Entre 50 y 59 años    30588\n",
       "Entre 60 y 64 años    12282\n",
       "Entre 65 y 69 años     9685\n",
       "Entre 18 y 29 años     7509\n",
       "Mayor a 70 años        6701\n",
       "Menor a 18 años           5\n",
       "Name: count, dtype: int64"
      ]
     },
     "execution_count": 34,
     "metadata": {},
     "output_type": "execute_result"
    }
   ],
   "execution_count": 34
  },
  {
   "metadata": {
    "ExecuteTime": {
     "end_time": "2024-05-08T18:18:46.387824Z",
     "start_time": "2024-05-08T18:18:46.372825Z"
    }
   },
   "cell_type": "code",
   "source": "data.CreditCard_Product.value_counts()",
   "id": "98f475f6d28e8e05",
   "outputs": [
    {
     "data": {
      "text/plain": [
       "CreditCard_Product\n",
       "J55660104XX012    17298\n",
       "J55660202XX012    12047\n",
       "J55660124XX012     4978\n",
       "J55660102XX012      834\n",
       "J55660123XX012      774\n",
       "J55660702XX012      567\n",
       "J55661002XX012      138\n",
       "Name: count, dtype: int64"
      ]
     },
     "execution_count": 35,
     "metadata": {},
     "output_type": "execute_result"
    }
   ],
   "execution_count": 35
  },
  {
   "metadata": {},
   "cell_type": "markdown",
   "source": "# Miss\n",
   "id": "ec4b1e9dffe1d82f"
  },
  {
   "metadata": {
    "ExecuteTime": {
     "end_time": "2024-05-08T18:19:14.167194Z",
     "start_time": "2024-05-08T18:19:14.073112Z"
    }
   },
   "cell_type": "code",
   "source": "training_window.columns[training_window.isnull().any()].tolist()",
   "id": "3a20e838bc50f1ad",
   "outputs": [
    {
     "data": {
      "text/plain": [
       "['SavingAccount_Balance_Average', 'Region', 'CreditCard_Product']"
      ]
     },
     "execution_count": 36,
     "metadata": {},
     "output_type": "execute_result"
    }
   ],
   "execution_count": 36
  },
  {
   "metadata": {
    "ExecuteTime": {
     "end_time": "2024-05-08T18:19:25.477816Z",
     "start_time": "2024-05-08T18:19:25.462818Z"
    }
   },
   "cell_type": "code",
   "source": "training_window[training_window.SavingAccount_Balance_Average.fillna(-9999) == -9999]",
   "id": "170fac84b97fc376",
   "outputs": [
    {
     "data": {
      "text/plain": [
       "       client_id  Target       Month First_product_dt Last_product_dt  \\\n",
       "50026    4473325     0.0  2018-12-01       2008-05-27      2017-05-18   \n",
       "50027    4837071     1.0  2018-12-01       2013-02-21      2018-09-04   \n",
       "50029    4525957     1.0  2019-01-01       2012-10-16      2016-08-31   \n",
       "139145   6412619     0.0  2019-01-01       2015-07-08      2018-06-02   \n",
       "\n",
       "       CreditCard_Premium CreditCard_Active CreditCard_CoBranding Loan_Active  \\\n",
       "50026                 Yes               Yes                    No          No   \n",
       "50027                  No                No                    No          No   \n",
       "50029                 Yes               Yes                    No          No   \n",
       "139145                 No                No                    No         Yes   \n",
       "\n",
       "       Mortgage_Active  ... CreditCard_Payment_Web CreditCard_Payment_ATM  \\\n",
       "50026               No  ...                    0.0                    0.0   \n",
       "50027               No  ...                    0.0                    0.0   \n",
       "50029               No  ...                    1.0                    0.0   \n",
       "139145              No  ...                    0.0                    0.0   \n",
       "\n",
       "       CreditCard_Payment_TAS Investment_Numbers Mobile Email Region  \\\n",
       "50026                     0.0                0.0    Yes   Yes    NaN   \n",
       "50027                     0.0                0.0    Yes   Yes    NaN   \n",
       "50029                     0.0                0.0    Yes   Yes    NaN   \n",
       "139145                    0.0                0.0    Yes    No    NaN   \n",
       "\n",
       "       CreditCard_Product q_months  TGT  \n",
       "50026                 NaN        9  0.0  \n",
       "50027                 NaN        9  1.0  \n",
       "50029                 NaN        9  1.0  \n",
       "139145                NaN        9  0.0  \n",
       "\n",
       "[4 rows x 79 columns]"
      ],
      "text/html": [
       "<div>\n",
       "<style scoped>\n",
       "    .dataframe tbody tr th:only-of-type {\n",
       "        vertical-align: middle;\n",
       "    }\n",
       "\n",
       "    .dataframe tbody tr th {\n",
       "        vertical-align: top;\n",
       "    }\n",
       "\n",
       "    .dataframe thead th {\n",
       "        text-align: right;\n",
       "    }\n",
       "</style>\n",
       "<table border=\"1\" class=\"dataframe\">\n",
       "  <thead>\n",
       "    <tr style=\"text-align: right;\">\n",
       "      <th></th>\n",
       "      <th>client_id</th>\n",
       "      <th>Target</th>\n",
       "      <th>Month</th>\n",
       "      <th>First_product_dt</th>\n",
       "      <th>Last_product_dt</th>\n",
       "      <th>CreditCard_Premium</th>\n",
       "      <th>CreditCard_Active</th>\n",
       "      <th>CreditCard_CoBranding</th>\n",
       "      <th>Loan_Active</th>\n",
       "      <th>Mortgage_Active</th>\n",
       "      <th>...</th>\n",
       "      <th>CreditCard_Payment_Web</th>\n",
       "      <th>CreditCard_Payment_ATM</th>\n",
       "      <th>CreditCard_Payment_TAS</th>\n",
       "      <th>Investment_Numbers</th>\n",
       "      <th>Mobile</th>\n",
       "      <th>Email</th>\n",
       "      <th>Region</th>\n",
       "      <th>CreditCard_Product</th>\n",
       "      <th>q_months</th>\n",
       "      <th>TGT</th>\n",
       "    </tr>\n",
       "  </thead>\n",
       "  <tbody>\n",
       "    <tr>\n",
       "      <th>50026</th>\n",
       "      <td>4473325</td>\n",
       "      <td>0.0</td>\n",
       "      <td>2018-12-01</td>\n",
       "      <td>2008-05-27</td>\n",
       "      <td>2017-05-18</td>\n",
       "      <td>Yes</td>\n",
       "      <td>Yes</td>\n",
       "      <td>No</td>\n",
       "      <td>No</td>\n",
       "      <td>No</td>\n",
       "      <td>...</td>\n",
       "      <td>0.0</td>\n",
       "      <td>0.0</td>\n",
       "      <td>0.0</td>\n",
       "      <td>0.0</td>\n",
       "      <td>Yes</td>\n",
       "      <td>Yes</td>\n",
       "      <td>NaN</td>\n",
       "      <td>NaN</td>\n",
       "      <td>9</td>\n",
       "      <td>0.0</td>\n",
       "    </tr>\n",
       "    <tr>\n",
       "      <th>50027</th>\n",
       "      <td>4837071</td>\n",
       "      <td>1.0</td>\n",
       "      <td>2018-12-01</td>\n",
       "      <td>2013-02-21</td>\n",
       "      <td>2018-09-04</td>\n",
       "      <td>No</td>\n",
       "      <td>No</td>\n",
       "      <td>No</td>\n",
       "      <td>No</td>\n",
       "      <td>No</td>\n",
       "      <td>...</td>\n",
       "      <td>0.0</td>\n",
       "      <td>0.0</td>\n",
       "      <td>0.0</td>\n",
       "      <td>0.0</td>\n",
       "      <td>Yes</td>\n",
       "      <td>Yes</td>\n",
       "      <td>NaN</td>\n",
       "      <td>NaN</td>\n",
       "      <td>9</td>\n",
       "      <td>1.0</td>\n",
       "    </tr>\n",
       "    <tr>\n",
       "      <th>50029</th>\n",
       "      <td>4525957</td>\n",
       "      <td>1.0</td>\n",
       "      <td>2019-01-01</td>\n",
       "      <td>2012-10-16</td>\n",
       "      <td>2016-08-31</td>\n",
       "      <td>Yes</td>\n",
       "      <td>Yes</td>\n",
       "      <td>No</td>\n",
       "      <td>No</td>\n",
       "      <td>No</td>\n",
       "      <td>...</td>\n",
       "      <td>1.0</td>\n",
       "      <td>0.0</td>\n",
       "      <td>0.0</td>\n",
       "      <td>0.0</td>\n",
       "      <td>Yes</td>\n",
       "      <td>Yes</td>\n",
       "      <td>NaN</td>\n",
       "      <td>NaN</td>\n",
       "      <td>9</td>\n",
       "      <td>1.0</td>\n",
       "    </tr>\n",
       "    <tr>\n",
       "      <th>139145</th>\n",
       "      <td>6412619</td>\n",
       "      <td>0.0</td>\n",
       "      <td>2019-01-01</td>\n",
       "      <td>2015-07-08</td>\n",
       "      <td>2018-06-02</td>\n",
       "      <td>No</td>\n",
       "      <td>No</td>\n",
       "      <td>No</td>\n",
       "      <td>Yes</td>\n",
       "      <td>No</td>\n",
       "      <td>...</td>\n",
       "      <td>0.0</td>\n",
       "      <td>0.0</td>\n",
       "      <td>0.0</td>\n",
       "      <td>0.0</td>\n",
       "      <td>Yes</td>\n",
       "      <td>No</td>\n",
       "      <td>NaN</td>\n",
       "      <td>NaN</td>\n",
       "      <td>9</td>\n",
       "      <td>0.0</td>\n",
       "    </tr>\n",
       "  </tbody>\n",
       "</table>\n",
       "<p>4 rows × 79 columns</p>\n",
       "</div>"
      ]
     },
     "execution_count": 37,
     "metadata": {},
     "output_type": "execute_result"
    }
   ],
   "execution_count": 37
  },
  {
   "metadata": {
    "ExecuteTime": {
     "end_time": "2024-05-08T18:20:01.892247Z",
     "start_time": "2024-05-08T18:20:01.878106Z"
    }
   },
   "cell_type": "code",
   "source": [
    "import numpy as np\n",
    "\n",
    "training_window['SavingAccount_Balance_Average'] = np.where(training_window.SavingAccount_Balance_Average.isnull(),\n",
    "                                                            training_window.SavingAccount_Balance_FirstDate - training_window.SavingAccount_Debits_Amounts + training_window.SavingAccount_Credits_Amounts,\n",
    "                                                            training_window.SavingAccount_Balance_Average)"
   ],
   "id": "30ed715ceb020dc1",
   "outputs": [],
   "execution_count": 38
  },
  {
   "metadata": {
    "ExecuteTime": {
     "end_time": "2024-05-08T18:20:31.293096Z",
     "start_time": "2024-05-08T18:20:31.281096Z"
    }
   },
   "cell_type": "code",
   "source": [
    "# Outliers\n",
    "training_window['SavingAccount_Days_with_use'].describe()"
   ],
   "id": "40192443c7ffd88",
   "outputs": [
    {
     "data": {
      "text/plain": [
       "count    139146.000000\n",
       "mean          2.512685\n",
       "std           3.831400\n",
       "min           0.000000\n",
       "25%           0.000000\n",
       "50%           0.000000\n",
       "75%           4.000000\n",
       "max          41.000000\n",
       "Name: SavingAccount_Days_with_use, dtype: float64"
      ]
     },
     "execution_count": 39,
     "metadata": {},
     "output_type": "execute_result"
    }
   ],
   "execution_count": 39
  },
  {
   "metadata": {
    "ExecuteTime": {
     "end_time": "2024-05-08T18:20:48.739956Z",
     "start_time": "2024-05-08T18:20:45.528327Z"
    }
   },
   "cell_type": "code",
   "source": [
    "import seaborn as sns\n",
    "import matplotlib.pyplot as plt\n",
    "\n",
    "# plot a distribution plot\n",
    "sns.displot(training_window['SavingAccount_Balance_Average'], kind='kde')\n",
    "\n",
    "# display the plot\n",
    "plt.show()"
   ],
   "id": "96fa89ed40f664cc",
   "outputs": [
    {
     "data": {
      "text/plain": [
       "<Figure size 500x500 with 1 Axes>"
      ],
      "image/png": "[encoded data removed]"
     },
     "metadata": {},
     "output_type": "display_data"
    }
   ],
   "execution_count": 40
  },
  {
   "metadata": {
    "ExecuteTime": {
     "end_time": "2024-05-08T18:21:04.169545Z",
     "start_time": "2024-05-08T18:21:04.044544Z"
    }
   },
   "cell_type": "code",
   "source": [
    "plt.boxplot(training_window['SavingAccount_Balance_Average'])\n",
    "\n",
    "# add labels for five number summary\n",
    "plt.text(x=1.1, y=training_window['SavingAccount_Balance_Average'].min(), s='min')\n",
    "plt.text(x=1.1, y=training_window['SavingAccount_Balance_Average'].quantile(0.25), s='Q1')\n",
    "plt.text(x=1.1, y=training_window['SavingAccount_Balance_Average'].median(), s='meadian (Q2)')\n",
    "plt.text(x=1.1, y=training_window['SavingAccount_Balance_Average'].quantile(0.75), s='Q3')\n",
    "plt.text(x=1.1, y=training_window['SavingAccount_Balance_Average'].max(), s='max')\n",
    "\n",
    "# add the graph title and axes labels\n",
    "plt.title('Boxplot of Total Bill Amount')\n",
    "plt.ylabel('Total bill')\n",
    "\n",
    "# display the plot\n",
    "plt.show()"
   ],
   "id": "152f49c3dd2aecb7",
   "outputs": [
    {
     "data": {
      "text/plain": [
       "<Figure size 640x480 with 1 Axes>"
      ],
      "image/png": "[encoded data removed]"
     },
     "metadata": {},
     "output_type": "display_data"
    }
   ],
   "execution_count": 41
  },
  {
   "metadata": {
    "ExecuteTime": {
     "end_time": "2024-05-08T18:21:34.017955Z",
     "start_time": "2024-05-08T18:21:34.002955Z"
    }
   },
   "cell_type": "code",
   "source": "training_window['SavingAccount_Balance_Average'].describe()",
   "id": "a06c5b64587cadcb",
   "outputs": [
    {
     "data": {
      "text/plain": [
       "count    1.391460e+05\n",
       "mean     4.094871e+03\n",
       "std      2.293939e+04\n",
       "min     -5.665900e+02\n",
       "25%      0.000000e+00\n",
       "50%      1.032500e+01\n",
       "75%      1.473138e+03\n",
       "max      1.771201e+06\n",
       "Name: SavingAccount_Balance_Average, dtype: float64"
      ]
     },
     "execution_count": 42,
     "metadata": {},
     "output_type": "execute_result"
    }
   ],
   "execution_count": 42
  },
  {
   "metadata": {
    "ExecuteTime": {
     "end_time": "2024-05-08T18:21:55.800107Z",
     "start_time": "2024-05-08T18:21:55.442106Z"
    }
   },
   "cell_type": "code",
   "source": [
    "# plot a distribution plot\n",
    "sns.displot(training_window['SavingAccount_Balance_Average'], kind='kde')\n",
    "\n",
    "# display the plot\n",
    "plt.show()"
   ],
   "id": "2097e46ccbf590e9",
   "outputs": [
    {
     "data": {
      "text/plain": [
       "<Figure size 500x500 with 1 Axes>"
      ],
      "image/png": "[encoded data removed]"
     },
     "metadata": {},
     "output_type": "display_data"
    }
   ],
   "execution_count": 43
  },
  {
   "metadata": {
    "ExecuteTime": {
     "end_time": "2024-05-08T18:22:46.668437Z",
     "start_time": "2024-05-08T18:22:46.656590Z"
    }
   },
   "cell_type": "code",
   "source": [
    "p95 = training_window['SavingAccount_Balance_Average'].quantile(0.95)\n",
    "p99 = training_window['SavingAccount_Balance_Average'].quantile(0.99)\n",
    "three_sigma = 3 * training_window['SavingAccount_Balance_Average'].std()\n",
    "\n",
    "print('p95         ', p95)\n",
    "print('p99         ', p99)\n",
    "print('Three sigma ', three_sigma)"
   ],
   "id": "ecdfe4e28e45f08c",
   "outputs": [
    {
     "name": "stdout",
     "output_type": "stream",
     "text": [
      "p95          17043.66\n",
      "p99          70055.67999999813\n",
      "Three sigma  68818.178586892\n"
     ]
    }
   ],
   "execution_count": 44
  },
  {
   "metadata": {
    "ExecuteTime": {
     "end_time": "2024-05-08T18:23:08.183587Z",
     "start_time": "2024-05-08T18:23:08.168592Z"
    }
   },
   "cell_type": "code",
   "source": [
    "training_window['SavingAccount_Balance_Average'] = np.where(\n",
    "    training_window['SavingAccount_Balance_Average'] > three_sigma,\n",
    "    three_sigma,\n",
    "    training_window['SavingAccount_Balance_Average'])\n",
    "\n",
    "training_window['SavingAccount_Balance_Average'].describe()"
   ],
   "id": "4e3443abe17e9d7",
   "outputs": [
    {
     "data": {
      "text/plain": [
       "count    139146.000000\n",
       "mean       3179.457488\n",
       "std        9821.897057\n",
       "min        -566.590000\n",
       "25%           0.000000\n",
       "50%          10.325000\n",
       "75%        1473.137500\n",
       "max       68818.178587\n",
       "Name: SavingAccount_Balance_Average, dtype: float64"
      ]
     },
     "execution_count": 45,
     "metadata": {},
     "output_type": "execute_result"
    }
   ],
   "execution_count": 45
  },
  {
   "metadata": {
    "ExecuteTime": {
     "end_time": "2024-05-08T18:23:32.080598Z",
     "start_time": "2024-05-08T18:23:31.238599Z"
    }
   },
   "cell_type": "code",
   "source": [
    "# plot a distribution plot\n",
    "sns.displot(training_window['SavingAccount_Balance_Average'], kind='kde')\n",
    "\n",
    "# display the plot\n",
    "plt.show()"
   ],
   "id": "97393c1d3d373b97",
   "outputs": [
    {
     "data": {
      "text/plain": [
       "<Figure size 500x500 with 1 Axes>"
      ],
      "image/png": "[encoded data removed]"
     },
     "metadata": {},
     "output_type": "display_data"
    }
   ],
   "execution_count": 46
  },
  {
   "metadata": {
    "ExecuteTime": {
     "end_time": "2024-05-08T18:23:41.526594Z",
     "start_time": "2024-05-08T18:23:41.511591Z"
    }
   },
   "cell_type": "code",
   "source": [
    "training_window['SavingAccount_Balance_Average'] = np.where(training_window['SavingAccount_Balance_Average'] > p95,\n",
    "                                                            p95,\n",
    "                                                            training_window['SavingAccount_Balance_Average'])\n",
    "\n",
    "training_window['SavingAccount_Balance_Average'].describe()"
   ],
   "id": "54aa2bcd0902d1aa",
   "outputs": [
    {
     "data": {
      "text/plain": [
       "count    139146.000000\n",
       "mean       2026.112910\n",
       "std        4351.634834\n",
       "min        -566.590000\n",
       "25%           0.000000\n",
       "50%          10.325000\n",
       "75%        1473.137500\n",
       "max       17043.660000\n",
       "Name: SavingAccount_Balance_Average, dtype: float64"
      ]
     },
     "execution_count": 47,
     "metadata": {},
     "output_type": "execute_result"
    }
   ],
   "execution_count": 47
  },
  {
   "metadata": {
    "ExecuteTime": {
     "end_time": "2024-05-08T18:23:49.925440Z",
     "start_time": "2024-05-08T18:23:48.814440Z"
    }
   },
   "cell_type": "code",
   "source": [
    "# plot a distribution plot\n",
    "sns.displot(training_window['SavingAccount_Balance_Average'], kind='kde')\n",
    "\n",
    "# display the plot\n",
    "plt.show()"
   ],
   "id": "dfab017dba95854d",
   "outputs": [
    {
     "data": {
      "text/plain": [
       "<Figure size 500x500 with 1 Axes>"
      ],
      "image/png": "[encoded data removed]"
     },
     "metadata": {},
     "output_type": "display_data"
    }
   ],
   "execution_count": 48
  },
  {
   "metadata": {
    "ExecuteTime": {
     "end_time": "2024-05-08T18:24:06.093097Z",
     "start_time": "2024-05-08T18:24:06.078097Z"
    }
   },
   "cell_type": "code",
   "source": "training_window['SavingAccount_Balance_Average'].describe()",
   "id": "86bdf69ba2f682a4",
   "outputs": [
    {
     "data": {
      "text/plain": [
       "count    139146.000000\n",
       "mean       2026.112910\n",
       "std        4351.634834\n",
       "min        -566.590000\n",
       "25%           0.000000\n",
       "50%          10.325000\n",
       "75%        1473.137500\n",
       "max       17043.660000\n",
       "Name: SavingAccount_Balance_Average, dtype: float64"
      ]
     },
     "execution_count": 49,
     "metadata": {},
     "output_type": "execute_result"
    }
   ],
   "execution_count": 49
  },
  {
   "metadata": {},
   "cell_type": "code",
   "outputs": [],
   "execution_count": null,
   "source": "",
   "id": "a5d0e7ae4f8f72e3"
  }
 ],
 "metadata": {
  "kernelspec": {
   "display_name": "ml",
   "language": "python",
   "name": "ml"
  },
  "language_info": {
   "codemirror_mode": {
    "name": "ipython",
    "version": 2
   },
   "file_extension": ".py",
   "mimetype": "text/x-python",
   "name": "python",
   "nbconvert_exporter": "python",
   "pygments_lexer": "ipython2",
   "version": "2.7.6"
  }
 },
 "nbformat": 4,
 "nbformat_minor": 5
}
