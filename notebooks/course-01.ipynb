{
 "cells": [
  {
   "cell_type": "markdown",
   "id": "9e878075dae30ce",
   "metadata": {},
   "source": [
    "# Jupyter Example\n",
    "\n",
    "A simple example of how to use `pandas`, `matplotlib`, and `seaborn` in a Jupyter Notebook. This code generates a bar plot of a dataset's values.\n",
    "\n",
    "At the start of your notebook, you need to import the needed libraries:"
   ]
  },
  {
   "cell_type": "code",
   "execution_count": 1,
   "id": "b5bf0e2deac643a1",
   "metadata": {
    "ExecuteTime": {
     "end_time": "2024-04-10T23:01:12.907430Z",
     "start_time": "2024-04-10T23:01:12.900423Z"
    }
   },
   "outputs": [],
   "source": [
    "import matplotlib.pyplot as plt\n",
    "import seaborn as sns"
   ]
  },
  {
   "cell_type": "markdown",
   "id": "e8d54fcdffc01239",
   "metadata": {},
   "source": [
    "Now, let's create or load up some data using pandas. In this case, let's use seaborn's built-in tips dataset:"
   ]
  },
  {
   "cell_type": "code",
   "execution_count": 2,
   "id": "cdad31c298150de",
   "metadata": {
    "ExecuteTime": {
     "end_time": "2024-04-10T23:01:12.922174Z",
     "start_time": "2024-04-10T23:01:12.909081Z"
    }
   },
   "outputs": [],
   "source": [
    "# Load example dataset\n",
    "df = sns.load_dataset('tips')"
   ]
  },
  {
   "cell_type": "markdown",
   "id": "bb6d75ebab0eddb4",
   "metadata": {},
   "source": [
    "This dataset contains information on tips collected from different customers at a restaurant.\n",
    "\n",
    "Now, let's plot some data using matplotlib and seaborn. Let's say we want to create a bar plot of the total bill amounts.\n",
    "\n",
    "\n",
    "> This code will create a bar plot, with each bar representing a day of the week, and the bar's height indicating the average total bill for that day.\n",
    "> Please make sure you have the required permissions and packages installed in your environment."
   ]
  },
  {
   "cell_type": "code",
   "execution_count": 3,
   "id": "ab020d99f542a3ed",
   "metadata": {
    "ExecuteTime": {
     "end_time": "2024-04-10T23:01:13.091080Z",
     "start_time": "2024-04-10T23:01:12.923071Z"
    }
   },
   "outputs": [
    {
     "data": {
      "image/png": "[encoded data removed]",
      "text/plain": [
       "<Figure size 640x480 with 1 Axes>"
      ]
     },
     "metadata": {},
     "output_type": "display_data"
    }
   ],
   "source": [
    "# Set the theme style of the plot\n",
    "sns.set_style('whitegrid')\n",
    "\n",
    "# Create a barplot\n",
    "sns.barplot(x=\"day\", y=\"total_bill\", data=df)\n",
    "\n",
    "# Show the plot\n",
    "plt.show()"
   ]
  }
 ],
 "metadata": {
  "kernelspec": {
   "display_name": "ml",
   "language": "python",
   "name": "ml"
  },
  "language_info": {
   "codemirror_mode": {
    "name": "ipython",
    "version": 3
   },
   "file_extension": ".py",
   "mimetype": "text/x-python",
   "name": "python",
   "nbconvert_exporter": "python",
   "pygments_lexer": "ipython3",
   "version": "3.10.5"
  }
 },
 "nbformat": 4,
 "nbformat_minor": 5
}
